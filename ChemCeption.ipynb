{
 "cells": [
  {
   "attachments": {},
   "cell_type": "markdown",
   "metadata": {},
   "source": [
    "# Reading and understanding the data"
   ]
  },
  {
   "cell_type": "code",
   "execution_count": 1,
   "metadata": {},
   "outputs": [
    {
     "data": {
      "text/html": [
       "<div>\n",
       "<style scoped>\n",
       "    .dataframe tbody tr th:only-of-type {\n",
       "        vertical-align: middle;\n",
       "    }\n",
       "\n",
       "    .dataframe tbody tr th {\n",
       "        vertical-align: top;\n",
       "    }\n",
       "\n",
       "    .dataframe thead th {\n",
       "        text-align: right;\n",
       "    }\n",
       "</style>\n",
       "<table border=\"1\" class=\"dataframe\">\n",
       "  <thead>\n",
       "    <tr style=\"text-align: right;\">\n",
       "      <th></th>\n",
       "      <th>smiles</th>\n",
       "      <th>label</th>\n",
       "    </tr>\n",
       "  </thead>\n",
       "  <tbody>\n",
       "    <tr>\n",
       "      <th>0</th>\n",
       "      <td>O=C(CON=Cc1ccccc1OC(F)F)NC1CCCCC1</td>\n",
       "      <td>0.0</td>\n",
       "    </tr>\n",
       "    <tr>\n",
       "      <th>1</th>\n",
       "      <td>COc1ccccc1CONC=NC(=O)c1c(OC)ccnc1Oc1ccc(F)cc1</td>\n",
       "      <td>0.0</td>\n",
       "    </tr>\n",
       "    <tr>\n",
       "      <th>2</th>\n",
       "      <td>CCCN(CC(=O)Nc1ccc(Cl)cc1Cl)C(=O)C=Cc1cc(OC)ccc1OC</td>\n",
       "      <td>1.0</td>\n",
       "    </tr>\n",
       "    <tr>\n",
       "      <th>3</th>\n",
       "      <td>CCOCCn1c(=NC(=O)CSCC(=O)N2CCOCC2)sc2cc(OC)ccc21</td>\n",
       "      <td>0.0</td>\n",
       "    </tr>\n",
       "    <tr>\n",
       "      <th>4</th>\n",
       "      <td>COCCNC(=O)C(C#N)=CC=Cc1ccccc1[N+](=O)[O-]</td>\n",
       "      <td>1.0</td>\n",
       "    </tr>\n",
       "  </tbody>\n",
       "</table>\n",
       "</div>"
      ],
      "text/plain": [
       "                                              smiles  label\n",
       "0                  O=C(CON=Cc1ccccc1OC(F)F)NC1CCCCC1    0.0\n",
       "1      COc1ccccc1CONC=NC(=O)c1c(OC)ccnc1Oc1ccc(F)cc1    0.0\n",
       "2  CCCN(CC(=O)Nc1ccc(Cl)cc1Cl)C(=O)C=Cc1cc(OC)ccc1OC    1.0\n",
       "3    CCOCCn1c(=NC(=O)CSCC(=O)N2CCOCC2)sc2cc(OC)ccc21    0.0\n",
       "4          COCCNC(=O)C(C#N)=CC=Cc1ccccc1[N+](=O)[O-]    1.0"
      ]
     },
     "execution_count": 1,
     "metadata": {},
     "output_type": "execute_result"
    }
   ],
   "source": [
    "import pandas as pd\n",
    "import numpy as np\n",
    "import rdkit\n",
    "from rdkit import Chem\n",
    "from chemception.chemception import Chemception\n",
    "from chemception.Featurizer import ChemCeptionizer\n",
    "from matplotlib import pyplot as plt\n",
    "from keras.callbacks import ReduceLROnPlateau\n",
    "\n",
    "train_df = pd.read_csv('data/train_aid686978.csv')\n",
    "# train_df = train_df.sample(frac=0.2)\n",
    "train_df.head()"
   ]
  },
  {
   "attachments": {},
   "cell_type": "markdown",
   "metadata": {},
   "source": [
    "`SMILES` are a way to represent molecules as strings. This represenation is a standard in the Chemistry community and is usually parsed to other representaions of the molecule. For example, the `RDKit` library can parse SMILES to a `Mol` object."
   ]
  },
  {
   "cell_type": "code",
   "execution_count": 2,
   "metadata": {},
   "outputs": [
    {
     "data": {
      "image/png": "[encoded data removed]",
      "text/plain": [
       "<rdkit.Chem.rdchem.Mol at 0x294c77350>"
      ]
     },
     "execution_count": 2,
     "metadata": {},
     "output_type": "execute_result"
    }
   ],
   "source": [
    "Chem.MolFromSmiles(train_df['smiles'].iloc[0])"
   ]
  },
  {
   "attachments": {},
   "cell_type": "markdown",
   "metadata": {},
   "source": [
    "We will use this represntation as a first step for our featurization. We will use the `RDKit` library to parse the SMILES to a `Mol` object for all the data."
   ]
  },
  {
   "cell_type": "code",
   "execution_count": 3,
   "metadata": {},
   "outputs": [],
   "source": [
    "train_df[\"mol\"] = train_df[\"smiles\"].apply(Chem.MolFromSmiles)"
   ]
  },
  {
   "attachments": {},
   "cell_type": "markdown",
   "metadata": {},
   "source": [
    "# Featurizing"
   ]
  },
  {
   "attachments": {},
   "cell_type": "markdown",
   "metadata": {},
   "source": [
    "The featurization process is the backbone of the paper we adopted, the paper chose certain feature that well describe the molecule and used them as features for the model. Which is inline with what we have learned in picking features for our data.\n",
    "\n",
    "Since we are using a `CNN` Model, our featurization method will be dependent on an image represtnation of the molecule. However, we do some feature engineering that extract important aspects of the molecule (`bonds order`, `atom types`, `hybridization`, and `gasteiger charges`) and use them as features for our model.\n",
    "\n",
    "\n",
    "![Alt text](images/Featurizer.png)"
   ]
  },
  {
   "cell_type": "code",
   "execution_count": 4,
   "metadata": {},
   "outputs": [],
   "source": [
    "# This is the featurizer we used, can be found in Featurizer.py\n",
    "featureizer = ChemCeptionizer(embed=25)\n",
    "\n",
    "# Featurize the molecules\n",
    "train_df[\"molimage\"] = train_df[\"mol\"].apply(featureizer.featurize)\n",
    "# pd.to_pickle(train_df, \"train_df.pkl\")\n",
    "\n",
    "# train_df = pd.read_pickle(\"train_df.pkl\")\n"
   ]
  },
  {
   "attachments": {},
   "cell_type": "markdown",
   "metadata": {},
   "source": [
    "### Visualize the results of the featurization process"
   ]
  },
  {
   "cell_type": "code",
   "execution_count": 5,
   "metadata": {},
   "outputs": [],
   "source": [
    "# def show_channel(v, channel_ind):\n",
    "#     \"\"\"\n",
    "#     Show a single channel of a 3D numpy array\n",
    "#     \"\"\"\n",
    "#     v_copy = np.zeros(shape=(v.shape[0], v.shape[1], 3))\n",
    "#     if channel_ind >= 3:\n",
    "#         v_copy[:,:,0] = v[:,:,channel_ind]/ np.max(v[:,:,channel_ind])\n",
    "#     else:\n",
    "#         v_copy[:,:,channel_ind] = v[:,:,channel_ind]/ np.max(v[:,:,channel_ind])\n",
    "        \n",
    "#     return v_copy\n",
    "\n",
    "\n",
    "# sample = train_df[\"molimage\"].iloc[1]\n",
    "# plt.imshow(sample)\n",
    "# ch1, ch2, ch3 = show_channel(sample, 0), show_channel(sample, 1), show_channel(sample, 2)\n",
    "# fig, ax = plt.subplots(2, 2, figsize=(15, 15))\n",
    "# ax[0, 0].imshow(ch1)\n",
    "# ax[0, 1].imshow(ch2)\n",
    "# ax[1, 0].imshow(ch3)\n",
    "# # ax[1, 1].imshow(ch4)\n",
    "# ax[0, 0].set_title(\"Bond Channel\")\n",
    "# ax[0, 1].set_title(\"Atomic Number Channel\")\n",
    "# ax[1, 0].set_title(\"Hybridization Channel\")\n",
    "# # ax[1, 1].set_title(\"Gasteiger Charge Channel\")"
   ]
  },
  {
   "cell_type": "code",
   "execution_count": 6,
   "metadata": {},
   "outputs": [
    {
     "data": {
      "text/plain": [
       "Text(0.5, 1.0, 'Molecule')"
      ]
     },
     "execution_count": 6,
     "metadata": {},
     "output_type": "execute_result"
    },
    {
     "data": {
      "image/png": "[encoded data removed]",
      "text/plain": [
       "<Figure size 1500x1500 with 4 Axes>"
      ]
     },
     "metadata": {},
     "output_type": "display_data"
    }
   ],
   "source": [
    "def show_channel(v, channel_ind):\n",
    "    \"\"\"\n",
    "    Show a single channel of a 3D numpy array\n",
    "    \"\"\"\n",
    "    v_copy = np.zeros(shape=(v.shape[0], v.shape[1], 3))\n",
    "    if channel_ind >= 3:\n",
    "        v_copy[:,:,0] = v[:,:,channel_ind]/ np.max(v[:,:,channel_ind])\n",
    "    else:\n",
    "        v_copy[:,:,channel_ind] = v[:,:,channel_ind]/ np.max(v[:,:,channel_ind])\n",
    "        \n",
    "    return v_copy\n",
    "\n",
    "\n",
    "sample = train_df[\"molimage\"].iloc[1]\n",
    "ch1, ch2, ch3 = show_channel(sample, 0), show_channel(sample, 1), show_channel(sample, 2)\n",
    "fig, ax = plt.subplots(1, 4, figsize=(15, 15))\n",
    "ax[0].imshow(sample)\n",
    "ax[1].imshow(ch1)\n",
    "ax[2].imshow(ch2)\n",
    "ax[3].imshow(ch3)\n",
    "ax[0].set_title(\"Molecule\")\n",
    "\n",
    "# ax[1, 1].set_title(\"Gasteiger Charge Channel\")"
   ]
  },
  {
   "attachments": {},
   "cell_type": "markdown",
   "metadata": {},
   "source": [
    "The featurization is working correctly, we proceed to model building"
   ]
  },
  {
   "attachments": {},
   "cell_type": "markdown",
   "metadata": {},
   "source": [
    "# Model Building"
   ]
  },
  {
   "attachments": {},
   "cell_type": "markdown",
   "metadata": {},
   "source": [
    "The model was adpoted directly from the paper with `N` being selected as `32`\n",
    "\n",
    "### `Block Architecture`\n",
    "![Alt text](images/model_block_arch.png)"
   ]
  },
  {
   "cell_type": "code",
   "execution_count": 7,
   "metadata": {},
   "outputs": [],
   "source": [
    "# from keras.optimizers import Adam\n",
    "# model = Chemception(N=256, reductionA_count=0, reductionB_count=0)\n",
    "# model = model.build()\n",
    "# model.compile(optimizer=Adam(learning_rate=.05), loss='binary_crossentropy', metrics=['accuracy'])\n",
    "# model.summary()"
   ]
  },
  {
   "attachments": {},
   "cell_type": "markdown",
   "metadata": {},
   "source": [
    "# Preparing generator and data for fitting"
   ]
  },
  {
   "attachments": {},
   "cell_type": "markdown",
   "metadata": {},
   "source": [
    "![Alt text](images/Featurizer.png)\n",
    "It can be observed from the above image the orientation difference between the original image and our featurization result. Since our featurization method in recontructing the molecule image using our selected features, we can assure the `0` intra-class variation, hence, we do not need augmentation."
   ]
  },
  {
   "cell_type": "code",
   "execution_count": 8,
   "metadata": {},
   "outputs": [],
   "source": [
    "# import keras\n",
    "# from keras.layers import Flatten\n",
    "\n",
    "# def Inception0(input):\n",
    "#     tower_1 = Conv2D(16, (1, 1), padding='same', activation='relu')(input)\n",
    "#     tower_1 = Conv2D(16, (3, 3), padding='same', activation='relu')(tower_1)\n",
    " \n",
    "#     tower_2 = Conv2D(16, (1, 1), padding='same', activation='relu')(input)\n",
    "#     tower_2 = Conv2D(16, (5, 5), padding='same', activation='relu')(tower_2)\n",
    " \n",
    "#     tower_3 = Conv2D(16, (1, 1), padding='same', activation='relu')(input)\n",
    " \n",
    "#     output = keras.layers.concatenate([tower_1, tower_2, tower_3], axis=-1)\n",
    "#     return output\n",
    "\n",
    "# def Inception(input):\n",
    "#     tower_1 = Conv2D(16, (1, 1), padding='same', activation='relu')(input)\n",
    "#     tower_1 = Conv2D(16, (3, 3), padding='same', activation='relu')(tower_1)\n",
    " \n",
    "#     tower_2 = Conv2D(16, (1, 1), padding='same', activation='relu')(input)\n",
    "#     tower_2 = Conv2D(16, (5, 5), padding='same', activation='relu')(tower_2)\n",
    " \n",
    "#     tower_3 = MaxPooling2D((3, 3), strides=(1, 1), padding='same')(input)\n",
    "#     tower_3 = Conv2D(16, (1, 1), padding='same', activation='relu')(tower_3)\n",
    " \n",
    "#     output = keras.layers.concatenate([tower_1, tower_2, tower_3], axis=-1)\n",
    "#     return output\n",
    "\n",
    "\n",
    "\n",
    "# input_img = Input(shape=X_train.shape[1:])\n",
    " \n",
    "# x = Inception0(input_img)\n",
    "# x = Inception(x)\n",
    "# x = Inception(x)\n",
    "# od=int(x.shape[1])\n",
    "# x = MaxPooling2D(pool_size=(od,od), strides=(1,1))(x)\n",
    "# x = Flatten()(x)\n",
    "# x = Dense(100, activation='relu')(x)\n",
    "# output = Dense(1, activation='sigmoid')(x)\n",
    " \n",
    "# model = Model(inputs=input_img, outputs=output)\n",
    "# optimizer = Adam(lr=0.00025)\n",
    "# model.compile(loss=\"binary_crossentropy\", optimizer=optimizer)\n",
    "# model.summary()"
   ]
  },
  {
   "cell_type": "code",
   "execution_count": 9,
   "metadata": {},
   "outputs": [],
   "source": [
    "from keras.preprocessing.image import ImageDataGenerator\n",
    "generator = ImageDataGenerator(data_format='channels_last')\n",
    "\n",
    "train_df.dropna(subset=[\"molimage\"], inplace=True)\n",
    "X_train = train_df[\"molimage\"].to_numpy()\n",
    "X_train = np.stack(X_train, axis=0)\n",
    "y_train = train_df[\"label\"]\n",
    "\n",
    "batch_size=32\n",
    "g = generator.flow(X_train, y_train, batch_size=batch_size, shuffle=True)\n",
    "\n"
   ]
  },
  {
   "attachments": {},
   "cell_type": "markdown",
   "metadata": {},
   "source": [
    "# Fit the model"
   ]
  },
  {
   "attachments": {},
   "cell_type": "markdown",
   "metadata": {},
   "source": [
    "#### Load validation data"
   ]
  },
  {
   "cell_type": "code",
   "execution_count": 10,
   "metadata": {},
   "outputs": [],
   "source": [
    "val_df = pd.read_csv('data/val_aid686978.csv')\n",
    "# val_df = val_df.sample(frac=0.2)\n",
    "val_df['mol'] = val_df['smiles'].apply(lambda x: Chem.MolFromSmiles(x))\n",
    "val_df['molimage'] = val_df['mol'].apply(featureizer.featurize)\n",
    "val_df.dropna(subset=[\"molimage\"], inplace=True)\n",
    "X_val = val_df[\"molimage\"].to_numpy()\n",
    "X_val = np.stack(X_val, axis=0)\n",
    "y_val = val_df[\"label\"]"
   ]
  },
  {
   "attachments": {},
   "cell_type": "markdown",
   "metadata": {},
   "source": [
    "##### Optimal config from hyperband and baysian optimization\n",
    "{'config': {'dense_layers': 3,\n",
    "  'dropout': 0.2,\n",
    "  'embed': 25,\n",
    "  'lr': 5e-06,\n",
    "  'neurons': 256},\n",
    " 'config_info': {'model_based_pick': True}}"
   ]
  },
  {
   "cell_type": "code",
   "execution_count": 11,
   "metadata": {},
   "outputs": [
    {
     "name": "stdout",
     "output_type": "stream",
     "text": [
      "Metal device set to: Apple M1 Pro\n",
      "\n",
      "systemMemory: 16.00 GB\n",
      "maxCacheSize: 5.33 GB\n",
      "\n"
     ]
    }
   ],
   "source": [
    "from chemception.chemception_transfer import Chemception\n",
    "from keras.optimizers import Adam\n",
    "model = Chemception(neurons=256, dropout=0.2, dense_layers=3, img_size=100)\n",
    "model = model.build()\n",
    "model.compile(optimizer=Adam(learning_rate= 0.5e-6), loss='binary_crossentropy', metrics=['accuracy'])"
   ]
  },
  {
   "cell_type": "code",
   "execution_count": 12,
   "metadata": {},
   "outputs": [
    {
     "name": "stdout",
     "output_type": "stream",
     "text": [
      "Epoch 1/50\n"
     ]
    },
    {
     "name": "stderr",
     "output_type": "stream",
     "text": [
      "2023-04-25 01:06:23.314042: W tensorflow/tsl/platform/profile_utils/cpu_utils.cc:128] Failed to get CPU frequency: 0 Hz\n"
     ]
    },
    {
     "name": "stdout",
     "output_type": "stream",
     "text": [
      "272/272 [==============================] - 15s 45ms/step - loss: 0.7265 - accuracy: 0.4809 - val_loss: 0.7040 - val_accuracy: 0.4722\n",
      "Epoch 2/50\n",
      "272/272 [==============================] - 10s 35ms/step - loss: 0.7268 - accuracy: 0.4812 - val_loss: 0.7027 - val_accuracy: 0.4802\n",
      "Epoch 3/50\n",
      "272/272 [==============================] - 9s 35ms/step - loss: 0.7246 - accuracy: 0.4764 - val_loss: 0.7014 - val_accuracy: 0.4813\n",
      "Epoch 4/50\n",
      "272/272 [==============================] - 9s 34ms/step - loss: 0.7176 - accuracy: 0.4896 - val_loss: 0.7003 - val_accuracy: 0.4914\n",
      "Epoch 5/50\n",
      "272/272 [==============================] - 9s 34ms/step - loss: 0.7156 - accuracy: 0.5008 - val_loss: 0.6993 - val_accuracy: 0.4909\n",
      "Epoch 6/50\n",
      "272/272 [==============================] - 9s 34ms/step - loss: 0.7144 - accuracy: 0.4991 - val_loss: 0.6983 - val_accuracy: 0.4909\n",
      "Epoch 7/50\n",
      "272/272 [==============================] - 9s 35ms/step - loss: 0.7120 - accuracy: 0.4982 - val_loss: 0.6972 - val_accuracy: 0.4930\n",
      "Epoch 8/50\n",
      "272/272 [==============================] - 9s 34ms/step - loss: 0.7081 - accuracy: 0.5079 - val_loss: 0.6962 - val_accuracy: 0.5000\n",
      "Epoch 9/50\n",
      "272/272 [==============================] - 9s 34ms/step - loss: 0.7098 - accuracy: 0.5040 - val_loss: 0.6953 - val_accuracy: 0.5032\n",
      "Epoch 10/50\n",
      "272/272 [==============================] - 9s 34ms/step - loss: 0.7081 - accuracy: 0.5100 - val_loss: 0.6944 - val_accuracy: 0.5107\n",
      "Epoch 11/50\n",
      "272/272 [==============================] - 9s 34ms/step - loss: 0.7043 - accuracy: 0.5124 - val_loss: 0.6935 - val_accuracy: 0.5160\n",
      "Epoch 12/50\n",
      "272/272 [==============================] - 9s 35ms/step - loss: 0.7059 - accuracy: 0.5090 - val_loss: 0.6926 - val_accuracy: 0.5209\n",
      "Epoch 13/50\n",
      "272/272 [==============================] - 10s 36ms/step - loss: 0.7075 - accuracy: 0.5015 - val_loss: 0.6918 - val_accuracy: 0.5289\n",
      "Epoch 14/50\n",
      "272/272 [==============================] - 10s 36ms/step - loss: 0.7043 - accuracy: 0.5087 - val_loss: 0.6910 - val_accuracy: 0.5326\n",
      "Epoch 15/50\n",
      "272/272 [==============================] - 9s 35ms/step - loss: 0.7025 - accuracy: 0.5100 - val_loss: 0.6902 - val_accuracy: 0.5358\n",
      "Epoch 16/50\n",
      "272/272 [==============================] - 9s 35ms/step - loss: 0.7043 - accuracy: 0.5118 - val_loss: 0.6894 - val_accuracy: 0.5401\n",
      "Epoch 17/50\n",
      "272/272 [==============================] - 10s 35ms/step - loss: 0.6985 - accuracy: 0.5203 - val_loss: 0.6887 - val_accuracy: 0.5412\n",
      "Epoch 18/50\n",
      "272/272 [==============================] - 10s 36ms/step - loss: 0.6998 - accuracy: 0.5200 - val_loss: 0.6880 - val_accuracy: 0.5422\n",
      "Epoch 19/50\n",
      "213/272 [======================>.......] - ETA: 1s - loss: 0.6991 - accuracy: 0.5232"
     ]
    },
    {
     "ename": "KeyboardInterrupt",
     "evalue": "",
     "output_type": "error",
     "traceback": [
      "\u001b[0;31m---------------------------------------------------------------------------\u001b[0m",
      "\u001b[0;31mKeyboardInterrupt\u001b[0m                         Traceback (most recent call last)",
      "Cell \u001b[0;32mIn[12], line 1\u001b[0m\n\u001b[0;32m----> 1\u001b[0m model\u001b[39m.\u001b[39;49mfit(g, epochs\u001b[39m=\u001b[39;49m\u001b[39m50\u001b[39;49m, steps_per_epoch\u001b[39m=\u001b[39;49m\u001b[39mlen\u001b[39;49m(X_train)\u001b[39m/\u001b[39;49mbatch_size, validation_data\u001b[39m=\u001b[39;49m(X_val, y_val))\n",
      "File \u001b[0;32m/opt/miniconda3/lib/python3.9/site-packages/keras/utils/traceback_utils.py:65\u001b[0m, in \u001b[0;36mfilter_traceback.<locals>.error_handler\u001b[0;34m(*args, **kwargs)\u001b[0m\n\u001b[1;32m     63\u001b[0m filtered_tb \u001b[39m=\u001b[39m \u001b[39mNone\u001b[39;00m\n\u001b[1;32m     64\u001b[0m \u001b[39mtry\u001b[39;00m:\n\u001b[0;32m---> 65\u001b[0m     \u001b[39mreturn\u001b[39;00m fn(\u001b[39m*\u001b[39;49margs, \u001b[39m*\u001b[39;49m\u001b[39m*\u001b[39;49mkwargs)\n\u001b[1;32m     66\u001b[0m \u001b[39mexcept\u001b[39;00m \u001b[39mException\u001b[39;00m \u001b[39mas\u001b[39;00m e:\n\u001b[1;32m     67\u001b[0m     filtered_tb \u001b[39m=\u001b[39m _process_traceback_frames(e\u001b[39m.\u001b[39m__traceback__)\n",
      "File \u001b[0;32m/opt/miniconda3/lib/python3.9/site-packages/keras/engine/training.py:1685\u001b[0m, in \u001b[0;36mModel.fit\u001b[0;34m(self, x, y, batch_size, epochs, verbose, callbacks, validation_split, validation_data, shuffle, class_weight, sample_weight, initial_epoch, steps_per_epoch, validation_steps, validation_batch_size, validation_freq, max_queue_size, workers, use_multiprocessing)\u001b[0m\n\u001b[1;32m   1677\u001b[0m \u001b[39mwith\u001b[39;00m tf\u001b[39m.\u001b[39mprofiler\u001b[39m.\u001b[39mexperimental\u001b[39m.\u001b[39mTrace(\n\u001b[1;32m   1678\u001b[0m     \u001b[39m\"\u001b[39m\u001b[39mtrain\u001b[39m\u001b[39m\"\u001b[39m,\n\u001b[1;32m   1679\u001b[0m     epoch_num\u001b[39m=\u001b[39mepoch,\n\u001b[0;32m   (...)\u001b[0m\n\u001b[1;32m   1682\u001b[0m     _r\u001b[39m=\u001b[39m\u001b[39m1\u001b[39m,\n\u001b[1;32m   1683\u001b[0m ):\n\u001b[1;32m   1684\u001b[0m     callbacks\u001b[39m.\u001b[39mon_train_batch_begin(step)\n\u001b[0;32m-> 1685\u001b[0m     tmp_logs \u001b[39m=\u001b[39m \u001b[39mself\u001b[39;49m\u001b[39m.\u001b[39;49mtrain_function(iterator)\n\u001b[1;32m   1686\u001b[0m     \u001b[39mif\u001b[39;00m data_handler\u001b[39m.\u001b[39mshould_sync:\n\u001b[1;32m   1687\u001b[0m         context\u001b[39m.\u001b[39masync_wait()\n",
      "File \u001b[0;32m/opt/miniconda3/lib/python3.9/site-packages/tensorflow/python/util/traceback_utils.py:150\u001b[0m, in \u001b[0;36mfilter_traceback.<locals>.error_handler\u001b[0;34m(*args, **kwargs)\u001b[0m\n\u001b[1;32m    148\u001b[0m filtered_tb \u001b[39m=\u001b[39m \u001b[39mNone\u001b[39;00m\n\u001b[1;32m    149\u001b[0m \u001b[39mtry\u001b[39;00m:\n\u001b[0;32m--> 150\u001b[0m   \u001b[39mreturn\u001b[39;00m fn(\u001b[39m*\u001b[39;49margs, \u001b[39m*\u001b[39;49m\u001b[39m*\u001b[39;49mkwargs)\n\u001b[1;32m    151\u001b[0m \u001b[39mexcept\u001b[39;00m \u001b[39mException\u001b[39;00m \u001b[39mas\u001b[39;00m e:\n\u001b[1;32m    152\u001b[0m   filtered_tb \u001b[39m=\u001b[39m _process_traceback_frames(e\u001b[39m.\u001b[39m__traceback__)\n",
      "File \u001b[0;32m/opt/miniconda3/lib/python3.9/site-packages/tensorflow/python/eager/polymorphic_function/polymorphic_function.py:894\u001b[0m, in \u001b[0;36mFunction.__call__\u001b[0;34m(self, *args, **kwds)\u001b[0m\n\u001b[1;32m    891\u001b[0m compiler \u001b[39m=\u001b[39m \u001b[39m\"\u001b[39m\u001b[39mxla\u001b[39m\u001b[39m\"\u001b[39m \u001b[39mif\u001b[39;00m \u001b[39mself\u001b[39m\u001b[39m.\u001b[39m_jit_compile \u001b[39melse\u001b[39;00m \u001b[39m\"\u001b[39m\u001b[39mnonXla\u001b[39m\u001b[39m\"\u001b[39m\n\u001b[1;32m    893\u001b[0m \u001b[39mwith\u001b[39;00m OptionalXlaContext(\u001b[39mself\u001b[39m\u001b[39m.\u001b[39m_jit_compile):\n\u001b[0;32m--> 894\u001b[0m   result \u001b[39m=\u001b[39m \u001b[39mself\u001b[39;49m\u001b[39m.\u001b[39;49m_call(\u001b[39m*\u001b[39;49margs, \u001b[39m*\u001b[39;49m\u001b[39m*\u001b[39;49mkwds)\n\u001b[1;32m    896\u001b[0m new_tracing_count \u001b[39m=\u001b[39m \u001b[39mself\u001b[39m\u001b[39m.\u001b[39mexperimental_get_tracing_count()\n\u001b[1;32m    897\u001b[0m without_tracing \u001b[39m=\u001b[39m (tracing_count \u001b[39m==\u001b[39m new_tracing_count)\n",
      "File \u001b[0;32m/opt/miniconda3/lib/python3.9/site-packages/tensorflow/python/eager/polymorphic_function/polymorphic_function.py:926\u001b[0m, in \u001b[0;36mFunction._call\u001b[0;34m(self, *args, **kwds)\u001b[0m\n\u001b[1;32m    923\u001b[0m   \u001b[39mself\u001b[39m\u001b[39m.\u001b[39m_lock\u001b[39m.\u001b[39mrelease()\n\u001b[1;32m    924\u001b[0m   \u001b[39m# In this case we have created variables on the first call, so we run the\u001b[39;00m\n\u001b[1;32m    925\u001b[0m   \u001b[39m# defunned version which is guaranteed to never create variables.\u001b[39;00m\n\u001b[0;32m--> 926\u001b[0m   \u001b[39mreturn\u001b[39;00m \u001b[39mself\u001b[39;49m\u001b[39m.\u001b[39;49m_no_variable_creation_fn(\u001b[39m*\u001b[39;49margs, \u001b[39m*\u001b[39;49m\u001b[39m*\u001b[39;49mkwds)  \u001b[39m# pylint: disable=not-callable\u001b[39;00m\n\u001b[1;32m    927\u001b[0m \u001b[39melif\u001b[39;00m \u001b[39mself\u001b[39m\u001b[39m.\u001b[39m_variable_creation_fn \u001b[39mis\u001b[39;00m \u001b[39mnot\u001b[39;00m \u001b[39mNone\u001b[39;00m:\n\u001b[1;32m    928\u001b[0m   \u001b[39m# Release the lock early so that multiple threads can perform the call\u001b[39;00m\n\u001b[1;32m    929\u001b[0m   \u001b[39m# in parallel.\u001b[39;00m\n\u001b[1;32m    930\u001b[0m   \u001b[39mself\u001b[39m\u001b[39m.\u001b[39m_lock\u001b[39m.\u001b[39mrelease()\n",
      "File \u001b[0;32m/opt/miniconda3/lib/python3.9/site-packages/tensorflow/python/eager/polymorphic_function/tracing_compiler.py:143\u001b[0m, in \u001b[0;36mTracingCompiler.__call__\u001b[0;34m(self, *args, **kwargs)\u001b[0m\n\u001b[1;32m    140\u001b[0m \u001b[39mwith\u001b[39;00m \u001b[39mself\u001b[39m\u001b[39m.\u001b[39m_lock:\n\u001b[1;32m    141\u001b[0m   (concrete_function,\n\u001b[1;32m    142\u001b[0m    filtered_flat_args) \u001b[39m=\u001b[39m \u001b[39mself\u001b[39m\u001b[39m.\u001b[39m_maybe_define_function(args, kwargs)\n\u001b[0;32m--> 143\u001b[0m \u001b[39mreturn\u001b[39;00m concrete_function\u001b[39m.\u001b[39;49m_call_flat(\n\u001b[1;32m    144\u001b[0m     filtered_flat_args, captured_inputs\u001b[39m=\u001b[39;49mconcrete_function\u001b[39m.\u001b[39;49mcaptured_inputs)\n",
      "File \u001b[0;32m/opt/miniconda3/lib/python3.9/site-packages/tensorflow/python/eager/polymorphic_function/monomorphic_function.py:1757\u001b[0m, in \u001b[0;36mConcreteFunction._call_flat\u001b[0;34m(self, args, captured_inputs, cancellation_manager)\u001b[0m\n\u001b[1;32m   1753\u001b[0m possible_gradient_type \u001b[39m=\u001b[39m gradients_util\u001b[39m.\u001b[39mPossibleTapeGradientTypes(args)\n\u001b[1;32m   1754\u001b[0m \u001b[39mif\u001b[39;00m (possible_gradient_type \u001b[39m==\u001b[39m gradients_util\u001b[39m.\u001b[39mPOSSIBLE_GRADIENT_TYPES_NONE\n\u001b[1;32m   1755\u001b[0m     \u001b[39mand\u001b[39;00m executing_eagerly):\n\u001b[1;32m   1756\u001b[0m   \u001b[39m# No tape is watching; skip to running the function.\u001b[39;00m\n\u001b[0;32m-> 1757\u001b[0m   \u001b[39mreturn\u001b[39;00m \u001b[39mself\u001b[39m\u001b[39m.\u001b[39m_build_call_outputs(\u001b[39mself\u001b[39;49m\u001b[39m.\u001b[39;49m_inference_function\u001b[39m.\u001b[39;49mcall(\n\u001b[1;32m   1758\u001b[0m       ctx, args, cancellation_manager\u001b[39m=\u001b[39;49mcancellation_manager))\n\u001b[1;32m   1759\u001b[0m forward_backward \u001b[39m=\u001b[39m \u001b[39mself\u001b[39m\u001b[39m.\u001b[39m_select_forward_and_backward_functions(\n\u001b[1;32m   1760\u001b[0m     args,\n\u001b[1;32m   1761\u001b[0m     possible_gradient_type,\n\u001b[1;32m   1762\u001b[0m     executing_eagerly)\n\u001b[1;32m   1763\u001b[0m forward_function, args_with_tangents \u001b[39m=\u001b[39m forward_backward\u001b[39m.\u001b[39mforward()\n",
      "File \u001b[0;32m/opt/miniconda3/lib/python3.9/site-packages/tensorflow/python/eager/polymorphic_function/monomorphic_function.py:381\u001b[0m, in \u001b[0;36m_EagerDefinedFunction.call\u001b[0;34m(self, ctx, args, cancellation_manager)\u001b[0m\n\u001b[1;32m    379\u001b[0m \u001b[39mwith\u001b[39;00m _InterpolateFunctionError(\u001b[39mself\u001b[39m):\n\u001b[1;32m    380\u001b[0m   \u001b[39mif\u001b[39;00m cancellation_manager \u001b[39mis\u001b[39;00m \u001b[39mNone\u001b[39;00m:\n\u001b[0;32m--> 381\u001b[0m     outputs \u001b[39m=\u001b[39m execute\u001b[39m.\u001b[39;49mexecute(\n\u001b[1;32m    382\u001b[0m         \u001b[39mstr\u001b[39;49m(\u001b[39mself\u001b[39;49m\u001b[39m.\u001b[39;49msignature\u001b[39m.\u001b[39;49mname),\n\u001b[1;32m    383\u001b[0m         num_outputs\u001b[39m=\u001b[39;49m\u001b[39mself\u001b[39;49m\u001b[39m.\u001b[39;49m_num_outputs,\n\u001b[1;32m    384\u001b[0m         inputs\u001b[39m=\u001b[39;49margs,\n\u001b[1;32m    385\u001b[0m         attrs\u001b[39m=\u001b[39;49mattrs,\n\u001b[1;32m    386\u001b[0m         ctx\u001b[39m=\u001b[39;49mctx)\n\u001b[1;32m    387\u001b[0m   \u001b[39melse\u001b[39;00m:\n\u001b[1;32m    388\u001b[0m     outputs \u001b[39m=\u001b[39m execute\u001b[39m.\u001b[39mexecute_with_cancellation(\n\u001b[1;32m    389\u001b[0m         \u001b[39mstr\u001b[39m(\u001b[39mself\u001b[39m\u001b[39m.\u001b[39msignature\u001b[39m.\u001b[39mname),\n\u001b[1;32m    390\u001b[0m         num_outputs\u001b[39m=\u001b[39m\u001b[39mself\u001b[39m\u001b[39m.\u001b[39m_num_outputs,\n\u001b[0;32m   (...)\u001b[0m\n\u001b[1;32m    393\u001b[0m         ctx\u001b[39m=\u001b[39mctx,\n\u001b[1;32m    394\u001b[0m         cancellation_manager\u001b[39m=\u001b[39mcancellation_manager)\n",
      "File \u001b[0;32m/opt/miniconda3/lib/python3.9/site-packages/tensorflow/python/eager/execute.py:52\u001b[0m, in \u001b[0;36mquick_execute\u001b[0;34m(op_name, num_outputs, inputs, attrs, ctx, name)\u001b[0m\n\u001b[1;32m     50\u001b[0m \u001b[39mtry\u001b[39;00m:\n\u001b[1;32m     51\u001b[0m   ctx\u001b[39m.\u001b[39mensure_initialized()\n\u001b[0;32m---> 52\u001b[0m   tensors \u001b[39m=\u001b[39m pywrap_tfe\u001b[39m.\u001b[39;49mTFE_Py_Execute(ctx\u001b[39m.\u001b[39;49m_handle, device_name, op_name,\n\u001b[1;32m     53\u001b[0m                                       inputs, attrs, num_outputs)\n\u001b[1;32m     54\u001b[0m \u001b[39mexcept\u001b[39;00m core\u001b[39m.\u001b[39m_NotOkStatusException \u001b[39mas\u001b[39;00m e:\n\u001b[1;32m     55\u001b[0m   \u001b[39mif\u001b[39;00m name \u001b[39mis\u001b[39;00m \u001b[39mnot\u001b[39;00m \u001b[39mNone\u001b[39;00m:\n",
      "\u001b[0;31mKeyboardInterrupt\u001b[0m: "
     ]
    }
   ],
   "source": [
    "model.fit(g, epochs=50, steps_per_epoch=len(X_train)/batch_size, validation_data=(X_val, y_val))"
   ]
  },
  {
   "cell_type": "code",
   "execution_count": null,
   "metadata": {},
   "outputs": [],
   "source": [
    "\n",
    "# steps_per_epoch = X_train.shape[0]//batch_size\n",
    "# reduce_lr = ReduceLROnPlateau(monitor='val_loss', factor=0.5,patience=10, min_lr=1e-6, verbose=1)\n",
    "\n",
    "\n",
    "# history = model.fit(g,\n",
    "#                     steps_per_epoch=steps_per_epoch,\n",
    "#                     epochs=100, verbose=2,\n",
    "#                     validation_data=(X_val, y_val),\n",
    "#                     callbacks=[reduce_lr]\n",
    "#                     )"
   ]
  },
  {
   "attachments": {},
   "cell_type": "markdown",
   "metadata": {},
   "source": [
    "# Plot the history"
   ]
  },
  {
   "cell_type": "code",
   "execution_count": null,
   "metadata": {},
   "outputs": [
    {
     "ename": "NameError",
     "evalue": "name 'history' is not defined",
     "output_type": "error",
     "traceback": [
      "\u001b[0;31m---------------------------------------------------------------------------\u001b[0m",
      "\u001b[0;31mNameError\u001b[0m                                 Traceback (most recent call last)",
      "Cell \u001b[0;32mIn[14], line 2\u001b[0m\n\u001b[1;32m      1\u001b[0m \u001b[39mimport\u001b[39;00m \u001b[39mmatplotlib\u001b[39;00m\u001b[39m.\u001b[39;00m\u001b[39mpyplot\u001b[39;00m \u001b[39mas\u001b[39;00m \u001b[39mplt\u001b[39;00m\n\u001b[0;32m----> 2\u001b[0m plt\u001b[39m.\u001b[39mplot(history\u001b[39m.\u001b[39mhistory[\u001b[39m'\u001b[39m\u001b[39mloss\u001b[39m\u001b[39m'\u001b[39m], label \u001b[39m=\u001b[39m \u001b[39m'\u001b[39m\u001b[39mloss\u001b[39m\u001b[39m'\u001b[39m)\n\u001b[1;32m      3\u001b[0m plt\u001b[39m.\u001b[39mlegend()\n\u001b[1;32m      4\u001b[0m plt\u001b[39m.\u001b[39myscale(\u001b[39m\"\u001b[39m\u001b[39mlog\u001b[39m\u001b[39m\"\u001b[39m)\n",
      "\u001b[0;31mNameError\u001b[0m: name 'history' is not defined"
     ]
    }
   ],
   "source": [
    "import matplotlib.pyplot as plt\n",
    "plt.plot(history.history['loss'], label = 'loss')\n",
    "plt.legend()\n",
    "plt.yscale(\"log\")"
   ]
  },
  {
   "attachments": {},
   "cell_type": "markdown",
   "metadata": {},
   "source": [
    "# Test the model on test data"
   ]
  },
  {
   "cell_type": "code",
   "execution_count": null,
   "metadata": {},
   "outputs": [
    {
     "name": "stderr",
     "output_type": "stream",
     "text": [
      "[19:29:03] WARNING: not removing hydrogen atom without neighbors\n"
     ]
    }
   ],
   "source": [
    "test_df = pd.read_csv('data/test_aid686978.csv')\n",
    "# test_df = test_df.sample(frac=0.2)\n",
    "test_df['mol'] = test_df['smiles'].apply(lambda x: Chem.MolFromSmiles(x))\n",
    "test_df['molimage'] = test_df['mol'].apply(featureizer.featurize)\n",
    "test_df.dropna(subset=[\"molimage\"], inplace=True)\n",
    "X_test = np.array(list(test_df[\"molimage\"]))\n",
    "y_test = test_df[\"label\"]"
   ]
  },
  {
   "cell_type": "code",
   "execution_count": null,
   "metadata": {},
   "outputs": [
    {
     "name": "stdout",
     "output_type": "stream",
     "text": [
      "58/58 [==============================] - 1s 15ms/step - loss: 0.6931 - accuracy: 0.5033\n"
     ]
    },
    {
     "data": {
      "text/plain": [
       "[0.693132221698761, 0.5032538175582886]"
      ]
     },
     "execution_count": 13,
     "metadata": {},
     "output_type": "execute_result"
    }
   ],
   "source": [
    "model.evaluate(X_test, y_test)"
   ]
  },
  {
   "attachments": {},
   "cell_type": "markdown",
   "metadata": {},
   "source": [
    "# Kernel Visualization"
   ]
  },
  {
   "attachments": {},
   "cell_type": "markdown",
   "metadata": {},
   "source": [
    "# Comparing other models"
   ]
  },
  {
   "attachments": {},
   "cell_type": "markdown",
   "metadata": {},
   "source": [
    "### Random Forest"
   ]
  },
  {
   "cell_type": "code",
   "execution_count": null,
   "metadata": {},
   "outputs": [
    {
     "name": "stderr",
     "output_type": "stream",
     "text": [
      "\u001b[34m\u001b[1mwandb\u001b[0m: \u001b[33mWARNING\u001b[0m W&B installed but not logged in.  Run `wandb login` or set the WANDB_API_KEY env variable.\n",
      "\u001b[34m\u001b[1mwandb\u001b[0m: \u001b[33mWARNING\u001b[0m W&B installed but not logged in.  Run `wandb login` or set the WANDB_API_KEY env variable.\n",
      "Skipped loading modules with pytorch-geometric dependency, missing a dependency. No module named 'torch_geometric'\n",
      "Skipped loading modules with pytorch-geometric dependency, missing a dependency. cannot import name 'DMPNN' from 'deepchem.models.torch_models' (/opt/miniconda3/lib/python3.9/site-packages/deepchem/models/torch_models/__init__.py)\n",
      "Skipped loading modules with pytorch-lightning dependency, missing a dependency. No module named 'pytorch_lightning'\n",
      "Skipped loading some Jax models, missing a dependency. jax requires jaxlib to be installed. See https://github.com/google/jax#installation for installation instructions.\n",
      "[19:29:29] WARNING: not removing hydrogen atom without neighbors\n"
     ]
    },
    {
     "data": {
      "text/plain": [
       "0.6751626898047722"
      ]
     },
     "execution_count": 14,
     "metadata": {},
     "output_type": "execute_result"
    }
   ],
   "source": [
    "from sklearn.ensemble import RandomForestClassifier\n",
    "from deepchem.feat import CircularFingerprint\n",
    "\n",
    "featurizer = CircularFingerprint(size=1024)\n",
    "X_train, y_train = featurizer.featurize(train_df[\"smiles\"]), train_df[\"label\"]\n",
    "X_val, y_val = featurizer.featurize(val_df[\"smiles\"]), val_df[\"label\"]\n",
    "X_test, y_test = featurizer.featurize(test_df[\"smiles\"]), test_df[\"label\"]\n",
    "\n",
    "rf = RandomForestClassifier(n_estimators=100, max_depth=10, random_state=0)\n",
    "rf.fit(X_train, y_train)\n",
    "\n",
    "rf.score(X_test, y_test)"
   ]
  },
  {
   "attachments": {},
   "cell_type": "markdown",
   "metadata": {},
   "source": [
    "### Graph Convolutional Network"
   ]
  },
  {
   "cell_type": "code",
   "execution_count": null,
   "metadata": {},
   "outputs": [
    {
     "name": "stderr",
     "output_type": "stream",
     "text": [
      "[19:30:00] WARNING: not removing hydrogen atom without neighbors\n"
     ]
    },
    {
     "ename": "TypeError",
     "evalue": "fit() got multiple values for argument 'nb_epoch'",
     "output_type": "error",
     "traceback": [
      "\u001b[0;31m---------------------------------------------------------------------------\u001b[0m",
      "\u001b[0;31mTypeError\u001b[0m                                 Traceback (most recent call last)",
      "Cell \u001b[0;32mIn[15], line 10\u001b[0m\n\u001b[1;32m      7\u001b[0m X_test, y_test \u001b[39m=\u001b[39m featurizer\u001b[39m.\u001b[39mfeaturize(test_df[\u001b[39m\"\u001b[39m\u001b[39msmiles\u001b[39m\u001b[39m\"\u001b[39m]), test_df[\u001b[39m\"\u001b[39m\u001b[39mlabel\u001b[39m\u001b[39m\"\u001b[39m]\n\u001b[1;32m      9\u001b[0m model \u001b[39m=\u001b[39m GraphConvModel(n_tasks\u001b[39m=\u001b[39m\u001b[39m1\u001b[39m, mode\u001b[39m=\u001b[39m\u001b[39m'\u001b[39m\u001b[39mclassification\u001b[39m\u001b[39m'\u001b[39m, dropout\u001b[39m=\u001b[39m\u001b[39m0.2\u001b[39m)\n\u001b[0;32m---> 10\u001b[0m model\u001b[39m.\u001b[39;49mfit(X_train, y_train, nb_epoch\u001b[39m=\u001b[39;49m\u001b[39m100\u001b[39;49m)\n\u001b[1;32m     13\u001b[0m model\u001b[39m.\u001b[39mevaluate(X_test, y_test)\n",
      "\u001b[0;31mTypeError\u001b[0m: fit() got multiple values for argument 'nb_epoch'"
     ]
    }
   ],
   "source": [
    "from deepchem.models import GraphConvModel\n",
    "from deepchem.feat import ConvMolFeaturizer\n",
    "\n",
    "featurizer = ConvMolFeaturizer()\n",
    "X_train, y_train = featurizer.featurize(train_df[\"smiles\"]), train_df[\"label\"]\n",
    "X_val, y_val = featurizer.featurize(val_df[\"smiles\"]), val_df[\"label\"]\n",
    "X_test, y_test = featurizer.featurize(test_df[\"smiles\"]), test_df[\"label\"]\n",
    "\n",
    "model = GraphConvModel(n_tasks=1, mode='classification', dropout=0.2)\n",
    "model.fit(X_train, y_train, nb_epoch=100)\n",
    "\n",
    "\n",
    "model.evaluate(X_test, y_test)"
   ]
  }
 ],
 "metadata": {
  "kernelspec": {
   "display_name": "base",
   "language": "python",
   "name": "python3"
  },
  "language_info": {
   "codemirror_mode": {
    "name": "ipython",
    "version": 3
   },
   "file_extension": ".py",
   "mimetype": "text/x-python",
   "name": "python",
   "nbconvert_exporter": "python",
   "pygments_lexer": "ipython3",
   "version": "3.9.12"
  },
  "orig_nbformat": 4
 },
 "nbformat": 4,
 "nbformat_minor": 2
}
