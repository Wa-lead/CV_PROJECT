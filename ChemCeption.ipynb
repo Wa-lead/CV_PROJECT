{
 "cells": [
  {
   "attachments": {},
   "cell_type": "markdown",
   "metadata": {},
   "source": [
    "# Reading and understanding the data"
   ]
  },
  {
   "cell_type": "code",
   "execution_count": 1,
   "metadata": {},
   "outputs": [
    {
     "data": {
      "text/html": [
       "<div>\n",
       "<style scoped>\n",
       "    .dataframe tbody tr th:only-of-type {\n",
       "        vertical-align: middle;\n",
       "    }\n",
       "\n",
       "    .dataframe tbody tr th {\n",
       "        vertical-align: top;\n",
       "    }\n",
       "\n",
       "    .dataframe thead th {\n",
       "        text-align: right;\n",
       "    }\n",
       "</style>\n",
       "<table border=\"1\" class=\"dataframe\">\n",
       "  <thead>\n",
       "    <tr style=\"text-align: right;\">\n",
       "      <th></th>\n",
       "      <th>smiles</th>\n",
       "      <th>label</th>\n",
       "    </tr>\n",
       "  </thead>\n",
       "  <tbody>\n",
       "    <tr>\n",
       "      <th>0</th>\n",
       "      <td>CCc1ccc(CN2CCN(Cc3ccc(SC)cc3)CC2)cc1</td>\n",
       "      <td>1.0</td>\n",
       "    </tr>\n",
       "    <tr>\n",
       "      <th>1</th>\n",
       "      <td>NC(Cc1ccc(C(F)(F)F)cc1)c1csc(NC(=O)NCCc2ccccc2)n1</td>\n",
       "      <td>1.0</td>\n",
       "    </tr>\n",
       "    <tr>\n",
       "      <th>2</th>\n",
       "      <td>CC(=O)NCCNC(=O)c1cccc(NS(=O)(=O)c2ccc3c(c2)OCC...</td>\n",
       "      <td>0.0</td>\n",
       "    </tr>\n",
       "    <tr>\n",
       "      <th>3</th>\n",
       "      <td>COC(=O)c1ccccc1S(=O)(=O)N1CCC(C(=O)N(C)CCOc2cc...</td>\n",
       "      <td>0.0</td>\n",
       "    </tr>\n",
       "    <tr>\n",
       "      <th>4</th>\n",
       "      <td>O=C(CNC(=O)c1ccc(Cl)cc1Cl)OCN1C(=O)c2ccccc2C1=O</td>\n",
       "      <td>0.0</td>\n",
       "    </tr>\n",
       "  </tbody>\n",
       "</table>\n",
       "</div>"
      ],
      "text/plain": [
       "                                              smiles  label\n",
       "0               CCc1ccc(CN2CCN(Cc3ccc(SC)cc3)CC2)cc1    1.0\n",
       "1  NC(Cc1ccc(C(F)(F)F)cc1)c1csc(NC(=O)NCCc2ccccc2)n1    1.0\n",
       "2  CC(=O)NCCNC(=O)c1cccc(NS(=O)(=O)c2ccc3c(c2)OCC...    0.0\n",
       "3  COC(=O)c1ccccc1S(=O)(=O)N1CCC(C(=O)N(C)CCOc2cc...    0.0\n",
       "4    O=C(CNC(=O)c1ccc(Cl)cc1Cl)OCN1C(=O)c2ccccc2C1=O    0.0"
      ]
     },
     "execution_count": 1,
     "metadata": {},
     "output_type": "execute_result"
    }
   ],
   "source": [
    "import pandas as pd\n",
    "import numpy as np\n",
    "import rdkit\n",
    "from rdkit import Chem\n",
    "from chemception.chemception_transfer import Chemception\n",
    "from chemception.Featurizer import ChemCeptionizer\n",
    "from matplotlib import pyplot as plt\n",
    "from keras.callbacks import ReduceLROnPlateau\n",
    "\n",
    "train_df = pd.read_csv('data/train_aid686978_0.7.csv')\n",
    "# train_df = train_df.sample(frac=0.2)\n",
    "train_df.head()"
   ]
  },
  {
   "attachments": {},
   "cell_type": "markdown",
   "metadata": {},
   "source": [
    "`SMILES` are a way to represent molecules as strings. This represenation is a standard in the Chemistry community and is usually parsed to other representaions of the molecule. For example, the `RDKit` library can parse SMILES to a `Mol` object."
   ]
  },
  {
   "cell_type": "code",
   "execution_count": 2,
   "metadata": {},
   "outputs": [
    {
     "data": {
      "image/png": "[encoded data removed]",
      "text/plain": [
       "<rdkit.Chem.rdchem.Mol at 0x15b7f036c10>"
      ]
     },
     "execution_count": 2,
     "metadata": {},
     "output_type": "execute_result"
    }
   ],
   "source": [
    "Chem.MolFromSmiles(train_df['smiles'].iloc[0])"
   ]
  },
  {
   "attachments": {},
   "cell_type": "markdown",
   "metadata": {},
   "source": [
    "We will use this represntation as a first step for our featurization. We will use the `RDKit` library to parse the SMILES to a `Mol` object for all the data."
   ]
  },
  {
   "cell_type": "code",
   "execution_count": 3,
   "metadata": {},
   "outputs": [],
   "source": [
    "train_df[\"mol\"] = train_df[\"smiles\"].apply(Chem.MolFromSmiles)"
   ]
  },
  {
   "attachments": {},
   "cell_type": "markdown",
   "metadata": {},
   "source": [
    "# Featurizing"
   ]
  },
  {
   "attachments": {},
   "cell_type": "markdown",
   "metadata": {},
   "source": [
    "The featurization process is the backbone of the paper we adopted, the paper chose certain feature that well describe the molecule and used them as features for the model. Which is inline with what we have learned in picking features for our data.\n",
    "\n",
    "Since we are using a `CNN` Model, our featurization method will be dependent on an image represtnation of the molecule. However, we do some feature engineering that extract important aspects of the molecule (`bonds order`, `atom types`, `hybridization`, and `gasteiger charges`) and use them as features for our model.\n",
    "\n",
    "\n",
    "![Alt text](images/Featurizer.png)"
   ]
  },
  {
   "cell_type": "code",
   "execution_count": 4,
   "metadata": {},
   "outputs": [],
   "source": [
    "# This is the featurizer we used, can be found in Featurizer.py\n",
    "featureizer = ChemCeptionizer(embed=20, fuse=True)\n",
    "\n",
    "# Featurize the molecules\n",
    "train_df[\"molimage\"] = train_df[\"mol\"].apply(featureizer.featurize)\n",
    "# pd.to_pickle(train_df, \"train_df.pkl\")\n",
    "\n",
    "# train_df = pd.read_pickle(\"train_df.pkl\")\n"
   ]
  },
  {
   "attachments": {},
   "cell_type": "markdown",
   "metadata": {},
   "source": [
    "### Visualize the results of the featurization process"
   ]
  },
  {
   "cell_type": "code",
   "execution_count": 5,
   "metadata": {},
   "outputs": [],
   "source": [
    "# def show_channel(v, channel_ind):\n",
    "#     \"\"\"\n",
    "#     Show a single channel of a 3D numpy array\n",
    "#     \"\"\"\n",
    "#     v_copy = np.zeros(shape=(v.shape[0], v.shape[1], 3))\n",
    "#     if channel_ind >= 3:\n",
    "#         v_copy[:,:,0] = v[:,:,channel_ind]/ np.max(v[:,:,channel_ind])\n",
    "#     else:\n",
    "#         v_copy[:,:,channel_ind] = v[:,:,channel_ind]/ np.max(v[:,:,channel_ind])\n",
    "        \n",
    "#     return v_copy\n",
    "\n",
    "\n",
    "# sample = train_df[\"molimage\"].iloc[1]\n",
    "# plt.imshow(sample)\n",
    "# ch1, ch2, ch3 = show_channel(sample, 0), show_channel(sample, 1), show_channel(sample, 2)\n",
    "# fig, ax = plt.subplots(2, 2, figsize=(15, 15))\n",
    "# ax[0, 0].imshow(ch1)\n",
    "# ax[0, 1].imshow(ch2)\n",
    "# ax[1, 0].imshow(ch3)\n",
    "# # ax[1, 1].imshow(ch4)\n",
    "# ax[0, 0].set_title(\"Bond Channel\")\n",
    "# ax[0, 1].set_title(\"Atomic Number Channel\")\n",
    "# ax[1, 0].set_title(\"Hybridization Channel\")\n",
    "# # ax[1, 1].set_title(\"Gasteiger Charge Channel\")"
   ]
  },
  {
   "cell_type": "code",
   "execution_count": 6,
   "metadata": {},
   "outputs": [
    {
     "data": {
      "text/plain": [
       "Text(0.5, 1.0, 'Molecule')"
      ]
     },
     "execution_count": 6,
     "metadata": {},
     "output_type": "execute_result"
    },
    {
     "data": {
      "image/png": "[encoded data removed]",
      "text/plain": [
       "<Figure size 1500x1500 with 4 Axes>"
      ]
     },
     "metadata": {},
     "output_type": "display_data"
    }
   ],
   "source": [
    "def show_channel(v, channel_ind):\n",
    "    \"\"\"\n",
    "    Show a single channel of a 3D numpy array\n",
    "    \"\"\"\n",
    "    v_copy = np.zeros(shape=(v.shape[0], v.shape[1], 3))\n",
    "    if channel_ind >= 3:\n",
    "        v_copy[:,:,0] = v[:,:,channel_ind]/ np.max(v[:,:,channel_ind])\n",
    "    else:\n",
    "        v_copy[:,:,channel_ind] = v[:,:,channel_ind]/ np.max(v[:,:,channel_ind])\n",
    "        \n",
    "    return v_copy\n",
    "\n",
    "\n",
    "sample = train_df[\"molimage\"].iloc[1]\n",
    "ch1, ch2, ch3 = show_channel(sample, 0), show_channel(sample, 1), show_channel(sample, 2)\n",
    "fig, ax = plt.subplots(1, 4, figsize=(15, 15))\n",
    "ax[0].imshow(sample)\n",
    "ax[1].imshow(ch1)\n",
    "ax[2].imshow(ch2)\n",
    "ax[3].imshow(ch3)\n",
    "ax[0].set_title(\"Molecule\")\n",
    "\n",
    "# ax[1, 1].set_title(\"Gasteiger Charge Channel\")"
   ]
  },
  {
   "attachments": {},
   "cell_type": "markdown",
   "metadata": {},
   "source": [
    "The featurization is working correctly, we proceed to model building"
   ]
  },
  {
   "attachments": {},
   "cell_type": "markdown",
   "metadata": {},
   "source": [
    "# Model Building"
   ]
  },
  {
   "attachments": {},
   "cell_type": "markdown",
   "metadata": {},
   "source": [
    "# Preparing generator and data for fitting"
   ]
  },
  {
   "attachments": {},
   "cell_type": "markdown",
   "metadata": {},
   "source": [
    "![Alt text](images/Featurizer.png) <br>\n",
    "##### It can be observed from the above image the orientation difference between the original image and our featurization result. Since our featurization method in recontructing the molecule image using our selected features, we can assure the `0` intra-class variation, hence, we do not need augmentation."
   ]
  },
  {
   "cell_type": "code",
   "execution_count": 5,
   "metadata": {},
   "outputs": [],
   "source": [
    "from keras.preprocessing.image import ImageDataGenerator\n",
    "generator = ImageDataGenerator(data_format='channels_last')\n",
    "\n",
    "train_df.dropna(subset=[\"molimage\"], inplace=True)\n",
    "X_train = train_df[\"molimage\"].to_numpy()\n",
    "X_train = np.stack(X_train, axis=0)\n",
    "y_train = train_df[\"label\"].to_numpy()\n",
    "\n",
    "\n",
    "indeces_where_nan = np.any(np.isnan(X_train), axis=(1, 2, 3))\n",
    "X_train = X_train[~indeces_where_nan]\n",
    "y_train = y_train[~indeces_where_nan]\n",
    "\n",
    "batch_size=256\n",
    "g = generator.flow(X_train, y_train, batch_size=batch_size, shuffle=True)"
   ]
  },
  {
   "attachments": {},
   "cell_type": "markdown",
   "metadata": {},
   "source": [
    "# Fit the model\n",
    "### There are two goals of the fitted models:\n",
    "1. `1st goal`: Being able to generalize to detect other molecules: This is \n",
    "2. `2nd goal`: To detect pattern among a current active molecules which results in a better understanding"
   ]
  },
  {
   "attachments": {},
   "cell_type": "markdown",
   "metadata": {},
   "source": [
    "#### Load validation data"
   ]
  },
  {
   "cell_type": "code",
   "execution_count": 6,
   "metadata": {},
   "outputs": [],
   "source": [
    "val_df = pd.read_csv('data/val_aid686978_0.7.csv')\n",
    "# val_df = val_df.sample(frac=0.2)\n",
    "val_df['mol'] = val_df['smiles'].apply(lambda x: Chem.MolFromSmiles(x))\n",
    "val_df['molimage'] = val_df['mol'].apply(featureizer.featurize)\n",
    "val_df.dropna(subset=[\"molimage\"], inplace=True)\n",
    "X_val = val_df[\"molimage\"].to_numpy()\n",
    "X_val = np.stack(X_val, axis=0)\n",
    "y_val = val_df[\"label\"].to_numpy()\n",
    "\n",
    "\n",
    "indeces_where_nan = np.any(np.isnan(X_val), axis=(1, 2, 3))\n",
    "X_val = X_val[~indeces_where_nan]\n",
    "y_val = y_val[~indeces_where_nan]"
   ]
  },
  {
   "attachments": {},
   "cell_type": "markdown",
   "metadata": {},
   "source": [
    "##### Optimal config from hyperband and baysian optimization\n",
    "{'config': {'dense_layers': 3,\n",
    "  'dropout': 0.2,\n",
    "  'embed': 25,\n",
    "  'lr': 5e-06,\n",
    "  'neurons': 256},\n",
    " 'config_info': {'model_based_pick': True}}"
   ]
  },
  {
   "cell_type": "code",
   "execution_count": 9,
   "metadata": {},
   "outputs": [],
   "source": [
    "from keras.applications.inception_v3 import InceptionV3\n",
    "from keras.layers import Dense, GlobalAveragePooling2D, Dropout\n",
    "from keras.models import Model\n",
    "from keras.layers import Input\n",
    "from keras.optimizers import Adam\n",
    "\n",
    "model = Chemception(neurons=128, dropout=0.1, dense_layers=1)\n",
    "model = model.build()\n",
    "# Compile the model with binary cross-entropy loss and Adam optimizer\n",
    "model.compile(optimizer=Adam(learning_rate=0.0001), loss='binary_crossentropy', metrics=['accuracy'])\n"
   ]
  },
  {
   "cell_type": "code",
   "execution_count": 10,
   "metadata": {},
   "outputs": [
    {
     "name": "stdout",
     "output_type": "stream",
     "text": [
      "Epoch 1/100\n",
      "238/238 [==============================] - 30s 82ms/step - loss: 0.6720 - accuracy: 0.6001 - val_loss: 0.6499 - val_accuracy: 0.6258\n",
      "Epoch 2/100\n",
      "238/238 [==============================] - 16s 69ms/step - loss: 0.6487 - accuracy: 0.6262 - val_loss: 0.6467 - val_accuracy: 0.6290\n",
      "Epoch 3/100\n",
      "238/238 [==============================] - 17s 69ms/step - loss: 0.6411 - accuracy: 0.6327 - val_loss: 0.6452 - val_accuracy: 0.6275\n",
      "Epoch 4/100\n",
      "238/238 [==============================] - 17s 69ms/step - loss: 0.6376 - accuracy: 0.6384 - val_loss: 0.6447 - val_accuracy: 0.6290\n",
      "Epoch 5/100\n",
      "238/238 [==============================] - 16s 69ms/step - loss: 0.6355 - accuracy: 0.6394 - val_loss: 0.6449 - val_accuracy: 0.6283\n",
      "Epoch 6/100\n",
      "238/238 [==============================] - 17s 69ms/step - loss: 0.6323 - accuracy: 0.6437 - val_loss: 0.6460 - val_accuracy: 0.6286\n",
      "Epoch 7/100\n",
      "238/238 [==============================] - 16s 69ms/step - loss: 0.6306 - accuracy: 0.6444 - val_loss: 0.6427 - val_accuracy: 0.6336\n",
      "Epoch 8/100\n",
      "238/238 [==============================] - 17s 69ms/step - loss: 0.6279 - accuracy: 0.6467 - val_loss: 0.6422 - val_accuracy: 0.6312\n",
      "Epoch 9/100\n",
      "238/238 [==============================] - 16s 69ms/step - loss: 0.6262 - accuracy: 0.6490 - val_loss: 0.6440 - val_accuracy: 0.6337\n",
      "Epoch 10/100\n",
      "238/238 [==============================] - 16s 69ms/step - loss: 0.6240 - accuracy: 0.6509 - val_loss: 0.6411 - val_accuracy: 0.6329\n",
      "Epoch 11/100\n",
      "238/238 [==============================] - 17s 69ms/step - loss: 0.6228 - accuracy: 0.6518 - val_loss: 0.6448 - val_accuracy: 0.6332\n",
      "Epoch 12/100\n",
      "238/238 [==============================] - 17s 69ms/step - loss: 0.6207 - accuracy: 0.6545 - val_loss: 0.6418 - val_accuracy: 0.6307\n",
      "Epoch 13/100\n",
      "238/238 [==============================] - 17s 70ms/step - loss: 0.6185 - accuracy: 0.6567 - val_loss: 0.6415 - val_accuracy: 0.6327\n",
      "Epoch 14/100\n",
      "238/238 [==============================] - 17s 69ms/step - loss: 0.6165 - accuracy: 0.6587 - val_loss: 0.6430 - val_accuracy: 0.6298\n",
      "Epoch 15/100\n",
      "238/238 [==============================] - 16s 69ms/step - loss: 0.6150 - accuracy: 0.6589 - val_loss: 0.6420 - val_accuracy: 0.6307\n",
      "Epoch 16/100\n",
      "238/238 [==============================] - 17s 70ms/step - loss: 0.6126 - accuracy: 0.6623 - val_loss: 0.6411 - val_accuracy: 0.6320\n",
      "Epoch 17/100\n",
      "238/238 [==============================] - 16s 69ms/step - loss: 0.6105 - accuracy: 0.6639 - val_loss: 0.6416 - val_accuracy: 0.6318\n",
      "Epoch 18/100\n",
      "238/238 [==============================] - 16s 69ms/step - loss: 0.6090 - accuracy: 0.6658 - val_loss: 0.6437 - val_accuracy: 0.6344\n",
      "Epoch 19/100\n",
      "238/238 [==============================] - 17s 70ms/step - loss: 0.6066 - accuracy: 0.6683 - val_loss: 0.6405 - val_accuracy: 0.6308\n",
      "Epoch 20/100\n",
      "238/238 [==============================] - 16s 69ms/step - loss: 0.6054 - accuracy: 0.6714 - val_loss: 0.6479 - val_accuracy: 0.6302\n",
      "Epoch 21/100\n",
      "238/238 [==============================] - 16s 69ms/step - loss: 0.6037 - accuracy: 0.6713 - val_loss: 0.6411 - val_accuracy: 0.6323\n",
      "Epoch 22/100\n",
      "238/238 [==============================] - 16s 69ms/step - loss: 0.6013 - accuracy: 0.6730 - val_loss: 0.6419 - val_accuracy: 0.6307\n",
      "Epoch 23/100\n",
      "238/238 [==============================] - 16s 69ms/step - loss: 0.5993 - accuracy: 0.6750 - val_loss: 0.6430 - val_accuracy: 0.6330\n",
      "Epoch 24/100\n",
      "238/238 [==============================] - 16s 69ms/step - loss: 0.5974 - accuracy: 0.6769 - val_loss: 0.6421 - val_accuracy: 0.6338\n",
      "Epoch 25/100\n",
      "238/238 [==============================] - 16s 69ms/step - loss: 0.5953 - accuracy: 0.6796 - val_loss: 0.6420 - val_accuracy: 0.6313\n",
      "Epoch 26/100\n",
      "238/238 [==============================] - 16s 69ms/step - loss: 0.5936 - accuracy: 0.6795 - val_loss: 0.6433 - val_accuracy: 0.6310\n",
      "Epoch 27/100\n",
      "238/238 [==============================] - 17s 69ms/step - loss: 0.5912 - accuracy: 0.6827 - val_loss: 0.6444 - val_accuracy: 0.6315\n",
      "Epoch 28/100\n",
      "238/238 [==============================] - 16s 69ms/step - loss: 0.5893 - accuracy: 0.6837 - val_loss: 0.6439 - val_accuracy: 0.6331\n",
      "Epoch 29/100\n",
      "238/238 [==============================] - 16s 69ms/step - loss: 0.5873 - accuracy: 0.6858 - val_loss: 0.6432 - val_accuracy: 0.6332\n",
      "Epoch 30/100\n",
      "238/238 [==============================] - 16s 69ms/step - loss: 0.5852 - accuracy: 0.6878 - val_loss: 0.6455 - val_accuracy: 0.6303\n",
      "Epoch 31/100\n",
      "238/238 [==============================] - 16s 69ms/step - loss: 0.5836 - accuracy: 0.6896 - val_loss: 0.6487 - val_accuracy: 0.6283\n",
      "Epoch 32/100\n",
      "238/238 [==============================] - 16s 69ms/step - loss: 0.5805 - accuracy: 0.6933 - val_loss: 0.6462 - val_accuracy: 0.6353\n",
      "Epoch 33/100\n",
      "238/238 [==============================] - 17s 69ms/step - loss: 0.5790 - accuracy: 0.6937 - val_loss: 0.6461 - val_accuracy: 0.6326\n",
      "Epoch 34/100\n",
      "238/238 [==============================] - 16s 69ms/step - loss: 0.5770 - accuracy: 0.6960 - val_loss: 0.6474 - val_accuracy: 0.6298\n",
      "Epoch 35/100\n",
      "238/238 [==============================] - 16s 69ms/step - loss: 0.5745 - accuracy: 0.6976 - val_loss: 0.6462 - val_accuracy: 0.6295\n",
      "Epoch 36/100\n",
      "238/238 [==============================] - 16s 69ms/step - loss: 0.5722 - accuracy: 0.7014 - val_loss: 0.6471 - val_accuracy: 0.6255\n",
      "Epoch 37/100\n",
      "238/238 [==============================] - 16s 69ms/step - loss: 0.5701 - accuracy: 0.7010 - val_loss: 0.6460 - val_accuracy: 0.6350\n",
      "Epoch 38/100\n",
      "238/238 [==============================] - 16s 69ms/step - loss: 0.5685 - accuracy: 0.7044 - val_loss: 0.6480 - val_accuracy: 0.6336\n",
      "Epoch 39/100\n",
      "239/238 [==============================] - ETA: 0s - loss: 0.5675 - accuracy: 0.7035Restoring model weights from the end of the best epoch: 19.\n",
      "238/238 [==============================] - 16s 69ms/step - loss: 0.5675 - accuracy: 0.7035 - val_loss: 0.6503 - val_accuracy: 0.6301\n",
      "Epoch 39: early stopping\n"
     ]
    }
   ],
   "source": [
    "from keras.callbacks import EarlyStopping\n",
    "early_stopping = EarlyStopping(monitor='val_loss', patience=20, verbose=1, mode='auto', restore_best_weights=True)\n",
    "model.fit(g, epochs=100, steps_per_epoch=len(X_train)/batch_size, validation_data=(X_val, y_val), callbacks=[early_stopping])\n",
    "model.save('chemception_transfer.h5')"
   ]
  },
  {
   "cell_type": "code",
   "execution_count": 17,
   "metadata": {},
   "outputs": [
    {
     "name": "stdout",
     "output_type": "stream",
     "text": [
      "Epoch 1/10\n",
      "164/238 [===================>..........] - ETA: 3s - loss: 0.3570 - accuracy: 0.8466"
     ]
    },
    {
     "ename": "KeyboardInterrupt",
     "evalue": "",
     "output_type": "error",
     "traceback": [
      "\u001b[1;31m---------------------------------------------------------------------------\u001b[0m",
      "\u001b[1;31mKeyboardInterrupt\u001b[0m                         Traceback (most recent call last)",
      "Cell \u001b[1;32mIn[17], line 1\u001b[0m\n\u001b[1;32m----> 1\u001b[0m model\u001b[39m.\u001b[39;49mfit(g, epochs\u001b[39m=\u001b[39;49m\u001b[39m10\u001b[39;49m, steps_per_epoch\u001b[39m=\u001b[39;49m\u001b[39mlen\u001b[39;49m(X_train)\u001b[39m/\u001b[39;49mbatch_size, validation_data\u001b[39m=\u001b[39;49m(X_val, y_val))\n\u001b[0;32m      2\u001b[0m \u001b[39m# model.save('chemception_transfer_train.h5')\u001b[39;00m\n",
      "File \u001b[1;32mc:\\Users\\walee\\miniconda3\\envs\\cvpr\\lib\\site-packages\\keras\\utils\\traceback_utils.py:65\u001b[0m, in \u001b[0;36mfilter_traceback.<locals>.error_handler\u001b[1;34m(*args, **kwargs)\u001b[0m\n\u001b[0;32m     63\u001b[0m filtered_tb \u001b[39m=\u001b[39m \u001b[39mNone\u001b[39;00m\n\u001b[0;32m     64\u001b[0m \u001b[39mtry\u001b[39;00m:\n\u001b[1;32m---> 65\u001b[0m     \u001b[39mreturn\u001b[39;00m fn(\u001b[39m*\u001b[39margs, \u001b[39m*\u001b[39m\u001b[39m*\u001b[39mkwargs)\n\u001b[0;32m     66\u001b[0m \u001b[39mexcept\u001b[39;00m \u001b[39mException\u001b[39;00m \u001b[39mas\u001b[39;00m e:\n\u001b[0;32m     67\u001b[0m     filtered_tb \u001b[39m=\u001b[39m _process_traceback_frames(e\u001b[39m.\u001b[39m__traceback__)\n",
      "File \u001b[1;32mc:\\Users\\walee\\miniconda3\\envs\\cvpr\\lib\\site-packages\\keras\\engine\\training.py:1564\u001b[0m, in \u001b[0;36mModel.fit\u001b[1;34m(self, x, y, batch_size, epochs, verbose, callbacks, validation_split, validation_data, shuffle, class_weight, sample_weight, initial_epoch, steps_per_epoch, validation_steps, validation_batch_size, validation_freq, max_queue_size, workers, use_multiprocessing)\u001b[0m\n\u001b[0;32m   1556\u001b[0m \u001b[39mwith\u001b[39;00m tf\u001b[39m.\u001b[39mprofiler\u001b[39m.\u001b[39mexperimental\u001b[39m.\u001b[39mTrace(\n\u001b[0;32m   1557\u001b[0m     \u001b[39m\"\u001b[39m\u001b[39mtrain\u001b[39m\u001b[39m\"\u001b[39m,\n\u001b[0;32m   1558\u001b[0m     epoch_num\u001b[39m=\u001b[39mepoch,\n\u001b[1;32m   (...)\u001b[0m\n\u001b[0;32m   1561\u001b[0m     _r\u001b[39m=\u001b[39m\u001b[39m1\u001b[39m,\n\u001b[0;32m   1562\u001b[0m ):\n\u001b[0;32m   1563\u001b[0m     callbacks\u001b[39m.\u001b[39mon_train_batch_begin(step)\n\u001b[1;32m-> 1564\u001b[0m     tmp_logs \u001b[39m=\u001b[39m \u001b[39mself\u001b[39;49m\u001b[39m.\u001b[39;49mtrain_function(iterator)\n\u001b[0;32m   1565\u001b[0m     \u001b[39mif\u001b[39;00m data_handler\u001b[39m.\u001b[39mshould_sync:\n\u001b[0;32m   1566\u001b[0m         context\u001b[39m.\u001b[39masync_wait()\n",
      "File \u001b[1;32mc:\\Users\\walee\\miniconda3\\envs\\cvpr\\lib\\site-packages\\tensorflow\\python\\util\\traceback_utils.py:150\u001b[0m, in \u001b[0;36mfilter_traceback.<locals>.error_handler\u001b[1;34m(*args, **kwargs)\u001b[0m\n\u001b[0;32m    148\u001b[0m filtered_tb \u001b[39m=\u001b[39m \u001b[39mNone\u001b[39;00m\n\u001b[0;32m    149\u001b[0m \u001b[39mtry\u001b[39;00m:\n\u001b[1;32m--> 150\u001b[0m   \u001b[39mreturn\u001b[39;00m fn(\u001b[39m*\u001b[39margs, \u001b[39m*\u001b[39m\u001b[39m*\u001b[39mkwargs)\n\u001b[0;32m    151\u001b[0m \u001b[39mexcept\u001b[39;00m \u001b[39mException\u001b[39;00m \u001b[39mas\u001b[39;00m e:\n\u001b[0;32m    152\u001b[0m   filtered_tb \u001b[39m=\u001b[39m _process_traceback_frames(e\u001b[39m.\u001b[39m__traceback__)\n",
      "File \u001b[1;32mc:\\Users\\walee\\miniconda3\\envs\\cvpr\\lib\\site-packages\\tensorflow\\python\\eager\\def_function.py:915\u001b[0m, in \u001b[0;36mFunction.__call__\u001b[1;34m(self, *args, **kwds)\u001b[0m\n\u001b[0;32m    912\u001b[0m compiler \u001b[39m=\u001b[39m \u001b[39m\"\u001b[39m\u001b[39mxla\u001b[39m\u001b[39m\"\u001b[39m \u001b[39mif\u001b[39;00m \u001b[39mself\u001b[39m\u001b[39m.\u001b[39m_jit_compile \u001b[39melse\u001b[39;00m \u001b[39m\"\u001b[39m\u001b[39mnonXla\u001b[39m\u001b[39m\"\u001b[39m\n\u001b[0;32m    914\u001b[0m \u001b[39mwith\u001b[39;00m OptionalXlaContext(\u001b[39mself\u001b[39m\u001b[39m.\u001b[39m_jit_compile):\n\u001b[1;32m--> 915\u001b[0m   result \u001b[39m=\u001b[39m \u001b[39mself\u001b[39m\u001b[39m.\u001b[39m_call(\u001b[39m*\u001b[39margs, \u001b[39m*\u001b[39m\u001b[39m*\u001b[39mkwds)\n\u001b[0;32m    917\u001b[0m new_tracing_count \u001b[39m=\u001b[39m \u001b[39mself\u001b[39m\u001b[39m.\u001b[39mexperimental_get_tracing_count()\n\u001b[0;32m    918\u001b[0m without_tracing \u001b[39m=\u001b[39m (tracing_count \u001b[39m==\u001b[39m new_tracing_count)\n",
      "File \u001b[1;32mc:\\Users\\walee\\miniconda3\\envs\\cvpr\\lib\\site-packages\\tensorflow\\python\\eager\\def_function.py:954\u001b[0m, in \u001b[0;36mFunction._call\u001b[1;34m(self, *args, **kwds)\u001b[0m\n\u001b[0;32m    951\u001b[0m \u001b[39mself\u001b[39m\u001b[39m.\u001b[39m_lock\u001b[39m.\u001b[39mrelease()\n\u001b[0;32m    952\u001b[0m \u001b[39m# In this case we have not created variables on the first call. So we can\u001b[39;00m\n\u001b[0;32m    953\u001b[0m \u001b[39m# run the first trace but we should fail if variables are created.\u001b[39;00m\n\u001b[1;32m--> 954\u001b[0m results \u001b[39m=\u001b[39m \u001b[39mself\u001b[39m\u001b[39m.\u001b[39m_stateful_fn(\u001b[39m*\u001b[39margs, \u001b[39m*\u001b[39m\u001b[39m*\u001b[39mkwds)\n\u001b[0;32m    955\u001b[0m \u001b[39mif\u001b[39;00m \u001b[39mself\u001b[39m\u001b[39m.\u001b[39m_created_variables \u001b[39mand\u001b[39;00m \u001b[39mnot\u001b[39;00m ALLOW_DYNAMIC_VARIABLE_CREATION:\n\u001b[0;32m    956\u001b[0m   \u001b[39mraise\u001b[39;00m \u001b[39mValueError\u001b[39;00m(\u001b[39m\"\u001b[39m\u001b[39mCreating variables on a non-first call to a function\u001b[39m\u001b[39m\"\u001b[39m\n\u001b[0;32m    957\u001b[0m                    \u001b[39m\"\u001b[39m\u001b[39m decorated with tf.function.\u001b[39m\u001b[39m\"\u001b[39m)\n",
      "File \u001b[1;32mc:\\Users\\walee\\miniconda3\\envs\\cvpr\\lib\\site-packages\\tensorflow\\python\\eager\\function.py:2496\u001b[0m, in \u001b[0;36mFunction.__call__\u001b[1;34m(self, *args, **kwargs)\u001b[0m\n\u001b[0;32m   2493\u001b[0m \u001b[39mwith\u001b[39;00m \u001b[39mself\u001b[39m\u001b[39m.\u001b[39m_lock:\n\u001b[0;32m   2494\u001b[0m   (graph_function,\n\u001b[0;32m   2495\u001b[0m    filtered_flat_args) \u001b[39m=\u001b[39m \u001b[39mself\u001b[39m\u001b[39m.\u001b[39m_maybe_define_function(args, kwargs)\n\u001b[1;32m-> 2496\u001b[0m \u001b[39mreturn\u001b[39;00m graph_function\u001b[39m.\u001b[39;49m_call_flat(\n\u001b[0;32m   2497\u001b[0m     filtered_flat_args, captured_inputs\u001b[39m=\u001b[39;49mgraph_function\u001b[39m.\u001b[39;49mcaptured_inputs)\n",
      "File \u001b[1;32mc:\\Users\\walee\\miniconda3\\envs\\cvpr\\lib\\site-packages\\tensorflow\\python\\eager\\function.py:1862\u001b[0m, in \u001b[0;36mConcreteFunction._call_flat\u001b[1;34m(self, args, captured_inputs, cancellation_manager)\u001b[0m\n\u001b[0;32m   1858\u001b[0m possible_gradient_type \u001b[39m=\u001b[39m gradients_util\u001b[39m.\u001b[39mPossibleTapeGradientTypes(args)\n\u001b[0;32m   1859\u001b[0m \u001b[39mif\u001b[39;00m (possible_gradient_type \u001b[39m==\u001b[39m gradients_util\u001b[39m.\u001b[39mPOSSIBLE_GRADIENT_TYPES_NONE\n\u001b[0;32m   1860\u001b[0m     \u001b[39mand\u001b[39;00m executing_eagerly):\n\u001b[0;32m   1861\u001b[0m   \u001b[39m# No tape is watching; skip to running the function.\u001b[39;00m\n\u001b[1;32m-> 1862\u001b[0m   \u001b[39mreturn\u001b[39;00m \u001b[39mself\u001b[39m\u001b[39m.\u001b[39m_build_call_outputs(\u001b[39mself\u001b[39;49m\u001b[39m.\u001b[39;49m_inference_function\u001b[39m.\u001b[39;49mcall(\n\u001b[0;32m   1863\u001b[0m       ctx, args, cancellation_manager\u001b[39m=\u001b[39;49mcancellation_manager))\n\u001b[0;32m   1864\u001b[0m forward_backward \u001b[39m=\u001b[39m \u001b[39mself\u001b[39m\u001b[39m.\u001b[39m_select_forward_and_backward_functions(\n\u001b[0;32m   1865\u001b[0m     args,\n\u001b[0;32m   1866\u001b[0m     possible_gradient_type,\n\u001b[0;32m   1867\u001b[0m     executing_eagerly)\n\u001b[0;32m   1868\u001b[0m forward_function, args_with_tangents \u001b[39m=\u001b[39m forward_backward\u001b[39m.\u001b[39mforward()\n",
      "File \u001b[1;32mc:\\Users\\walee\\miniconda3\\envs\\cvpr\\lib\\site-packages\\tensorflow\\python\\eager\\function.py:499\u001b[0m, in \u001b[0;36m_EagerDefinedFunction.call\u001b[1;34m(self, ctx, args, cancellation_manager)\u001b[0m\n\u001b[0;32m    497\u001b[0m \u001b[39mwith\u001b[39;00m _InterpolateFunctionError(\u001b[39mself\u001b[39m):\n\u001b[0;32m    498\u001b[0m   \u001b[39mif\u001b[39;00m cancellation_manager \u001b[39mis\u001b[39;00m \u001b[39mNone\u001b[39;00m:\n\u001b[1;32m--> 499\u001b[0m     outputs \u001b[39m=\u001b[39m execute\u001b[39m.\u001b[39;49mexecute(\n\u001b[0;32m    500\u001b[0m         \u001b[39mstr\u001b[39;49m(\u001b[39mself\u001b[39;49m\u001b[39m.\u001b[39;49msignature\u001b[39m.\u001b[39;49mname),\n\u001b[0;32m    501\u001b[0m         num_outputs\u001b[39m=\u001b[39;49m\u001b[39mself\u001b[39;49m\u001b[39m.\u001b[39;49m_num_outputs,\n\u001b[0;32m    502\u001b[0m         inputs\u001b[39m=\u001b[39;49margs,\n\u001b[0;32m    503\u001b[0m         attrs\u001b[39m=\u001b[39;49mattrs,\n\u001b[0;32m    504\u001b[0m         ctx\u001b[39m=\u001b[39;49mctx)\n\u001b[0;32m    505\u001b[0m   \u001b[39melse\u001b[39;00m:\n\u001b[0;32m    506\u001b[0m     outputs \u001b[39m=\u001b[39m execute\u001b[39m.\u001b[39mexecute_with_cancellation(\n\u001b[0;32m    507\u001b[0m         \u001b[39mstr\u001b[39m(\u001b[39mself\u001b[39m\u001b[39m.\u001b[39msignature\u001b[39m.\u001b[39mname),\n\u001b[0;32m    508\u001b[0m         num_outputs\u001b[39m=\u001b[39m\u001b[39mself\u001b[39m\u001b[39m.\u001b[39m_num_outputs,\n\u001b[1;32m   (...)\u001b[0m\n\u001b[0;32m    511\u001b[0m         ctx\u001b[39m=\u001b[39mctx,\n\u001b[0;32m    512\u001b[0m         cancellation_manager\u001b[39m=\u001b[39mcancellation_manager)\n",
      "File \u001b[1;32mc:\\Users\\walee\\miniconda3\\envs\\cvpr\\lib\\site-packages\\tensorflow\\python\\eager\\execute.py:54\u001b[0m, in \u001b[0;36mquick_execute\u001b[1;34m(op_name, num_outputs, inputs, attrs, ctx, name)\u001b[0m\n\u001b[0;32m     52\u001b[0m \u001b[39mtry\u001b[39;00m:\n\u001b[0;32m     53\u001b[0m   ctx\u001b[39m.\u001b[39mensure_initialized()\n\u001b[1;32m---> 54\u001b[0m   tensors \u001b[39m=\u001b[39m pywrap_tfe\u001b[39m.\u001b[39;49mTFE_Py_Execute(ctx\u001b[39m.\u001b[39;49m_handle, device_name, op_name,\n\u001b[0;32m     55\u001b[0m                                       inputs, attrs, num_outputs)\n\u001b[0;32m     56\u001b[0m \u001b[39mexcept\u001b[39;00m core\u001b[39m.\u001b[39m_NotOkStatusException \u001b[39mas\u001b[39;00m e:\n\u001b[0;32m     57\u001b[0m   \u001b[39mif\u001b[39;00m name \u001b[39mis\u001b[39;00m \u001b[39mnot\u001b[39;00m \u001b[39mNone\u001b[39;00m:\n",
      "\u001b[1;31mKeyboardInterrupt\u001b[0m: "
     ]
    }
   ],
   "source": [
    "model.fit(g, epochs=10, steps_per_epoch=len(X_train)/batch_size, validation_data=(X_val, y_val))\n",
    "# model.save('chemception_transfer_train.h5')"
   ]
  },
  {
   "cell_type": "code",
   "execution_count": 25,
   "metadata": {},
   "outputs": [],
   "source": [
    "from keras.models import load_model\n",
    "model = load_model('chemception_transfer.h5')"
   ]
  },
  {
   "attachments": {},
   "cell_type": "markdown",
   "metadata": {},
   "source": [
    "# Plot the history"
   ]
  },
  {
   "cell_type": "code",
   "execution_count": null,
   "metadata": {},
   "outputs": [
    {
     "ename": "NameError",
     "evalue": "name 'history' is not defined",
     "output_type": "error",
     "traceback": [
      "\u001b[1;31m---------------------------------------------------------------------------\u001b[0m",
      "\u001b[1;31mNameError\u001b[0m                                 Traceback (most recent call last)",
      "Cell \u001b[1;32mIn[15], line 2\u001b[0m\n\u001b[0;32m      1\u001b[0m \u001b[39mimport\u001b[39;00m \u001b[39mmatplotlib\u001b[39;00m\u001b[39m.\u001b[39;00m\u001b[39mpyplot\u001b[39;00m \u001b[39mas\u001b[39;00m \u001b[39mplt\u001b[39;00m\n\u001b[1;32m----> 2\u001b[0m plt\u001b[39m.\u001b[39mplot(history\u001b[39m.\u001b[39mhistory[\u001b[39m'\u001b[39m\u001b[39mloss\u001b[39m\u001b[39m'\u001b[39m], label \u001b[39m=\u001b[39m \u001b[39m'\u001b[39m\u001b[39mloss\u001b[39m\u001b[39m'\u001b[39m)\n\u001b[0;32m      3\u001b[0m plt\u001b[39m.\u001b[39mlegend()\n\u001b[0;32m      4\u001b[0m plt\u001b[39m.\u001b[39myscale(\u001b[39m\"\u001b[39m\u001b[39mlog\u001b[39m\u001b[39m\"\u001b[39m)\n",
      "\u001b[1;31mNameError\u001b[0m: name 'history' is not defined"
     ]
    }
   ],
   "source": [
    "import matplotlib.pyplot as plt\n",
    "plt.plot(history.history['loss'], label = 'loss')\n",
    "plt.legend()\n",
    "plt.yscale(\"log\")"
   ]
  },
  {
   "attachments": {},
   "cell_type": "markdown",
   "metadata": {},
   "source": [
    "# Test the model on test data"
   ]
  },
  {
   "cell_type": "code",
   "execution_count": 28,
   "metadata": {},
   "outputs": [],
   "source": [
    "test_df = pd.read_csv('data/test_aid686978_0.7.csv')\n",
    "# test_df = test_df.sample(frac=0.2)\n",
    "test_df['mol'] = test_df['smiles'].apply(lambda x: Chem.MolFromSmiles(x))\n",
    "test_df['molimage'] = test_df['mol'].apply(featureizer.featurize)\n",
    "test_df.dropna(subset=[\"molimage\"], inplace=True)\n",
    "X_test = np.array(list(test_df[\"molimage\"]))\n",
    "y_test = test_df[\"label\"]\n",
    "\n",
    "indeces_where_nan = np.any(np.isnan(X_test), axis=(1, 2, 3))\n",
    "X_test = X_test[~indeces_where_nan]\n",
    "y_test = y_test[~indeces_where_nan]"
   ]
  },
  {
   "cell_type": "code",
   "execution_count": 29,
   "metadata": {},
   "outputs": [
    {
     "name": "stdout",
     "output_type": "stream",
     "text": [
      "410/410 [==============================] - 9s 20ms/step\n"
     ]
    },
    {
     "data": {
      "image/png": "[encoded data removed]",
      "text/plain": [
       "<Figure size 640x480 with 1 Axes>"
      ]
     },
     "metadata": {},
     "output_type": "display_data"
    }
   ],
   "source": [
    "from sklearn.metrics import roc_auc_score\n",
    "from sklearn.metrics import roc_curve\n",
    "\n",
    "y_pred = model.predict(X_test)\n",
    "y_pred = y_pred.flatten()\n",
    "fpr, tpr, thresholds = roc_curve(y_test, y_pred)\n",
    "roc_auc = roc_auc_score(y_test, y_pred)\n",
    "plt.plot(fpr, tpr, label='ROC curve (area = %0.2f)' % roc_auc)\n",
    "plt.plot([0, 1], [0, 1], 'k--')\n",
    "plt.xlim([0.0, 1.0])\n",
    "plt.ylim([0.0, 1.0])\n",
    "plt.xlabel('False Positive Rate')\n",
    "plt.ylabel('True Positive Rate')\n",
    "plt.title('ROC curve')\n",
    "plt.legend(loc=\"lower right\")\n",
    "plt.show()\n",
    "\n",
    "\n"
   ]
  },
  {
   "attachments": {},
   "cell_type": "markdown",
   "metadata": {},
   "source": [
    "# Kernel Visualization"
   ]
  },
  {
   "attachments": {},
   "cell_type": "markdown",
   "metadata": {},
   "source": [
    "# Comparing other models"
   ]
  },
  {
   "attachments": {},
   "cell_type": "markdown",
   "metadata": {},
   "source": [
    "### Random Forest"
   ]
  },
  {
   "cell_type": "code",
   "execution_count": null,
   "metadata": {},
   "outputs": [
    {
     "data": {
      "text/plain": [
       "0.8079477782867613"
      ]
     },
     "execution_count": 18,
     "metadata": {},
     "output_type": "execute_result"
    }
   ],
   "source": [
    "from sklearn.ensemble import RandomForestClassifier\n",
    "from deepchem.feat import CircularFingerprint\n",
    "\n",
    "featurizer = CircularFingerprint(size=1024)\n",
    "X_train, y_train = featurizer.featurize(train_df[\"smiles\"]), train_df[\"label\"]\n",
    "X_val, y_val = featurizer.featurize(val_df[\"smiles\"]), val_df[\"label\"]\n",
    "# X_test, y_test = featurizer.featurize(test_df[\"smiles\"]), test_df[\"label\"]\n",
    "\n",
    "rf = RandomForestClassifier(n_estimators=100, max_depth=10, random_state=0)\n",
    "rf.fit(X_train, y_train)\n",
    "\n",
    "rf.score(X_train, y_train)"
   ]
  },
  {
   "attachments": {},
   "cell_type": "markdown",
   "metadata": {},
   "source": [
    "### Graph Convolutional Network"
   ]
  },
  {
   "cell_type": "code",
   "execution_count": null,
   "metadata": {},
   "outputs": [
    {
     "data": {
      "text/plain": [
       "array([0, 0, 1, ..., 1, 0, 1])"
      ]
     },
     "execution_count": 24,
     "metadata": {},
     "output_type": "execute_result"
    }
   ],
   "source": [
    "y_train.to_numpy().astype(int)"
   ]
  },
  {
   "cell_type": "code",
   "execution_count": null,
   "metadata": {},
   "outputs": [
    {
     "ename": "NotFoundError",
     "evalue": "Graph execution error:\n\nDetected at node 'gradient_tape/private__graph_conv_keras_model_6/graph_gather_6/and' defined at (most recent call last):\n    File \"/opt/miniconda3/lib/python3.9/runpy.py\", line 197, in _run_module_as_main\n      return _run_code(code, main_globals, None,\n    File \"/opt/miniconda3/lib/python3.9/runpy.py\", line 87, in _run_code\n      exec(code, run_globals)\n    File \"/opt/miniconda3/lib/python3.9/site-packages/ipykernel_launcher.py\", line 17, in <module>\n      app.launch_new_instance()\n    File \"/opt/miniconda3/lib/python3.9/site-packages/traitlets/config/application.py\", line 985, in launch_instance\n      app.start()\n    File \"/opt/miniconda3/lib/python3.9/site-packages/ipykernel/kernelapp.py\", line 712, in start\n      self.io_loop.start()\n    File \"/opt/miniconda3/lib/python3.9/site-packages/tornado/platform/asyncio.py\", line 215, in start\n      self.asyncio_loop.run_forever()\n    File \"/opt/miniconda3/lib/python3.9/asyncio/base_events.py\", line 601, in run_forever\n      self._run_once()\n    File \"/opt/miniconda3/lib/python3.9/asyncio/base_events.py\", line 1905, in _run_once\n      handle._run()\n    File \"/opt/miniconda3/lib/python3.9/asyncio/events.py\", line 80, in _run\n      self._context.run(self._callback, *self._args)\n    File \"/opt/miniconda3/lib/python3.9/site-packages/ipykernel/kernelbase.py\", line 510, in dispatch_queue\n      await self.process_one()\n    File \"/opt/miniconda3/lib/python3.9/site-packages/ipykernel/kernelbase.py\", line 499, in process_one\n      await dispatch(*args)\n    File \"/opt/miniconda3/lib/python3.9/site-packages/ipykernel/kernelbase.py\", line 406, in dispatch_shell\n      await result\n    File \"/opt/miniconda3/lib/python3.9/site-packages/ipykernel/kernelbase.py\", line 730, in execute_request\n      reply_content = await reply_content\n    File \"/opt/miniconda3/lib/python3.9/site-packages/ipykernel/ipkernel.py\", line 383, in do_execute\n      res = shell.run_cell(\n    File \"/opt/miniconda3/lib/python3.9/site-packages/ipykernel/zmqshell.py\", line 528, in run_cell\n      return super().run_cell(*args, **kwargs)\n    File \"/opt/miniconda3/lib/python3.9/site-packages/IPython/core/interactiveshell.py\", line 2940, in run_cell\n      result = self._run_cell(\n    File \"/opt/miniconda3/lib/python3.9/site-packages/IPython/core/interactiveshell.py\", line 2995, in _run_cell\n      return runner(coro)\n    File \"/opt/miniconda3/lib/python3.9/site-packages/IPython/core/async_helpers.py\", line 129, in _pseudo_sync_runner\n      coro.send(None)\n    File \"/opt/miniconda3/lib/python3.9/site-packages/IPython/core/interactiveshell.py\", line 3194, in run_cell_async\n      has_raised = await self.run_ast_nodes(code_ast.body, cell_name,\n    File \"/opt/miniconda3/lib/python3.9/site-packages/IPython/core/interactiveshell.py\", line 3373, in run_ast_nodes\n      if await self.run_code(code, result, async_=asy):\n    File \"/opt/miniconda3/lib/python3.9/site-packages/IPython/core/interactiveshell.py\", line 3433, in run_code\n      exec(code_obj, self.user_global_ns, self.user_ns)\n    File \"/var/folders/7n/ynz1z7qd3fbg7568r_zgsb980000gn/T/ipykernel_43252/2823185961.py\", line 12, in <module>\n      model.fit(dataset)\n    File \"/opt/miniconda3/lib/python3.9/site-packages/deepchem/models/keras_model.py\", line 351, in fit\n      return self.fit_generator(\n    File \"/opt/miniconda3/lib/python3.9/site-packages/deepchem/models/keras_model.py\", line 441, in fit_generator\n      batch_loss = apply_gradient_for_batch(inputs, labels, weights, loss)\n    File \"/opt/miniconda3/lib/python3.9/site-packages/deepchem/models/keras_model.py\", line 507, in apply_gradient_for_batch\n      grads = tape.gradient(batch_loss, vars)\nNode: 'gradient_tape/private__graph_conv_keras_model_6/graph_gather_6/and'\nNo registered 'BroadcastTo' OpKernel for 'GPU' devices compatible with node {{node gradient_tape/private__graph_conv_keras_model_6/graph_gather_6/and}}\n\t (OpKernel was found, but attributes didn't match) Requested Attributes: T=DT_BOOL, Tidx=DT_INT32, _XlaHasReferenceVars=false, _device=\"/job:localhost/replica:0/task:0/device:GPU:0\"\n\t.  Registered:  device='XLA_CPU_JIT'; Tidx in [DT_INT32, DT_INT64]; T in [DT_FLOAT, DT_DOUBLE, DT_INT32, DT_UINT8, DT_INT16, 930109355527764061, DT_HALF, DT_UINT32, DT_UINT64, DT_FLOAT8_E5M2, DT_FLOAT8_E4M3FN]\n  device='GPU'; T in [DT_FLOAT]\n  device='DEFAULT'; T in [DT_INT32]\n  device='CPU'; T in [DT_UINT64]\n  device='CPU'; T in [DT_INT64]\n  device='CPU'; T in [DT_UINT32]\n  device='CPU'; T in [DT_UINT16]\n  device='CPU'; T in [DT_INT16]\n  device='CPU'; T in [DT_UINT8]\n  device='CPU'; T in [DT_INT8]\n  device='CPU'; T in [DT_INT32]\n  device='CPU'; T in [DT_HALF]\n  device='CPU'; T in [DT_BFLOAT16]\n  device='CPU'; T in [DT_FLOAT]\n  device='CPU'; T in [DT_DOUBLE]\n  device='CPU'; T in [DT_COMPLEX64]\n  device='CPU'; T in [DT_COMPLEX128]\n  device='CPU'; T in [DT_BOOL]\n  device='CPU'; T in [DT_STRING]\n  device='CPU'; T in [DT_RESOURCE]\n  device='CPU'; T in [DT_VARIANT]\n\n\t [[gradient_tape/private__graph_conv_keras_model_6/graph_gather_6/and]] [Op:__inference_apply_gradient_for_batch_55543]",
     "output_type": "error",
     "traceback": [
      "\u001b[0;31m---------------------------------------------------------------------------\u001b[0m",
      "\u001b[0;31mNotFoundError\u001b[0m                             Traceback (most recent call last)",
      "Cell \u001b[0;32mIn[34], line 12\u001b[0m\n\u001b[1;32m     10\u001b[0m dataset \u001b[39m=\u001b[39m dc\u001b[39m.\u001b[39mdata\u001b[39m.\u001b[39mNumpyDataset(X_train, y_train)\n\u001b[1;32m     11\u001b[0m model \u001b[39m=\u001b[39m GraphConvModel(n_tasks\u001b[39m=\u001b[39m\u001b[39m1\u001b[39m, mode\u001b[39m=\u001b[39m\u001b[39m'\u001b[39m\u001b[39mclassification\u001b[39m\u001b[39m'\u001b[39m, dropout\u001b[39m=\u001b[39m\u001b[39m0.2\u001b[39m)\n\u001b[0;32m---> 12\u001b[0m model\u001b[39m.\u001b[39;49mfit(dataset)\n\u001b[1;32m     14\u001b[0m model\u001b[39m.\u001b[39mevaluate(dataset)\n",
      "File \u001b[0;32m/opt/miniconda3/lib/python3.9/site-packages/deepchem/models/keras_model.py:351\u001b[0m, in \u001b[0;36mKerasModel.fit\u001b[0;34m(self, dataset, nb_epoch, max_checkpoints_to_keep, checkpoint_interval, deterministic, restore, variables, loss, callbacks, all_losses)\u001b[0m\n\u001b[1;32m    302\u001b[0m \u001b[39mdef\u001b[39;00m \u001b[39mfit\u001b[39m(\u001b[39mself\u001b[39m,\n\u001b[1;32m    303\u001b[0m         dataset: Dataset,\n\u001b[1;32m    304\u001b[0m         nb_epoch: \u001b[39mint\u001b[39m \u001b[39m=\u001b[39m \u001b[39m10\u001b[39m,\n\u001b[0;32m   (...)\u001b[0m\n\u001b[1;32m    311\u001b[0m         callbacks: Union[Callable, List[Callable]] \u001b[39m=\u001b[39m [],\n\u001b[1;32m    312\u001b[0m         all_losses: Optional[List[\u001b[39mfloat\u001b[39m]] \u001b[39m=\u001b[39m \u001b[39mNone\u001b[39;00m) \u001b[39m-\u001b[39m\u001b[39m>\u001b[39m \u001b[39mfloat\u001b[39m:\n\u001b[1;32m    313\u001b[0m   \u001b[39m\"\"\"Train this model on a dataset.\u001b[39;00m\n\u001b[1;32m    314\u001b[0m \n\u001b[1;32m    315\u001b[0m \u001b[39m  Parameters\u001b[39;00m\n\u001b[0;32m   (...)\u001b[0m\n\u001b[1;32m    349\u001b[0m \u001b[39m  The average loss over the most recent checkpoint interval\u001b[39;00m\n\u001b[1;32m    350\u001b[0m \u001b[39m \"\"\"\u001b[39;00m\n\u001b[0;32m--> 351\u001b[0m   \u001b[39mreturn\u001b[39;00m \u001b[39mself\u001b[39;49m\u001b[39m.\u001b[39;49mfit_generator(\n\u001b[1;32m    352\u001b[0m       \u001b[39mself\u001b[39;49m\u001b[39m.\u001b[39;49mdefault_generator(dataset,\n\u001b[1;32m    353\u001b[0m                              epochs\u001b[39m=\u001b[39;49mnb_epoch,\n\u001b[1;32m    354\u001b[0m                              deterministic\u001b[39m=\u001b[39;49mdeterministic),\n\u001b[1;32m    355\u001b[0m       max_checkpoints_to_keep, checkpoint_interval, restore, variables, loss,\n\u001b[1;32m    356\u001b[0m       callbacks, all_losses)\n",
      "File \u001b[0;32m/opt/miniconda3/lib/python3.9/site-packages/deepchem/models/keras_model.py:441\u001b[0m, in \u001b[0;36mKerasModel.fit_generator\u001b[0;34m(self, generator, max_checkpoints_to_keep, checkpoint_interval, restore, variables, loss, callbacks, all_losses)\u001b[0m\n\u001b[1;32m    438\u001b[0m \u001b[39mif\u001b[39;00m \u001b[39mlen\u001b[39m(inputs) \u001b[39m==\u001b[39m \u001b[39m1\u001b[39m:\n\u001b[1;32m    439\u001b[0m   inputs \u001b[39m=\u001b[39m inputs[\u001b[39m0\u001b[39m]\n\u001b[0;32m--> 441\u001b[0m batch_loss \u001b[39m=\u001b[39m apply_gradient_for_batch(inputs, labels, weights, loss)\n\u001b[1;32m    442\u001b[0m current_step \u001b[39m=\u001b[39m \u001b[39mself\u001b[39m\u001b[39m.\u001b[39m_global_step\u001b[39m.\u001b[39mnumpy()\n\u001b[1;32m    444\u001b[0m avg_loss \u001b[39m+\u001b[39m\u001b[39m=\u001b[39m batch_loss\n",
      "File \u001b[0;32m/opt/miniconda3/lib/python3.9/site-packages/tensorflow/python/util/traceback_utils.py:153\u001b[0m, in \u001b[0;36mfilter_traceback.<locals>.error_handler\u001b[0;34m(*args, **kwargs)\u001b[0m\n\u001b[1;32m    151\u001b[0m \u001b[39mexcept\u001b[39;00m \u001b[39mException\u001b[39;00m \u001b[39mas\u001b[39;00m e:\n\u001b[1;32m    152\u001b[0m   filtered_tb \u001b[39m=\u001b[39m _process_traceback_frames(e\u001b[39m.\u001b[39m__traceback__)\n\u001b[0;32m--> 153\u001b[0m   \u001b[39mraise\u001b[39;00m e\u001b[39m.\u001b[39mwith_traceback(filtered_tb) \u001b[39mfrom\u001b[39;00m \u001b[39mNone\u001b[39m\n\u001b[1;32m    154\u001b[0m \u001b[39mfinally\u001b[39;00m:\n\u001b[1;32m    155\u001b[0m   \u001b[39mdel\u001b[39;00m filtered_tb\n",
      "File \u001b[0;32m/opt/miniconda3/lib/python3.9/site-packages/tensorflow/python/eager/execute.py:52\u001b[0m, in \u001b[0;36mquick_execute\u001b[0;34m(op_name, num_outputs, inputs, attrs, ctx, name)\u001b[0m\n\u001b[1;32m     50\u001b[0m \u001b[39mtry\u001b[39;00m:\n\u001b[1;32m     51\u001b[0m   ctx\u001b[39m.\u001b[39mensure_initialized()\n\u001b[0;32m---> 52\u001b[0m   tensors \u001b[39m=\u001b[39m pywrap_tfe\u001b[39m.\u001b[39mTFE_Py_Execute(ctx\u001b[39m.\u001b[39m_handle, device_name, op_name,\n\u001b[1;32m     53\u001b[0m                                       inputs, attrs, num_outputs)\n\u001b[1;32m     54\u001b[0m \u001b[39mexcept\u001b[39;00m core\u001b[39m.\u001b[39m_NotOkStatusException \u001b[39mas\u001b[39;00m e:\n\u001b[1;32m     55\u001b[0m   \u001b[39mif\u001b[39;00m name \u001b[39mis\u001b[39;00m \u001b[39mnot\u001b[39;00m \u001b[39mNone\u001b[39;00m:\n",
      "\u001b[0;31mNotFoundError\u001b[0m: Graph execution error:\n\nDetected at node 'gradient_tape/private__graph_conv_keras_model_6/graph_gather_6/and' defined at (most recent call last):\n    File \"/opt/miniconda3/lib/python3.9/runpy.py\", line 197, in _run_module_as_main\n      return _run_code(code, main_globals, None,\n    File \"/opt/miniconda3/lib/python3.9/runpy.py\", line 87, in _run_code\n      exec(code, run_globals)\n    File \"/opt/miniconda3/lib/python3.9/site-packages/ipykernel_launcher.py\", line 17, in <module>\n      app.launch_new_instance()\n    File \"/opt/miniconda3/lib/python3.9/site-packages/traitlets/config/application.py\", line 985, in launch_instance\n      app.start()\n    File \"/opt/miniconda3/lib/python3.9/site-packages/ipykernel/kernelapp.py\", line 712, in start\n      self.io_loop.start()\n    File \"/opt/miniconda3/lib/python3.9/site-packages/tornado/platform/asyncio.py\", line 215, in start\n      self.asyncio_loop.run_forever()\n    File \"/opt/miniconda3/lib/python3.9/asyncio/base_events.py\", line 601, in run_forever\n      self._run_once()\n    File \"/opt/miniconda3/lib/python3.9/asyncio/base_events.py\", line 1905, in _run_once\n      handle._run()\n    File \"/opt/miniconda3/lib/python3.9/asyncio/events.py\", line 80, in _run\n      self._context.run(self._callback, *self._args)\n    File \"/opt/miniconda3/lib/python3.9/site-packages/ipykernel/kernelbase.py\", line 510, in dispatch_queue\n      await self.process_one()\n    File \"/opt/miniconda3/lib/python3.9/site-packages/ipykernel/kernelbase.py\", line 499, in process_one\n      await dispatch(*args)\n    File \"/opt/miniconda3/lib/python3.9/site-packages/ipykernel/kernelbase.py\", line 406, in dispatch_shell\n      await result\n    File \"/opt/miniconda3/lib/python3.9/site-packages/ipykernel/kernelbase.py\", line 730, in execute_request\n      reply_content = await reply_content\n    File \"/opt/miniconda3/lib/python3.9/site-packages/ipykernel/ipkernel.py\", line 383, in do_execute\n      res = shell.run_cell(\n    File \"/opt/miniconda3/lib/python3.9/site-packages/ipykernel/zmqshell.py\", line 528, in run_cell\n      return super().run_cell(*args, **kwargs)\n    File \"/opt/miniconda3/lib/python3.9/site-packages/IPython/core/interactiveshell.py\", line 2940, in run_cell\n      result = self._run_cell(\n    File \"/opt/miniconda3/lib/python3.9/site-packages/IPython/core/interactiveshell.py\", line 2995, in _run_cell\n      return runner(coro)\n    File \"/opt/miniconda3/lib/python3.9/site-packages/IPython/core/async_helpers.py\", line 129, in _pseudo_sync_runner\n      coro.send(None)\n    File \"/opt/miniconda3/lib/python3.9/site-packages/IPython/core/interactiveshell.py\", line 3194, in run_cell_async\n      has_raised = await self.run_ast_nodes(code_ast.body, cell_name,\n    File \"/opt/miniconda3/lib/python3.9/site-packages/IPython/core/interactiveshell.py\", line 3373, in run_ast_nodes\n      if await self.run_code(code, result, async_=asy):\n    File \"/opt/miniconda3/lib/python3.9/site-packages/IPython/core/interactiveshell.py\", line 3433, in run_code\n      exec(code_obj, self.user_global_ns, self.user_ns)\n    File \"/var/folders/7n/ynz1z7qd3fbg7568r_zgsb980000gn/T/ipykernel_43252/2823185961.py\", line 12, in <module>\n      model.fit(dataset)\n    File \"/opt/miniconda3/lib/python3.9/site-packages/deepchem/models/keras_model.py\", line 351, in fit\n      return self.fit_generator(\n    File \"/opt/miniconda3/lib/python3.9/site-packages/deepchem/models/keras_model.py\", line 441, in fit_generator\n      batch_loss = apply_gradient_for_batch(inputs, labels, weights, loss)\n    File \"/opt/miniconda3/lib/python3.9/site-packages/deepchem/models/keras_model.py\", line 507, in apply_gradient_for_batch\n      grads = tape.gradient(batch_loss, vars)\nNode: 'gradient_tape/private__graph_conv_keras_model_6/graph_gather_6/and'\nNo registered 'BroadcastTo' OpKernel for 'GPU' devices compatible with node {{node gradient_tape/private__graph_conv_keras_model_6/graph_gather_6/and}}\n\t (OpKernel was found, but attributes didn't match) Requested Attributes: T=DT_BOOL, Tidx=DT_INT32, _XlaHasReferenceVars=false, _device=\"/job:localhost/replica:0/task:0/device:GPU:0\"\n\t.  Registered:  device='XLA_CPU_JIT'; Tidx in [DT_INT32, DT_INT64]; T in [DT_FLOAT, DT_DOUBLE, DT_INT32, DT_UINT8, DT_INT16, 930109355527764061, DT_HALF, DT_UINT32, DT_UINT64, DT_FLOAT8_E5M2, DT_FLOAT8_E4M3FN]\n  device='GPU'; T in [DT_FLOAT]\n  device='DEFAULT'; T in [DT_INT32]\n  device='CPU'; T in [DT_UINT64]\n  device='CPU'; T in [DT_INT64]\n  device='CPU'; T in [DT_UINT32]\n  device='CPU'; T in [DT_UINT16]\n  device='CPU'; T in [DT_INT16]\n  device='CPU'; T in [DT_UINT8]\n  device='CPU'; T in [DT_INT8]\n  device='CPU'; T in [DT_INT32]\n  device='CPU'; T in [DT_HALF]\n  device='CPU'; T in [DT_BFLOAT16]\n  device='CPU'; T in [DT_FLOAT]\n  device='CPU'; T in [DT_DOUBLE]\n  device='CPU'; T in [DT_COMPLEX64]\n  device='CPU'; T in [DT_COMPLEX128]\n  device='CPU'; T in [DT_BOOL]\n  device='CPU'; T in [DT_STRING]\n  device='CPU'; T in [DT_RESOURCE]\n  device='CPU'; T in [DT_VARIANT]\n\n\t [[gradient_tape/private__graph_conv_keras_model_6/graph_gather_6/and]] [Op:__inference_apply_gradient_for_batch_55543]"
     ]
    }
   ],
   "source": [
    "from deepchem.models import GraphConvModel\n",
    "from deepchem.feat import ConvMolFeaturizer\n",
    "import deepchem as dc\n",
    "\n",
    "featurizer = ConvMolFeaturizer()\n",
    "X_train, y_train = featurizer.featurize(train_df[\"smiles\"]), train_df[\"label\"]\n",
    "X_val, y_val = featurizer.featurize(val_df[\"smiles\"]), val_df[\"label\"]\n",
    "# X_test, y_test = featurizer.featurize(test_df[\"smiles\"]), test_df[\"label\"]\n",
    "\n",
    "dataset = dc.data.NumpyDataset(X_train, y_train)\n",
    "model = GraphConvModel(n_tasks=1, mode='classification', dropout=0.2)\n",
    "model.fit(dataset)\n",
    "\n",
    "model.evaluate(dataset)"
   ]
  }
 ],
 "metadata": {
  "kernelspec": {
   "display_name": "base",
   "language": "python",
   "name": "python3"
  },
  "language_info": {
   "codemirror_mode": {
    "name": "ipython",
    "version": 3
   },
   "file_extension": ".py",
   "mimetype": "text/x-python",
   "name": "python",
   "nbconvert_exporter": "python",
   "pygments_lexer": "ipython3",
   "version": "3.9.16"
  },
  "orig_nbformat": 4
 },
 "nbformat": 4,
 "nbformat_minor": 2
}
