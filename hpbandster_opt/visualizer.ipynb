{
 "cells": [
  {
   "cell_type": "code",
   "execution_count": 17,
   "metadata": {},
   "outputs": [],
   "source": [
    "import pandas as pd\n",
    "import numpy as np\n",
    "import plotly.express as px\n",
    "import matplotlib.pyplot as plt\n",
    "import plotly.graph_objects as go"
   ]
  },
  {
   "cell_type": "code",
   "execution_count": 18,
   "metadata": {},
   "outputs": [
    {
     "data": {
      "text/plain": [
       "config_id: (0, 0, 0)\tbudget: 12.666667\tloss: 0.6463565826416016\n",
       "time_stamps: 0.009006977081298828 (submitted), 0.009006977081298828 (started), 294.53821063041687 (finished)\n",
       "info: {'dense_layers': 1, 'dropout': 0.3, 'lr': 0.001, 'neurons': 128}"
      ]
     },
     "execution_count": 18,
     "metadata": {},
     "output_type": "execute_result"
    }
   ],
   "source": [
    "res = pd.read_pickle('res_final.pkl')\n",
    "res.get_all_runs()[0]"
   ]
  },
  {
   "cell_type": "code",
   "execution_count": 19,
   "metadata": {},
   "outputs": [
    {
     "data": {
      "application/vnd.plotly.v1+json": {
       "config": {
        "plotlyServerURL": "https://plot.ly"
       },
       "data": [
        {
         "hovertext": [
          "{'dense_layers': 1, 'dropout': 0.3, 'lr': 0.001, 'neurons': 128}"
         ],
         "line": {
          "width": 2
         },
         "marker": {
          "size": 8
         },
         "mode": "lines+markers",
         "type": "scatter",
         "x": [
          "12.666666666666666"
         ],
         "y": [
          0.6463565826416016
         ]
        },
        {
         "hovertext": [
          "{'dense_layers': 1, 'dropout': 0.1, 'lr': 0.0005, 'neurons': 1024}"
         ],
         "line": {
          "width": 2
         },
         "marker": {
          "size": 8
         },
         "mode": "lines+markers",
         "type": "scatter",
         "x": [
          "12.666666666666666"
         ],
         "y": [
          0.6582476496696472
         ]
        },
        {
         "hovertext": [
          "{'dense_layers': 1, 'dropout': 0.1, 'lr': 0.0001, 'neurons': 512}"
         ],
         "line": {
          "width": 2
         },
         "marker": {
          "size": 8
         },
         "mode": "lines+markers",
         "type": "scatter",
         "x": [
          "12.666666666666666"
         ],
         "y": [
          0.6437598466873169
         ]
        },
        {
         "hovertext": [
          "{'dense_layers': 1, 'dropout': 0.4, 'lr': 0.0005, 'neurons': 128}",
          "{'dense_layers': 1, 'dropout': 0.4, 'lr': 0.0005, 'neurons': 128}",
          "{'dense_layers': 1, 'dropout': 0.4, 'lr': 0.0005, 'neurons': 128}"
         ],
         "line": {
          "width": 2
         },
         "marker": {
          "size": 8
         },
         "mode": "lines+markers",
         "type": "scatter",
         "x": [
          "12.666666666666666",
          "38.0",
          "114.0"
         ],
         "y": [
          0.6407055854797363,
          0.6491490602493286,
          0.6537975668907166
         ]
        },
        {
         "hovertext": [
          "{'dense_layers': 1, 'dropout': 0.3, 'lr': 0.002, 'neurons': 512}",
          "{'dense_layers': 1, 'dropout': 0.3, 'lr': 0.002, 'neurons': 512}"
         ],
         "line": {
          "width": 2
         },
         "marker": {
          "size": 8
         },
         "mode": "lines+markers",
         "type": "scatter",
         "x": [
          "12.666666666666666",
          "38.0"
         ],
         "y": [
          0.6430381536483765,
          0.6683633923530579
         ]
        },
        {
         "hovertext": [
          "{'dense_layers': 1, 'dropout': 0.1, 'lr': 0.001, 'neurons': 128}"
         ],
         "line": {
          "width": 2
         },
         "marker": {
          "size": 8
         },
         "mode": "lines+markers",
         "type": "scatter",
         "x": [
          "12.666666666666666"
         ],
         "y": [
          0.6479687690734863
         ]
        },
        {
         "hovertext": [
          "{'dense_layers': 1, 'dropout': 0.4, 'lr': 0.001, 'neurons': 128}",
          "{'dense_layers': 1, 'dropout': 0.4, 'lr': 0.001, 'neurons': 128}"
         ],
         "line": {
          "width": 2
         },
         "marker": {
          "size": 8
         },
         "mode": "lines+markers",
         "type": "scatter",
         "x": [
          "12.666666666666666",
          "38.0"
         ],
         "y": [
          0.6425995826721191,
          0.6578163504600525
         ]
        },
        {
         "hovertext": [
          "{'dense_layers': 1, 'dropout': 0.2, 'lr': 0.0005, 'neurons': 256}"
         ],
         "line": {
          "width": 2
         },
         "marker": {
          "size": 8
         },
         "mode": "lines+markers",
         "type": "scatter",
         "x": [
          "12.666666666666666"
         ],
         "y": [
          0.6489710211753845
         ]
        },
        {
         "hovertext": [
          "{'dense_layers': 2, 'dropout': 0.3, 'lr': 0.0005, 'neurons': 1024}"
         ],
         "line": {
          "width": 2
         },
         "marker": {
          "size": 8
         },
         "mode": "lines+markers",
         "type": "scatter",
         "x": [
          "12.666666666666666"
         ],
         "y": [
          0.6492792367935181
         ]
        },
        {
         "hovertext": [
          "{'dense_layers': 1, 'dropout': 0.1, 'lr': 0.0001, 'neurons': 128}",
          "{'dense_layers': 1, 'dropout': 0.1, 'lr': 0.0001, 'neurons': 128}"
         ],
         "line": {
          "width": 2
         },
         "marker": {
          "size": 8
         },
         "mode": "lines+markers",
         "type": "scatter",
         "x": [
          "38.0",
          "114.0"
         ],
         "y": [
          0.643979012966156,
          0.6461127996444702
         ]
        },
        {
         "hovertext": [
          "{'dense_layers': 3, 'dropout': 0.1, 'lr': 0.0001, 'neurons': 128}"
         ],
         "line": {
          "width": 2
         },
         "marker": {
          "size": 8
         },
         "mode": "lines+markers",
         "type": "scatter",
         "x": [
          "38.0"
         ],
         "y": [
          0.6656661629676819
         ]
        },
        {
         "hovertext": [
          "{'dense_layers': 3, 'dropout': 0.2, 'lr': 0.002, 'neurons': 256}"
         ],
         "line": {
          "width": 2
         },
         "marker": {
          "size": 8
         },
         "mode": "lines+markers",
         "type": "scatter",
         "x": [
          "38.0"
         ],
         "y": [
          0.6652832627296448
         ]
        },
        {
         "hovertext": [
          "{'dense_layers': 1, 'dropout': 0.2, 'lr': 0.0001, 'neurons': 512}"
         ],
         "line": {
          "width": 2
         },
         "marker": {
          "size": 8
         },
         "mode": "lines+markers",
         "type": "scatter",
         "x": [
          "114.0"
         ],
         "y": [
          0.6465360522270203
         ]
        },
        {
         "hovertext": [
          "{'dense_layers': 1, 'dropout': 0.2, 'lr': 0.001, 'neurons': 512}"
         ],
         "line": {
          "width": 2
         },
         "marker": {
          "size": 8
         },
         "mode": "lines+markers",
         "type": "scatter",
         "x": [
          "114.0"
         ],
         "y": [
          0.7064417600631714
         ]
        },
        {
         "hovertext": [
          "{'dense_layers': 3, 'dropout': 0.1, 'lr': 0.0005, 'neurons': 512}"
         ],
         "line": {
          "width": 2
         },
         "marker": {
          "size": 8
         },
         "mode": "lines+markers",
         "type": "scatter",
         "x": [
          "114.0"
         ],
         "y": [
          0.8039911985397339
         ]
        },
        {
         "hovertext": [
          "{'dense_layers': 3, 'dropout': 0.4, 'lr': 0.001, 'neurons': 128}",
          "{'dense_layers': 3, 'dropout': 0.4, 'lr': 0.001, 'neurons': 128}",
          "{'dense_layers': 3, 'dropout': 0.4, 'lr': 0.001, 'neurons': 128}"
         ],
         "line": {
          "width": 2
         },
         "marker": {
          "size": 8
         },
         "mode": "lines+markers",
         "type": "scatter",
         "x": [
          "12.666666666666666",
          "38.0",
          "114.0"
         ],
         "y": [
          0.6442462205886841,
          0.6502607464790344,
          0.6501975059509277
         ]
        },
        {
         "hovertext": [
          "{'dense_layers': 3, 'dropout': 0.2, 'lr': 0.002, 'neurons': 1024}"
         ],
         "line": {
          "width": 2
         },
         "marker": {
          "size": 8
         },
         "mode": "lines+markers",
         "type": "scatter",
         "x": [
          "12.666666666666666"
         ],
         "y": [
          0.6471041440963745
         ]
        },
        {
         "hovertext": [
          "{'dense_layers': 3, 'dropout': 0.4, 'lr': 0.001, 'neurons': 128}"
         ],
         "line": {
          "width": 2
         },
         "marker": {
          "size": 8
         },
         "mode": "lines+markers",
         "type": "scatter",
         "x": [
          "12.666666666666666"
         ],
         "y": [
          0.6474255919456482
         ]
        },
        {
         "hovertext": [
          "{'dense_layers': 3, 'dropout': 0.3, 'lr': 0.001, 'neurons': 1024}"
         ],
         "line": {
          "width": 2
         },
         "marker": {
          "size": 8
         },
         "mode": "lines+markers",
         "type": "scatter",
         "x": [
          "12.666666666666666"
         ],
         "y": [
          0.6450528502464294
         ]
        },
        {
         "hovertext": [
          "{'dense_layers': 2, 'dropout': 0.1, 'lr': 0.0001, 'neurons': 1024}"
         ],
         "line": {
          "width": 2
         },
         "marker": {
          "size": 8
         },
         "mode": "lines+markers",
         "type": "scatter",
         "x": [
          "12.666666666666666"
         ],
         "y": [
          0.6832940578460693
         ]
        },
        {
         "hovertext": [
          "{'dense_layers': 2, 'dropout': 0.4, 'lr': 0.001, 'neurons': 512}",
          "{'dense_layers': 2, 'dropout': 0.4, 'lr': 0.001, 'neurons': 512}"
         ],
         "line": {
          "width": 2
         },
         "marker": {
          "size": 8
         },
         "mode": "lines+markers",
         "type": "scatter",
         "x": [
          "12.666666666666666",
          "38.0"
         ],
         "y": [
          0.6441856026649475,
          0.6639118790626526
         ]
        },
        {
         "hovertext": [
          "{'dense_layers': 1, 'dropout': 0.2, 'lr': 0.002, 'neurons': 1024}"
         ],
         "line": {
          "width": 2
         },
         "marker": {
          "size": 8
         },
         "mode": "lines+markers",
         "type": "scatter",
         "x": [
          "12.666666666666666"
         ],
         "y": [
          0.6495746374130249
         ]
        },
        {
         "hovertext": [
          "{'dense_layers': 1, 'dropout': 0.2, 'lr': 0.0001, 'neurons': 1024}",
          "{'dense_layers': 1, 'dropout': 0.2, 'lr': 0.0001, 'neurons': 1024}"
         ],
         "line": {
          "width": 2
         },
         "marker": {
          "size": 8
         },
         "mode": "lines+markers",
         "type": "scatter",
         "x": [
          "12.666666666666666",
          "38.0"
         ],
         "y": [
          0.6440504789352417,
          0.6508280038833618
         ]
        },
        {
         "hovertext": [
          "{'dense_layers': 2, 'dropout': 0.5, 'lr': 0.0005, 'neurons': 128}"
         ],
         "line": {
          "width": 2
         },
         "marker": {
          "size": 8
         },
         "mode": "lines+markers",
         "type": "scatter",
         "x": [
          "12.666666666666666"
         ],
         "y": [
          0.6447771191596985
         ]
        }
       ],
       "layout": {
        "height": 650,
        "template": {
         "data": {
          "bar": [
           {
            "error_x": {
             "color": "#2a3f5f"
            },
            "error_y": {
             "color": "#2a3f5f"
            },
            "marker": {
             "line": {
              "color": "#E5ECF6",
              "width": 0.5
             },
             "pattern": {
              "fillmode": "overlay",
              "size": 10,
              "solidity": 0.2
             }
            },
            "type": "bar"
           }
          ],
          "barpolar": [
           {
            "marker": {
             "line": {
              "color": "#E5ECF6",
              "width": 0.5
             },
             "pattern": {
              "fillmode": "overlay",
              "size": 10,
              "solidity": 0.2
             }
            },
            "type": "barpolar"
           }
          ],
          "carpet": [
           {
            "aaxis": {
             "endlinecolor": "#2a3f5f",
             "gridcolor": "white",
             "linecolor": "white",
             "minorgridcolor": "white",
             "startlinecolor": "#2a3f5f"
            },
            "baxis": {
             "endlinecolor": "#2a3f5f",
             "gridcolor": "white",
             "linecolor": "white",
             "minorgridcolor": "white",
             "startlinecolor": "#2a3f5f"
            },
            "type": "carpet"
           }
          ],
          "choropleth": [
           {
            "colorbar": {
             "outlinewidth": 0,
             "ticks": ""
            },
            "type": "choropleth"
           }
          ],
          "contour": [
           {
            "colorbar": {
             "outlinewidth": 0,
             "ticks": ""
            },
            "colorscale": [
             [
              0,
              "#0d0887"
             ],
             [
              0.1111111111111111,
              "#46039f"
             ],
             [
              0.2222222222222222,
              "#7201a8"
             ],
             [
              0.3333333333333333,
              "#9c179e"
             ],
             [
              0.4444444444444444,
              "#bd3786"
             ],
             [
              0.5555555555555556,
              "#d8576b"
             ],
             [
              0.6666666666666666,
              "#ed7953"
             ],
             [
              0.7777777777777778,
              "#fb9f3a"
             ],
             [
              0.8888888888888888,
              "#fdca26"
             ],
             [
              1,
              "#f0f921"
             ]
            ],
            "type": "contour"
           }
          ],
          "contourcarpet": [
           {
            "colorbar": {
             "outlinewidth": 0,
             "ticks": ""
            },
            "type": "contourcarpet"
           }
          ],
          "heatmap": [
           {
            "colorbar": {
             "outlinewidth": 0,
             "ticks": ""
            },
            "colorscale": [
             [
              0,
              "#0d0887"
             ],
             [
              0.1111111111111111,
              "#46039f"
             ],
             [
              0.2222222222222222,
              "#7201a8"
             ],
             [
              0.3333333333333333,
              "#9c179e"
             ],
             [
              0.4444444444444444,
              "#bd3786"
             ],
             [
              0.5555555555555556,
              "#d8576b"
             ],
             [
              0.6666666666666666,
              "#ed7953"
             ],
             [
              0.7777777777777778,
              "#fb9f3a"
             ],
             [
              0.8888888888888888,
              "#fdca26"
             ],
             [
              1,
              "#f0f921"
             ]
            ],
            "type": "heatmap"
           }
          ],
          "heatmapgl": [
           {
            "colorbar": {
             "outlinewidth": 0,
             "ticks": ""
            },
            "colorscale": [
             [
              0,
              "#0d0887"
             ],
             [
              0.1111111111111111,
              "#46039f"
             ],
             [
              0.2222222222222222,
              "#7201a8"
             ],
             [
              0.3333333333333333,
              "#9c179e"
             ],
             [
              0.4444444444444444,
              "#bd3786"
             ],
             [
              0.5555555555555556,
              "#d8576b"
             ],
             [
              0.6666666666666666,
              "#ed7953"
             ],
             [
              0.7777777777777778,
              "#fb9f3a"
             ],
             [
              0.8888888888888888,
              "#fdca26"
             ],
             [
              1,
              "#f0f921"
             ]
            ],
            "type": "heatmapgl"
           }
          ],
          "histogram": [
           {
            "marker": {
             "pattern": {
              "fillmode": "overlay",
              "size": 10,
              "solidity": 0.2
             }
            },
            "type": "histogram"
           }
          ],
          "histogram2d": [
           {
            "colorbar": {
             "outlinewidth": 0,
             "ticks": ""
            },
            "colorscale": [
             [
              0,
              "#0d0887"
             ],
             [
              0.1111111111111111,
              "#46039f"
             ],
             [
              0.2222222222222222,
              "#7201a8"
             ],
             [
              0.3333333333333333,
              "#9c179e"
             ],
             [
              0.4444444444444444,
              "#bd3786"
             ],
             [
              0.5555555555555556,
              "#d8576b"
             ],
             [
              0.6666666666666666,
              "#ed7953"
             ],
             [
              0.7777777777777778,
              "#fb9f3a"
             ],
             [
              0.8888888888888888,
              "#fdca26"
             ],
             [
              1,
              "#f0f921"
             ]
            ],
            "type": "histogram2d"
           }
          ],
          "histogram2dcontour": [
           {
            "colorbar": {
             "outlinewidth": 0,
             "ticks": ""
            },
            "colorscale": [
             [
              0,
              "#0d0887"
             ],
             [
              0.1111111111111111,
              "#46039f"
             ],
             [
              0.2222222222222222,
              "#7201a8"
             ],
             [
              0.3333333333333333,
              "#9c179e"
             ],
             [
              0.4444444444444444,
              "#bd3786"
             ],
             [
              0.5555555555555556,
              "#d8576b"
             ],
             [
              0.6666666666666666,
              "#ed7953"
             ],
             [
              0.7777777777777778,
              "#fb9f3a"
             ],
             [
              0.8888888888888888,
              "#fdca26"
             ],
             [
              1,
              "#f0f921"
             ]
            ],
            "type": "histogram2dcontour"
           }
          ],
          "mesh3d": [
           {
            "colorbar": {
             "outlinewidth": 0,
             "ticks": ""
            },
            "type": "mesh3d"
           }
          ],
          "parcoords": [
           {
            "line": {
             "colorbar": {
              "outlinewidth": 0,
              "ticks": ""
             }
            },
            "type": "parcoords"
           }
          ],
          "pie": [
           {
            "automargin": true,
            "type": "pie"
           }
          ],
          "scatter": [
           {
            "fillpattern": {
             "fillmode": "overlay",
             "size": 10,
             "solidity": 0.2
            },
            "type": "scatter"
           }
          ],
          "scatter3d": [
           {
            "line": {
             "colorbar": {
              "outlinewidth": 0,
              "ticks": ""
             }
            },
            "marker": {
             "colorbar": {
              "outlinewidth": 0,
              "ticks": ""
             }
            },
            "type": "scatter3d"
           }
          ],
          "scattercarpet": [
           {
            "marker": {
             "colorbar": {
              "outlinewidth": 0,
              "ticks": ""
             }
            },
            "type": "scattercarpet"
           }
          ],
          "scattergeo": [
           {
            "marker": {
             "colorbar": {
              "outlinewidth": 0,
              "ticks": ""
             }
            },
            "type": "scattergeo"
           }
          ],
          "scattergl": [
           {
            "marker": {
             "colorbar": {
              "outlinewidth": 0,
              "ticks": ""
             }
            },
            "type": "scattergl"
           }
          ],
          "scattermapbox": [
           {
            "marker": {
             "colorbar": {
              "outlinewidth": 0,
              "ticks": ""
             }
            },
            "type": "scattermapbox"
           }
          ],
          "scatterpolar": [
           {
            "marker": {
             "colorbar": {
              "outlinewidth": 0,
              "ticks": ""
             }
            },
            "type": "scatterpolar"
           }
          ],
          "scatterpolargl": [
           {
            "marker": {
             "colorbar": {
              "outlinewidth": 0,
              "ticks": ""
             }
            },
            "type": "scatterpolargl"
           }
          ],
          "scatterternary": [
           {
            "marker": {
             "colorbar": {
              "outlinewidth": 0,
              "ticks": ""
             }
            },
            "type": "scatterternary"
           }
          ],
          "surface": [
           {
            "colorbar": {
             "outlinewidth": 0,
             "ticks": ""
            },
            "colorscale": [
             [
              0,
              "#0d0887"
             ],
             [
              0.1111111111111111,
              "#46039f"
             ],
             [
              0.2222222222222222,
              "#7201a8"
             ],
             [
              0.3333333333333333,
              "#9c179e"
             ],
             [
              0.4444444444444444,
              "#bd3786"
             ],
             [
              0.5555555555555556,
              "#d8576b"
             ],
             [
              0.6666666666666666,
              "#ed7953"
             ],
             [
              0.7777777777777778,
              "#fb9f3a"
             ],
             [
              0.8888888888888888,
              "#fdca26"
             ],
             [
              1,
              "#f0f921"
             ]
            ],
            "type": "surface"
           }
          ],
          "table": [
           {
            "cells": {
             "fill": {
              "color": "#EBF0F8"
             },
             "line": {
              "color": "white"
             }
            },
            "header": {
             "fill": {
              "color": "#C8D4E3"
             },
             "line": {
              "color": "white"
             }
            },
            "type": "table"
           }
          ]
         },
         "layout": {
          "annotationdefaults": {
           "arrowcolor": "#2a3f5f",
           "arrowhead": 0,
           "arrowwidth": 1
          },
          "autotypenumbers": "strict",
          "coloraxis": {
           "colorbar": {
            "outlinewidth": 0,
            "ticks": ""
           }
          },
          "colorscale": {
           "diverging": [
            [
             0,
             "#8e0152"
            ],
            [
             0.1,
             "#c51b7d"
            ],
            [
             0.2,
             "#de77ae"
            ],
            [
             0.3,
             "#f1b6da"
            ],
            [
             0.4,
             "#fde0ef"
            ],
            [
             0.5,
             "#f7f7f7"
            ],
            [
             0.6,
             "#e6f5d0"
            ],
            [
             0.7,
             "#b8e186"
            ],
            [
             0.8,
             "#7fbc41"
            ],
            [
             0.9,
             "#4d9221"
            ],
            [
             1,
             "#276419"
            ]
           ],
           "sequential": [
            [
             0,
             "#0d0887"
            ],
            [
             0.1111111111111111,
             "#46039f"
            ],
            [
             0.2222222222222222,
             "#7201a8"
            ],
            [
             0.3333333333333333,
             "#9c179e"
            ],
            [
             0.4444444444444444,
             "#bd3786"
            ],
            [
             0.5555555555555556,
             "#d8576b"
            ],
            [
             0.6666666666666666,
             "#ed7953"
            ],
            [
             0.7777777777777778,
             "#fb9f3a"
            ],
            [
             0.8888888888888888,
             "#fdca26"
            ],
            [
             1,
             "#f0f921"
            ]
           ],
           "sequentialminus": [
            [
             0,
             "#0d0887"
            ],
            [
             0.1111111111111111,
             "#46039f"
            ],
            [
             0.2222222222222222,
             "#7201a8"
            ],
            [
             0.3333333333333333,
             "#9c179e"
            ],
            [
             0.4444444444444444,
             "#bd3786"
            ],
            [
             0.5555555555555556,
             "#d8576b"
            ],
            [
             0.6666666666666666,
             "#ed7953"
            ],
            [
             0.7777777777777778,
             "#fb9f3a"
            ],
            [
             0.8888888888888888,
             "#fdca26"
            ],
            [
             1,
             "#f0f921"
            ]
           ]
          },
          "colorway": [
           "#636efa",
           "#EF553B",
           "#00cc96",
           "#ab63fa",
           "#FFA15A",
           "#19d3f3",
           "#FF6692",
           "#B6E880",
           "#FF97FF",
           "#FECB52"
          ],
          "font": {
           "color": "#2a3f5f"
          },
          "geo": {
           "bgcolor": "white",
           "lakecolor": "white",
           "landcolor": "#E5ECF6",
           "showlakes": true,
           "showland": true,
           "subunitcolor": "white"
          },
          "hoverlabel": {
           "align": "left"
          },
          "hovermode": "closest",
          "mapbox": {
           "style": "light"
          },
          "paper_bgcolor": "white",
          "plot_bgcolor": "#E5ECF6",
          "polar": {
           "angularaxis": {
            "gridcolor": "white",
            "linecolor": "white",
            "ticks": ""
           },
           "bgcolor": "#E5ECF6",
           "radialaxis": {
            "gridcolor": "white",
            "linecolor": "white",
            "ticks": ""
           }
          },
          "scene": {
           "xaxis": {
            "backgroundcolor": "#E5ECF6",
            "gridcolor": "white",
            "gridwidth": 2,
            "linecolor": "white",
            "showbackground": true,
            "ticks": "",
            "zerolinecolor": "white"
           },
           "yaxis": {
            "backgroundcolor": "#E5ECF6",
            "gridcolor": "white",
            "gridwidth": 2,
            "linecolor": "white",
            "showbackground": true,
            "ticks": "",
            "zerolinecolor": "white"
           },
           "zaxis": {
            "backgroundcolor": "#E5ECF6",
            "gridcolor": "white",
            "gridwidth": 2,
            "linecolor": "white",
            "showbackground": true,
            "ticks": "",
            "zerolinecolor": "white"
           }
          },
          "shapedefaults": {
           "line": {
            "color": "#2a3f5f"
           }
          },
          "ternary": {
           "aaxis": {
            "gridcolor": "white",
            "linecolor": "white",
            "ticks": ""
           },
           "baxis": {
            "gridcolor": "white",
            "linecolor": "white",
            "ticks": ""
           },
           "bgcolor": "#E5ECF6",
           "caxis": {
            "gridcolor": "white",
            "linecolor": "white",
            "ticks": ""
           }
          },
          "title": {
           "x": 0.05
          },
          "xaxis": {
           "automargin": true,
           "gridcolor": "white",
           "linecolor": "white",
           "ticks": "",
           "title": {
            "standoff": 15
           },
           "zerolinecolor": "white",
           "zerolinewidth": 2
          },
          "yaxis": {
           "automargin": true,
           "gridcolor": "white",
           "linecolor": "white",
           "ticks": "",
           "title": {
            "standoff": 15
           },
           "zerolinecolor": "white",
           "zerolinewidth": 2
          }
         }
        },
        "title": {
         "x": 0.5
        },
        "width": 800,
        "xaxis": {
         "title": {
          "text": "Budget"
         }
        },
        "yaxis": {
         "title": {
          "text": "loss"
         }
        }
       }
      }
     },
     "metadata": {},
     "output_type": "display_data"
    }
   ],
   "source": [
    "def construct_df(res):\n",
    "    df = pd.DataFrame()\n",
    "    runs = res.get_all_runs()\n",
    "    df['config_id'] = [run.config_id for run in runs]\n",
    "    df['loss'] = [run.loss for run in runs]\n",
    "    df['budget'] = [run.budget for run in runs]\n",
    "    df['config'] = [str(run.info) for run in runs]\n",
    "    return df\n",
    "\n",
    "def plot_results(res_df):\n",
    "    fig = go.Figure()\n",
    "    # Group the data by `config_id`\n",
    "    grouped = res_df.groupby('config_id')\n",
    "    # Loop over each group and add a scatter trace to the figure\n",
    "    group_idx = 0\n",
    "    for _ , group_data in grouped:\n",
    "        fig.add_trace(go.Scatter(\n",
    "            x=group_data['budget'].astype(str),\n",
    "            y=group_data['loss'],\n",
    "            hovertext=group_data['config'],\n",
    "            mode='lines+markers',\n",
    "            line=dict(width=2),\n",
    "            marker=dict(size=8),\n",
    "        ))\n",
    "        group_idx += 1\n",
    "\n",
    "    # Set the x-axis and y-axis labels\n",
    "    fig.update_layout(\n",
    "        xaxis_title='Budget',\n",
    "        yaxis_title='loss',\n",
    "        width=800,\n",
    "        height=650,\n",
    "        title_x=0.5,\n",
    "    )\n",
    "    \n",
    "\n",
    "    # Show the plot\n",
    "    return fig\n",
    "df = construct_df(res)\n",
    "fig = plot_results(df)\n",
    "fig\n"
   ]
  },
  {
   "cell_type": "code",
   "execution_count": 21,
   "metadata": {},
   "outputs": [
    {
     "data": {
      "text/plain": [
       "{'config': {'dense_layers': 1, 'dropout': 0.1, 'lr': 0.0001, 'neurons': 128},\n",
       " 'config_info': {'model_based_pick': False}}"
      ]
     },
     "execution_count": 21,
     "metadata": {},
     "output_type": "execute_result"
    }
   ],
   "source": [
    "res.get_id2config_mapping()[(1, 0, 0)]"
   ]
  }
 ],
 "metadata": {
  "kernelspec": {
   "display_name": "base",
   "language": "python",
   "name": "python3"
  },
  "language_info": {
   "codemirror_mode": {
    "name": "ipython",
    "version": 3
   },
   "file_extension": ".py",
   "mimetype": "text/x-python",
   "name": "python",
   "nbconvert_exporter": "python",
   "pygments_lexer": "ipython3",
   "version": "3.9.16"
  },
  "orig_nbformat": 4
 },
 "nbformat": 4,
 "nbformat_minor": 2
}
