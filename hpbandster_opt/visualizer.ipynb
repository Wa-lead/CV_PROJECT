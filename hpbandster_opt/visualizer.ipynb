{
 "cells": [
  {
   "cell_type": "code",
   "execution_count": 1,
   "metadata": {},
   "outputs": [],
   "source": [
    "import pandas as pd\n",
    "import numpy as np\n",
    "import plotly.express as px\n",
    "import matplotlib.pyplot as plt\n",
    "import plotly.graph_objects as go"
   ]
  },
  {
   "cell_type": "code",
   "execution_count": 2,
   "metadata": {},
   "outputs": [],
   "source": [
    "res = pd.read_pickle('res_final.pkl')\n",
    "def prepare_dataframe(res_object):\n",
    "    all_runs = res_object.get_all_runs()\n",
    "    res_df = pd.DataFrame()\n",
    "    res_df['config_id'] = [run.config_id for run in all_runs]\n",
    "    res_df['loss'] = [run.loss for run in all_runs]\n",
    "    res_df['budget'] = [run.info['info']['budget'] for run in all_runs]\n",
    "    res_df['total_hours'] = [run.info['info']['total_hours'] for run in all_runs]\n",
    "    res_df['NEFAUC'] = np.array([run.info['info']['metric_info']['val']['NEFAUC'] for run in all_runs])*4\n",
    "    return res_df"
   ]
  },
  {
   "cell_type": "code",
   "execution_count": 3,
   "metadata": {},
   "outputs": [
    {
     "data": {
      "text/plain": [
       "config_id: (0, 0, 0)\tbudget: 12.666667\tloss: 0.6463565826416016\n",
       "time_stamps: 0.009006977081298828 (submitted), 0.009006977081298828 (started), 294.53821063041687 (finished)\n",
       "info: {'dense_layers': 1, 'dropout': 0.3, 'lr': 0.001, 'neurons': 128}"
      ]
     },
     "execution_count": 3,
     "metadata": {},
     "output_type": "execute_result"
    }
   ],
   "source": [
    "res.get_all_runs()[0]"
   ]
  },
  {
   "cell_type": "code",
   "execution_count": 4,
   "metadata": {},
   "outputs": [
    {
     "ename": "ValueError",
     "evalue": "Mime type rendering requires nbformat>=4.2.0 but it is not installed",
     "output_type": "error",
     "traceback": [
      "\u001b[1;31m---------------------------------------------------------------------------\u001b[0m",
      "\u001b[1;31mValueError\u001b[0m                                Traceback (most recent call last)",
      "File \u001b[1;32mc:\\Users\\walee\\miniconda3\\envs\\cvpr\\lib\\site-packages\\IPython\\core\\formatters.py:922\u001b[0m, in \u001b[0;36mIPythonDisplayFormatter.__call__\u001b[1;34m(self, obj)\u001b[0m\n\u001b[0;32m    920\u001b[0m method \u001b[39m=\u001b[39m get_real_method(obj, \u001b[39mself\u001b[39m\u001b[39m.\u001b[39mprint_method)\n\u001b[0;32m    921\u001b[0m \u001b[39mif\u001b[39;00m method \u001b[39mis\u001b[39;00m \u001b[39mnot\u001b[39;00m \u001b[39mNone\u001b[39;00m:\n\u001b[1;32m--> 922\u001b[0m     method()\n\u001b[0;32m    923\u001b[0m     \u001b[39mreturn\u001b[39;00m \u001b[39mTrue\u001b[39;00m\n",
      "File \u001b[1;32mc:\\Users\\walee\\miniconda3\\envs\\cvpr\\lib\\site-packages\\plotly\\basedatatypes.py:834\u001b[0m, in \u001b[0;36mBaseFigure._ipython_display_\u001b[1;34m(self)\u001b[0m\n\u001b[0;32m    831\u001b[0m \u001b[39mimport\u001b[39;00m \u001b[39mplotly\u001b[39;00m\u001b[39m.\u001b[39;00m\u001b[39mio\u001b[39;00m \u001b[39mas\u001b[39;00m \u001b[39mpio\u001b[39;00m\n\u001b[0;32m    833\u001b[0m \u001b[39mif\u001b[39;00m pio\u001b[39m.\u001b[39mrenderers\u001b[39m.\u001b[39mrender_on_display \u001b[39mand\u001b[39;00m pio\u001b[39m.\u001b[39mrenderers\u001b[39m.\u001b[39mdefault:\n\u001b[1;32m--> 834\u001b[0m     pio\u001b[39m.\u001b[39;49mshow(\u001b[39mself\u001b[39;49m)\n\u001b[0;32m    835\u001b[0m \u001b[39melse\u001b[39;00m:\n\u001b[0;32m    836\u001b[0m     \u001b[39mprint\u001b[39m(\u001b[39mrepr\u001b[39m(\u001b[39mself\u001b[39m))\n",
      "File \u001b[1;32mc:\\Users\\walee\\miniconda3\\envs\\cvpr\\lib\\site-packages\\plotly\\io\\_renderers.py:396\u001b[0m, in \u001b[0;36mshow\u001b[1;34m(fig, renderer, validate, **kwargs)\u001b[0m\n\u001b[0;32m    391\u001b[0m         \u001b[39mraise\u001b[39;00m \u001b[39mValueError\u001b[39;00m(\n\u001b[0;32m    392\u001b[0m             \u001b[39m\"\u001b[39m\u001b[39mMime type rendering requires ipython but it is not installed\u001b[39m\u001b[39m\"\u001b[39m\n\u001b[0;32m    393\u001b[0m         )\n\u001b[0;32m    395\u001b[0m     \u001b[39mif\u001b[39;00m \u001b[39mnot\u001b[39;00m nbformat \u001b[39mor\u001b[39;00m Version(nbformat\u001b[39m.\u001b[39m__version__) \u001b[39m<\u001b[39m Version(\u001b[39m\"\u001b[39m\u001b[39m4.2.0\u001b[39m\u001b[39m\"\u001b[39m):\n\u001b[1;32m--> 396\u001b[0m         \u001b[39mraise\u001b[39;00m \u001b[39mValueError\u001b[39;00m(\n\u001b[0;32m    397\u001b[0m             \u001b[39m\"\u001b[39m\u001b[39mMime type rendering requires nbformat>=4.2.0 but it is not installed\u001b[39m\u001b[39m\"\u001b[39m\n\u001b[0;32m    398\u001b[0m         )\n\u001b[0;32m    400\u001b[0m     ipython_display\u001b[39m.\u001b[39mdisplay(bundle, raw\u001b[39m=\u001b[39m\u001b[39mTrue\u001b[39;00m)\n\u001b[0;32m    402\u001b[0m \u001b[39m# external renderers\u001b[39;00m\n",
      "\u001b[1;31mValueError\u001b[0m: Mime type rendering requires nbformat>=4.2.0 but it is not installed"
     ]
    },
    {
     "data": {
      "application/vnd.plotly.v1+json": {
       "config": {
        "plotlyServerURL": "https://plot.ly"
       },
       "data": [
        {
         "hovertext": [
          "{'dense_layers': 1, 'dropout': 0.3, 'lr': 0.001, 'neurons': 128}"
         ],
         "line": {
          "width": 2
         },
         "marker": {
          "size": 8
         },
         "mode": "lines+markers",
         "type": "scatter",
         "x": [
          "12.666666666666666"
         ],
         "y": [
          0.6463565826416016
         ]
        },
        {
         "hovertext": [
          "{'dense_layers': 1, 'dropout': 0.1, 'lr': 0.0005, 'neurons': 1024}"
         ],
         "line": {
          "width": 2
         },
         "marker": {
          "size": 8
         },
         "mode": "lines+markers",
         "type": "scatter",
         "x": [
          "12.666666666666666"
         ],
         "y": [
          0.6582476496696472
         ]
        },
        {
         "hovertext": [
          "{'dense_layers': 1, 'dropout': 0.1, 'lr': 0.0001, 'neurons': 512}"
         ],
         "line": {
          "width": 2
         },
         "marker": {
          "size": 8
         },
         "mode": "lines+markers",
         "type": "scatter",
         "x": [
          "12.666666666666666"
         ],
         "y": [
          0.6437598466873169
         ]
        },
        {
         "hovertext": [
          "{'dense_layers': 1, 'dropout': 0.4, 'lr': 0.0005, 'neurons': 128}",
          "{'dense_layers': 1, 'dropout': 0.4, 'lr': 0.0005, 'neurons': 128}",
          "{'dense_layers': 1, 'dropout': 0.4, 'lr': 0.0005, 'neurons': 128}"
         ],
         "line": {
          "width": 2
         },
         "marker": {
          "size": 8
         },
         "mode": "lines+markers",
         "type": "scatter",
         "x": [
          "12.666666666666666",
          "38.0",
          "114.0"
         ],
         "y": [
          0.6407055854797363,
          0.6491490602493286,
          0.6537975668907166
         ]
        },
        {
         "hovertext": [
          "{'dense_layers': 1, 'dropout': 0.3, 'lr': 0.002, 'neurons': 512}",
          "{'dense_layers': 1, 'dropout': 0.3, 'lr': 0.002, 'neurons': 512}"
         ],
         "line": {
          "width": 2
         },
         "marker": {
          "size": 8
         },
         "mode": "lines+markers",
         "type": "scatter",
         "x": [
          "12.666666666666666",
          "38.0"
         ],
         "y": [
          0.6430381536483765,
          0.6683633923530579
         ]
        },
        {
         "hovertext": [
          "{'dense_layers': 1, 'dropout': 0.1, 'lr': 0.001, 'neurons': 128}"
         ],
         "line": {
          "width": 2
         },
         "marker": {
          "size": 8
         },
         "mode": "lines+markers",
         "type": "scatter",
         "x": [
          "12.666666666666666"
         ],
         "y": [
          0.6479687690734863
         ]
        },
        {
         "hovertext": [
          "{'dense_layers': 1, 'dropout': 0.4, 'lr': 0.001, 'neurons': 128}",
          "{'dense_layers': 1, 'dropout': 0.4, 'lr': 0.001, 'neurons': 128}"
         ],
         "line": {
          "width": 2
         },
         "marker": {
          "size": 8
         },
         "mode": "lines+markers",
         "type": "scatter",
         "x": [
          "12.666666666666666",
          "38.0"
         ],
         "y": [
          0.6425995826721191,
          0.6578163504600525
         ]
        },
        {
         "hovertext": [
          "{'dense_layers': 1, 'dropout': 0.2, 'lr': 0.0005, 'neurons': 256}"
         ],
         "line": {
          "width": 2
         },
         "marker": {
          "size": 8
         },
         "mode": "lines+markers",
         "type": "scatter",
         "x": [
          "12.666666666666666"
         ],
         "y": [
          0.6489710211753845
         ]
        },
        {
         "hovertext": [
          "{'dense_layers': 2, 'dropout': 0.3, 'lr': 0.0005, 'neurons': 1024}"
         ],
         "line": {
          "width": 2
         },
         "marker": {
          "size": 8
         },
         "mode": "lines+markers",
         "type": "scatter",
         "x": [
          "12.666666666666666"
         ],
         "y": [
          0.6492792367935181
         ]
        },
        {
         "hovertext": [
          "{'dense_layers': 1, 'dropout': 0.1, 'lr': 0.0001, 'neurons': 128}",
          "{'dense_layers': 1, 'dropout': 0.1, 'lr': 0.0001, 'neurons': 128}"
         ],
         "line": {
          "width": 2
         },
         "marker": {
          "size": 8
         },
         "mode": "lines+markers",
         "type": "scatter",
         "x": [
          "38.0",
          "114.0"
         ],
         "y": [
          0.643979012966156,
          0.6461127996444702
         ]
        },
        {
         "hovertext": [
          "{'dense_layers': 3, 'dropout': 0.1, 'lr': 0.0001, 'neurons': 128}"
         ],
         "line": {
          "width": 2
         },
         "marker": {
          "size": 8
         },
         "mode": "lines+markers",
         "type": "scatter",
         "x": [
          "38.0"
         ],
         "y": [
          0.6656661629676819
         ]
        },
        {
         "hovertext": [
          "{'dense_layers': 3, 'dropout': 0.2, 'lr': 0.002, 'neurons': 256}"
         ],
         "line": {
          "width": 2
         },
         "marker": {
          "size": 8
         },
         "mode": "lines+markers",
         "type": "scatter",
         "x": [
          "38.0"
         ],
         "y": [
          0.6652832627296448
         ]
        },
        {
         "hovertext": [
          "{'dense_layers': 1, 'dropout': 0.2, 'lr': 0.0001, 'neurons': 512}"
         ],
         "line": {
          "width": 2
         },
         "marker": {
          "size": 8
         },
         "mode": "lines+markers",
         "type": "scatter",
         "x": [
          "114.0"
         ],
         "y": [
          0.6465360522270203
         ]
        },
        {
         "hovertext": [
          "{'dense_layers': 1, 'dropout': 0.2, 'lr': 0.001, 'neurons': 512}"
         ],
         "line": {
          "width": 2
         },
         "marker": {
          "size": 8
         },
         "mode": "lines+markers",
         "type": "scatter",
         "x": [
          "114.0"
         ],
         "y": [
          0.7064417600631714
         ]
        },
        {
         "hovertext": [
          "{'dense_layers': 3, 'dropout': 0.1, 'lr': 0.0005, 'neurons': 512}"
         ],
         "line": {
          "width": 2
         },
         "marker": {
          "size": 8
         },
         "mode": "lines+markers",
         "type": "scatter",
         "x": [
          "114.0"
         ],
         "y": [
          0.8039911985397339
         ]
        },
        {
         "hovertext": [
          "{'dense_layers': 3, 'dropout': 0.4, 'lr': 0.001, 'neurons': 128}",
          "{'dense_layers': 3, 'dropout': 0.4, 'lr': 0.001, 'neurons': 128}",
          "{'dense_layers': 3, 'dropout': 0.4, 'lr': 0.001, 'neurons': 128}"
         ],
         "line": {
          "width": 2
         },
         "marker": {
          "size": 8
         },
         "mode": "lines+markers",
         "type": "scatter",
         "x": [
          "12.666666666666666",
          "38.0",
          "114.0"
         ],
         "y": [
          0.6442462205886841,
          0.6502607464790344,
          0.6501975059509277
         ]
        },
        {
         "hovertext": [
          "{'dense_layers': 3, 'dropout': 0.2, 'lr': 0.002, 'neurons': 1024}"
         ],
         "line": {
          "width": 2
         },
         "marker": {
          "size": 8
         },
         "mode": "lines+markers",
         "type": "scatter",
         "x": [
          "12.666666666666666"
         ],
         "y": [
          0.6471041440963745
         ]
        },
        {
         "hovertext": [
          "{'dense_layers': 3, 'dropout': 0.4, 'lr': 0.001, 'neurons': 128}"
         ],
         "line": {
          "width": 2
         },
         "marker": {
          "size": 8
         },
         "mode": "lines+markers",
         "type": "scatter",
         "x": [
          "12.666666666666666"
         ],
         "y": [
          0.6474255919456482
         ]
        },
        {
         "hovertext": [
          "{'dense_layers': 3, 'dropout': 0.3, 'lr': 0.001, 'neurons': 1024}"
         ],
         "line": {
          "width": 2
         },
         "marker": {
          "size": 8
         },
         "mode": "lines+markers",
         "type": "scatter",
         "x": [
          "12.666666666666666"
         ],
         "y": [
          0.6450528502464294
         ]
        },
        {
         "hovertext": [
          "{'dense_layers': 2, 'dropout': 0.1, 'lr': 0.0001, 'neurons': 1024}"
         ],
         "line": {
          "width": 2
         },
         "marker": {
          "size": 8
         },
         "mode": "lines+markers",
         "type": "scatter",
         "x": [
          "12.666666666666666"
         ],
         "y": [
          0.6832940578460693
         ]
        },
        {
         "hovertext": [
          "{'dense_layers': 2, 'dropout': 0.4, 'lr': 0.001, 'neurons': 512}",
          "{'dense_layers': 2, 'dropout': 0.4, 'lr': 0.001, 'neurons': 512}"
         ],
         "line": {
          "width": 2
         },
         "marker": {
          "size": 8
         },
         "mode": "lines+markers",
         "type": "scatter",
         "x": [
          "12.666666666666666",
          "38.0"
         ],
         "y": [
          0.6441856026649475,
          0.6639118790626526
         ]
        },
        {
         "hovertext": [
          "{'dense_layers': 1, 'dropout': 0.2, 'lr': 0.002, 'neurons': 1024}"
         ],
         "line": {
          "width": 2
         },
         "marker": {
          "size": 8
         },
         "mode": "lines+markers",
         "type": "scatter",
         "x": [
          "12.666666666666666"
         ],
         "y": [
          0.6495746374130249
         ]
        },
        {
         "hovertext": [
          "{'dense_layers': 1, 'dropout': 0.2, 'lr': 0.0001, 'neurons': 1024}",
          "{'dense_layers': 1, 'dropout': 0.2, 'lr': 0.0001, 'neurons': 1024}"
         ],
         "line": {
          "width": 2
         },
         "marker": {
          "size": 8
         },
         "mode": "lines+markers",
         "type": "scatter",
         "x": [
          "12.666666666666666",
          "38.0"
         ],
         "y": [
          0.6440504789352417,
          0.6508280038833618
         ]
        },
        {
         "hovertext": [
          "{'dense_layers': 2, 'dropout': 0.5, 'lr': 0.0005, 'neurons': 128}"
         ],
         "line": {
          "width": 2
         },
         "marker": {
          "size": 8
         },
         "mode": "lines+markers",
         "type": "scatter",
         "x": [
          "12.666666666666666"
         ],
         "y": [
          0.6447771191596985
         ]
        }
       ],
       "layout": {
        "height": 650,
        "template": {
         "data": {
          "bar": [
           {
            "error_x": {
             "color": "#2a3f5f"
            },
            "error_y": {
             "color": "#2a3f5f"
            },
            "marker": {
             "line": {
              "color": "#E5ECF6",
              "width": 0.5
             },
             "pattern": {
              "fillmode": "overlay",
              "size": 10,
              "solidity": 0.2
             }
            },
            "type": "bar"
           }
          ],
          "barpolar": [
           {
            "marker": {
             "line": {
              "color": "#E5ECF6",
              "width": 0.5
             },
             "pattern": {
              "fillmode": "overlay",
              "size": 10,
              "solidity": 0.2
             }
            },
            "type": "barpolar"
           }
          ],
          "carpet": [
           {
            "aaxis": {
             "endlinecolor": "#2a3f5f",
             "gridcolor": "white",
             "linecolor": "white",
             "minorgridcolor": "white",
             "startlinecolor": "#2a3f5f"
            },
            "baxis": {
             "endlinecolor": "#2a3f5f",
             "gridcolor": "white",
             "linecolor": "white",
             "minorgridcolor": "white",
             "startlinecolor": "#2a3f5f"
            },
            "type": "carpet"
           }
          ],
          "choropleth": [
           {
            "colorbar": {
             "outlinewidth": 0,
             "ticks": ""
            },
            "type": "choropleth"
           }
          ],
          "contour": [
           {
            "colorbar": {
             "outlinewidth": 0,
             "ticks": ""
            },
            "colorscale": [
             [
              0,
              "#0d0887"
             ],
             [
              0.1111111111111111,
              "#46039f"
             ],
             [
              0.2222222222222222,
              "#7201a8"
             ],
             [
              0.3333333333333333,
              "#9c179e"
             ],
             [
              0.4444444444444444,
              "#bd3786"
             ],
             [
              0.5555555555555556,
              "#d8576b"
             ],
             [
              0.6666666666666666,
              "#ed7953"
             ],
             [
              0.7777777777777778,
              "#fb9f3a"
             ],
             [
              0.8888888888888888,
              "#fdca26"
             ],
             [
              1,
              "#f0f921"
             ]
            ],
            "type": "contour"
           }
          ],
          "contourcarpet": [
           {
            "colorbar": {
             "outlinewidth": 0,
             "ticks": ""
            },
            "type": "contourcarpet"
           }
          ],
          "heatmap": [
           {
            "colorbar": {
             "outlinewidth": 0,
             "ticks": ""
            },
            "colorscale": [
             [
              0,
              "#0d0887"
             ],
             [
              0.1111111111111111,
              "#46039f"
             ],
             [
              0.2222222222222222,
              "#7201a8"
             ],
             [
              0.3333333333333333,
              "#9c179e"
             ],
             [
              0.4444444444444444,
              "#bd3786"
             ],
             [
              0.5555555555555556,
              "#d8576b"
             ],
             [
              0.6666666666666666,
              "#ed7953"
             ],
             [
              0.7777777777777778,
              "#fb9f3a"
             ],
             [
              0.8888888888888888,
              "#fdca26"
             ],
             [
              1,
              "#f0f921"
             ]
            ],
            "type": "heatmap"
           }
          ],
          "heatmapgl": [
           {
            "colorbar": {
             "outlinewidth": 0,
             "ticks": ""
            },
            "colorscale": [
             [
              0,
              "#0d0887"
             ],
             [
              0.1111111111111111,
              "#46039f"
             ],
             [
              0.2222222222222222,
              "#7201a8"
             ],
             [
              0.3333333333333333,
              "#9c179e"
             ],
             [
              0.4444444444444444,
              "#bd3786"
             ],
             [
              0.5555555555555556,
              "#d8576b"
             ],
             [
              0.6666666666666666,
              "#ed7953"
             ],
             [
              0.7777777777777778,
              "#fb9f3a"
             ],
             [
              0.8888888888888888,
              "#fdca26"
             ],
             [
              1,
              "#f0f921"
             ]
            ],
            "type": "heatmapgl"
           }
          ],
          "histogram": [
           {
            "marker": {
             "pattern": {
              "fillmode": "overlay",
              "size": 10,
              "solidity": 0.2
             }
            },
            "type": "histogram"
           }
          ],
          "histogram2d": [
           {
            "colorbar": {
             "outlinewidth": 0,
             "ticks": ""
            },
            "colorscale": [
             [
              0,
              "#0d0887"
             ],
             [
              0.1111111111111111,
              "#46039f"
             ],
             [
              0.2222222222222222,
              "#7201a8"
             ],
             [
              0.3333333333333333,
              "#9c179e"
             ],
             [
              0.4444444444444444,
              "#bd3786"
             ],
             [
              0.5555555555555556,
              "#d8576b"
             ],
             [
              0.6666666666666666,
              "#ed7953"
             ],
             [
              0.7777777777777778,
              "#fb9f3a"
             ],
             [
              0.8888888888888888,
              "#fdca26"
             ],
             [
              1,
              "#f0f921"
             ]
            ],
            "type": "histogram2d"
           }
          ],
          "histogram2dcontour": [
           {
            "colorbar": {
             "outlinewidth": 0,
             "ticks": ""
            },
            "colorscale": [
             [
              0,
              "#0d0887"
             ],
             [
              0.1111111111111111,
              "#46039f"
             ],
             [
              0.2222222222222222,
              "#7201a8"
             ],
             [
              0.3333333333333333,
              "#9c179e"
             ],
             [
              0.4444444444444444,
              "#bd3786"
             ],
             [
              0.5555555555555556,
              "#d8576b"
             ],
             [
              0.6666666666666666,
              "#ed7953"
             ],
             [
              0.7777777777777778,
              "#fb9f3a"
             ],
             [
              0.8888888888888888,
              "#fdca26"
             ],
             [
              1,
              "#f0f921"
             ]
            ],
            "type": "histogram2dcontour"
           }
          ],
          "mesh3d": [
           {
            "colorbar": {
             "outlinewidth": 0,
             "ticks": ""
            },
            "type": "mesh3d"
           }
          ],
          "parcoords": [
           {
            "line": {
             "colorbar": {
              "outlinewidth": 0,
              "ticks": ""
             }
            },
            "type": "parcoords"
           }
          ],
          "pie": [
           {
            "automargin": true,
            "type": "pie"
           }
          ],
          "scatter": [
           {
            "fillpattern": {
             "fillmode": "overlay",
             "size": 10,
             "solidity": 0.2
            },
            "type": "scatter"
           }
          ],
          "scatter3d": [
           {
            "line": {
             "colorbar": {
              "outlinewidth": 0,
              "ticks": ""
             }
            },
            "marker": {
             "colorbar": {
              "outlinewidth": 0,
              "ticks": ""
             }
            },
            "type": "scatter3d"
           }
          ],
          "scattercarpet": [
           {
            "marker": {
             "colorbar": {
              "outlinewidth": 0,
              "ticks": ""
             }
            },
            "type": "scattercarpet"
           }
          ],
          "scattergeo": [
           {
            "marker": {
             "colorbar": {
              "outlinewidth": 0,
              "ticks": ""
             }
            },
            "type": "scattergeo"
           }
          ],
          "scattergl": [
           {
            "marker": {
             "colorbar": {
              "outlinewidth": 0,
              "ticks": ""
             }
            },
            "type": "scattergl"
           }
          ],
          "scattermapbox": [
           {
            "marker": {
             "colorbar": {
              "outlinewidth": 0,
              "ticks": ""
             }
            },
            "type": "scattermapbox"
           }
          ],
          "scatterpolar": [
           {
            "marker": {
             "colorbar": {
              "outlinewidth": 0,
              "ticks": ""
             }
            },
            "type": "scatterpolar"
           }
          ],
          "scatterpolargl": [
           {
            "marker": {
             "colorbar": {
              "outlinewidth": 0,
              "ticks": ""
             }
            },
            "type": "scatterpolargl"
           }
          ],
          "scatterternary": [
           {
            "marker": {
             "colorbar": {
              "outlinewidth": 0,
              "ticks": ""
             }
            },
            "type": "scatterternary"
           }
          ],
          "surface": [
           {
            "colorbar": {
             "outlinewidth": 0,
             "ticks": ""
            },
            "colorscale": [
             [
              0,
              "#0d0887"
             ],
             [
              0.1111111111111111,
              "#46039f"
             ],
             [
              0.2222222222222222,
              "#7201a8"
             ],
             [
              0.3333333333333333,
              "#9c179e"
             ],
             [
              0.4444444444444444,
              "#bd3786"
             ],
             [
              0.5555555555555556,
              "#d8576b"
             ],
             [
              0.6666666666666666,
              "#ed7953"
             ],
             [
              0.7777777777777778,
              "#fb9f3a"
             ],
             [
              0.8888888888888888,
              "#fdca26"
             ],
             [
              1,
              "#f0f921"
             ]
            ],
            "type": "surface"
           }
          ],
          "table": [
           {
            "cells": {
             "fill": {
              "color": "#EBF0F8"
             },
             "line": {
              "color": "white"
             }
            },
            "header": {
             "fill": {
              "color": "#C8D4E3"
             },
             "line": {
              "color": "white"
             }
            },
            "type": "table"
           }
          ]
         },
         "layout": {
          "annotationdefaults": {
           "arrowcolor": "#2a3f5f",
           "arrowhead": 0,
           "arrowwidth": 1
          },
          "autotypenumbers": "strict",
          "coloraxis": {
           "colorbar": {
            "outlinewidth": 0,
            "ticks": ""
           }
          },
          "colorscale": {
           "diverging": [
            [
             0,
             "#8e0152"
            ],
            [
             0.1,
             "#c51b7d"
            ],
            [
             0.2,
             "#de77ae"
            ],
            [
             0.3,
             "#f1b6da"
            ],
            [
             0.4,
             "#fde0ef"
            ],
            [
             0.5,
             "#f7f7f7"
            ],
            [
             0.6,
             "#e6f5d0"
            ],
            [
             0.7,
             "#b8e186"
            ],
            [
             0.8,
             "#7fbc41"
            ],
            [
             0.9,
             "#4d9221"
            ],
            [
             1,
             "#276419"
            ]
           ],
           "sequential": [
            [
             0,
             "#0d0887"
            ],
            [
             0.1111111111111111,
             "#46039f"
            ],
            [
             0.2222222222222222,
             "#7201a8"
            ],
            [
             0.3333333333333333,
             "#9c179e"
            ],
            [
             0.4444444444444444,
             "#bd3786"
            ],
            [
             0.5555555555555556,
             "#d8576b"
            ],
            [
             0.6666666666666666,
             "#ed7953"
            ],
            [
             0.7777777777777778,
             "#fb9f3a"
            ],
            [
             0.8888888888888888,
             "#fdca26"
            ],
            [
             1,
             "#f0f921"
            ]
           ],
           "sequentialminus": [
            [
             0,
             "#0d0887"
            ],
            [
             0.1111111111111111,
             "#46039f"
            ],
            [
             0.2222222222222222,
             "#7201a8"
            ],
            [
             0.3333333333333333,
             "#9c179e"
            ],
            [
             0.4444444444444444,
             "#bd3786"
            ],
            [
             0.5555555555555556,
             "#d8576b"
            ],
            [
             0.6666666666666666,
             "#ed7953"
            ],
            [
             0.7777777777777778,
             "#fb9f3a"
            ],
            [
             0.8888888888888888,
             "#fdca26"
            ],
            [
             1,
             "#f0f921"
            ]
           ]
          },
          "colorway": [
           "#636efa",
           "#EF553B",
           "#00cc96",
           "#ab63fa",
           "#FFA15A",
           "#19d3f3",
           "#FF6692",
           "#B6E880",
           "#FF97FF",
           "#FECB52"
          ],
          "font": {
           "color": "#2a3f5f"
          },
          "geo": {
           "bgcolor": "white",
           "lakecolor": "white",
           "landcolor": "#E5ECF6",
           "showlakes": true,
           "showland": true,
           "subunitcolor": "white"
          },
          "hoverlabel": {
           "align": "left"
          },
          "hovermode": "closest",
          "mapbox": {
           "style": "light"
          },
          "paper_bgcolor": "white",
          "plot_bgcolor": "#E5ECF6",
          "polar": {
           "angularaxis": {
            "gridcolor": "white",
            "linecolor": "white",
            "ticks": ""
           },
           "bgcolor": "#E5ECF6",
           "radialaxis": {
            "gridcolor": "white",
            "linecolor": "white",
            "ticks": ""
           }
          },
          "scene": {
           "xaxis": {
            "backgroundcolor": "#E5ECF6",
            "gridcolor": "white",
            "gridwidth": 2,
            "linecolor": "white",
            "showbackground": true,
            "ticks": "",
            "zerolinecolor": "white"
           },
           "yaxis": {
            "backgroundcolor": "#E5ECF6",
            "gridcolor": "white",
            "gridwidth": 2,
            "linecolor": "white",
            "showbackground": true,
            "ticks": "",
            "zerolinecolor": "white"
           },
           "zaxis": {
            "backgroundcolor": "#E5ECF6",
            "gridcolor": "white",
            "gridwidth": 2,
            "linecolor": "white",
            "showbackground": true,
            "ticks": "",
            "zerolinecolor": "white"
           }
          },
          "shapedefaults": {
           "line": {
            "color": "#2a3f5f"
           }
          },
          "ternary": {
           "aaxis": {
            "gridcolor": "white",
            "linecolor": "white",
            "ticks": ""
           },
           "baxis": {
            "gridcolor": "white",
            "linecolor": "white",
            "ticks": ""
           },
           "bgcolor": "#E5ECF6",
           "caxis": {
            "gridcolor": "white",
            "linecolor": "white",
            "ticks": ""
           }
          },
          "title": {
           "x": 0.05
          },
          "xaxis": {
           "automargin": true,
           "gridcolor": "white",
           "linecolor": "white",
           "ticks": "",
           "title": {
            "standoff": 15
           },
           "zerolinecolor": "white",
           "zerolinewidth": 2
          },
          "yaxis": {
           "automargin": true,
           "gridcolor": "white",
           "linecolor": "white",
           "ticks": "",
           "title": {
            "standoff": 15
           },
           "zerolinecolor": "white",
           "zerolinewidth": 2
          }
         }
        },
        "title": {
         "x": 0.5
        },
        "width": 800,
        "xaxis": {
         "title": {
          "text": "Budget"
         }
        },
        "yaxis": {
         "title": {
          "text": "loss"
         }
        }
       }
      },
      "text/html": [
       "<div>                        <script type=\"text/javascript\">window.PlotlyConfig = {MathJaxConfig: 'local'};</script>\n",
       "        <script charset=\"utf-8\" src=\"https://cdn.plot.ly/plotly-2.20.0.min.js\"></script>                <div id=\"7f8f5143-f53d-484c-b0ec-a219f1d0e581\" class=\"plotly-graph-div\" style=\"height:650px; width:800px;\"></div>            <script type=\"text/javascript\">                                    window.PLOTLYENV=window.PLOTLYENV || {};                                    if (document.getElementById(\"7f8f5143-f53d-484c-b0ec-a219f1d0e581\")) {                    Plotly.newPlot(                        \"7f8f5143-f53d-484c-b0ec-a219f1d0e581\",                        [{\"hovertext\":[\"{'dense_layers': 1, 'dropout': 0.3, 'lr': 0.001, 'neurons': 128}\"],\"line\":{\"width\":2},\"marker\":{\"size\":8},\"mode\":\"lines+markers\",\"x\":[\"12.666666666666666\"],\"y\":[0.6463565826416016],\"type\":\"scatter\"},{\"hovertext\":[\"{'dense_layers': 1, 'dropout': 0.1, 'lr': 0.0005, 'neurons': 1024}\"],\"line\":{\"width\":2},\"marker\":{\"size\":8},\"mode\":\"lines+markers\",\"x\":[\"12.666666666666666\"],\"y\":[0.6582476496696472],\"type\":\"scatter\"},{\"hovertext\":[\"{'dense_layers': 1, 'dropout': 0.1, 'lr': 0.0001, 'neurons': 512}\"],\"line\":{\"width\":2},\"marker\":{\"size\":8},\"mode\":\"lines+markers\",\"x\":[\"12.666666666666666\"],\"y\":[0.6437598466873169],\"type\":\"scatter\"},{\"hovertext\":[\"{'dense_layers': 1, 'dropout': 0.4, 'lr': 0.0005, 'neurons': 128}\",\"{'dense_layers': 1, 'dropout': 0.4, 'lr': 0.0005, 'neurons': 128}\",\"{'dense_layers': 1, 'dropout': 0.4, 'lr': 0.0005, 'neurons': 128}\"],\"line\":{\"width\":2},\"marker\":{\"size\":8},\"mode\":\"lines+markers\",\"x\":[\"12.666666666666666\",\"38.0\",\"114.0\"],\"y\":[0.6407055854797363,0.6491490602493286,0.6537975668907166],\"type\":\"scatter\"},{\"hovertext\":[\"{'dense_layers': 1, 'dropout': 0.3, 'lr': 0.002, 'neurons': 512}\",\"{'dense_layers': 1, 'dropout': 0.3, 'lr': 0.002, 'neurons': 512}\"],\"line\":{\"width\":2},\"marker\":{\"size\":8},\"mode\":\"lines+markers\",\"x\":[\"12.666666666666666\",\"38.0\"],\"y\":[0.6430381536483765,0.6683633923530579],\"type\":\"scatter\"},{\"hovertext\":[\"{'dense_layers': 1, 'dropout': 0.1, 'lr': 0.001, 'neurons': 128}\"],\"line\":{\"width\":2},\"marker\":{\"size\":8},\"mode\":\"lines+markers\",\"x\":[\"12.666666666666666\"],\"y\":[0.6479687690734863],\"type\":\"scatter\"},{\"hovertext\":[\"{'dense_layers': 1, 'dropout': 0.4, 'lr': 0.001, 'neurons': 128}\",\"{'dense_layers': 1, 'dropout': 0.4, 'lr': 0.001, 'neurons': 128}\"],\"line\":{\"width\":2},\"marker\":{\"size\":8},\"mode\":\"lines+markers\",\"x\":[\"12.666666666666666\",\"38.0\"],\"y\":[0.6425995826721191,0.6578163504600525],\"type\":\"scatter\"},{\"hovertext\":[\"{'dense_layers': 1, 'dropout': 0.2, 'lr': 0.0005, 'neurons': 256}\"],\"line\":{\"width\":2},\"marker\":{\"size\":8},\"mode\":\"lines+markers\",\"x\":[\"12.666666666666666\"],\"y\":[0.6489710211753845],\"type\":\"scatter\"},{\"hovertext\":[\"{'dense_layers': 2, 'dropout': 0.3, 'lr': 0.0005, 'neurons': 1024}\"],\"line\":{\"width\":2},\"marker\":{\"size\":8},\"mode\":\"lines+markers\",\"x\":[\"12.666666666666666\"],\"y\":[0.6492792367935181],\"type\":\"scatter\"},{\"hovertext\":[\"{'dense_layers': 1, 'dropout': 0.1, 'lr': 0.0001, 'neurons': 128}\",\"{'dense_layers': 1, 'dropout': 0.1, 'lr': 0.0001, 'neurons': 128}\"],\"line\":{\"width\":2},\"marker\":{\"size\":8},\"mode\":\"lines+markers\",\"x\":[\"38.0\",\"114.0\"],\"y\":[0.643979012966156,0.6461127996444702],\"type\":\"scatter\"},{\"hovertext\":[\"{'dense_layers': 3, 'dropout': 0.1, 'lr': 0.0001, 'neurons': 128}\"],\"line\":{\"width\":2},\"marker\":{\"size\":8},\"mode\":\"lines+markers\",\"x\":[\"38.0\"],\"y\":[0.6656661629676819],\"type\":\"scatter\"},{\"hovertext\":[\"{'dense_layers': 3, 'dropout': 0.2, 'lr': 0.002, 'neurons': 256}\"],\"line\":{\"width\":2},\"marker\":{\"size\":8},\"mode\":\"lines+markers\",\"x\":[\"38.0\"],\"y\":[0.6652832627296448],\"type\":\"scatter\"},{\"hovertext\":[\"{'dense_layers': 1, 'dropout': 0.2, 'lr': 0.0001, 'neurons': 512}\"],\"line\":{\"width\":2},\"marker\":{\"size\":8},\"mode\":\"lines+markers\",\"x\":[\"114.0\"],\"y\":[0.6465360522270203],\"type\":\"scatter\"},{\"hovertext\":[\"{'dense_layers': 1, 'dropout': 0.2, 'lr': 0.001, 'neurons': 512}\"],\"line\":{\"width\":2},\"marker\":{\"size\":8},\"mode\":\"lines+markers\",\"x\":[\"114.0\"],\"y\":[0.7064417600631714],\"type\":\"scatter\"},{\"hovertext\":[\"{'dense_layers': 3, 'dropout': 0.1, 'lr': 0.0005, 'neurons': 512}\"],\"line\":{\"width\":2},\"marker\":{\"size\":8},\"mode\":\"lines+markers\",\"x\":[\"114.0\"],\"y\":[0.8039911985397339],\"type\":\"scatter\"},{\"hovertext\":[\"{'dense_layers': 3, 'dropout': 0.4, 'lr': 0.001, 'neurons': 128}\",\"{'dense_layers': 3, 'dropout': 0.4, 'lr': 0.001, 'neurons': 128}\",\"{'dense_layers': 3, 'dropout': 0.4, 'lr': 0.001, 'neurons': 128}\"],\"line\":{\"width\":2},\"marker\":{\"size\":8},\"mode\":\"lines+markers\",\"x\":[\"12.666666666666666\",\"38.0\",\"114.0\"],\"y\":[0.6442462205886841,0.6502607464790344,0.6501975059509277],\"type\":\"scatter\"},{\"hovertext\":[\"{'dense_layers': 3, 'dropout': 0.2, 'lr': 0.002, 'neurons': 1024}\"],\"line\":{\"width\":2},\"marker\":{\"size\":8},\"mode\":\"lines+markers\",\"x\":[\"12.666666666666666\"],\"y\":[0.6471041440963745],\"type\":\"scatter\"},{\"hovertext\":[\"{'dense_layers': 3, 'dropout': 0.4, 'lr': 0.001, 'neurons': 128}\"],\"line\":{\"width\":2},\"marker\":{\"size\":8},\"mode\":\"lines+markers\",\"x\":[\"12.666666666666666\"],\"y\":[0.6474255919456482],\"type\":\"scatter\"},{\"hovertext\":[\"{'dense_layers': 3, 'dropout': 0.3, 'lr': 0.001, 'neurons': 1024}\"],\"line\":{\"width\":2},\"marker\":{\"size\":8},\"mode\":\"lines+markers\",\"x\":[\"12.666666666666666\"],\"y\":[0.6450528502464294],\"type\":\"scatter\"},{\"hovertext\":[\"{'dense_layers': 2, 'dropout': 0.1, 'lr': 0.0001, 'neurons': 1024}\"],\"line\":{\"width\":2},\"marker\":{\"size\":8},\"mode\":\"lines+markers\",\"x\":[\"12.666666666666666\"],\"y\":[0.6832940578460693],\"type\":\"scatter\"},{\"hovertext\":[\"{'dense_layers': 2, 'dropout': 0.4, 'lr': 0.001, 'neurons': 512}\",\"{'dense_layers': 2, 'dropout': 0.4, 'lr': 0.001, 'neurons': 512}\"],\"line\":{\"width\":2},\"marker\":{\"size\":8},\"mode\":\"lines+markers\",\"x\":[\"12.666666666666666\",\"38.0\"],\"y\":[0.6441856026649475,0.6639118790626526],\"type\":\"scatter\"},{\"hovertext\":[\"{'dense_layers': 1, 'dropout': 0.2, 'lr': 0.002, 'neurons': 1024}\"],\"line\":{\"width\":2},\"marker\":{\"size\":8},\"mode\":\"lines+markers\",\"x\":[\"12.666666666666666\"],\"y\":[0.6495746374130249],\"type\":\"scatter\"},{\"hovertext\":[\"{'dense_layers': 1, 'dropout': 0.2, 'lr': 0.0001, 'neurons': 1024}\",\"{'dense_layers': 1, 'dropout': 0.2, 'lr': 0.0001, 'neurons': 1024}\"],\"line\":{\"width\":2},\"marker\":{\"size\":8},\"mode\":\"lines+markers\",\"x\":[\"12.666666666666666\",\"38.0\"],\"y\":[0.6440504789352417,0.6508280038833618],\"type\":\"scatter\"},{\"hovertext\":[\"{'dense_layers': 2, 'dropout': 0.5, 'lr': 0.0005, 'neurons': 128}\"],\"line\":{\"width\":2},\"marker\":{\"size\":8},\"mode\":\"lines+markers\",\"x\":[\"12.666666666666666\"],\"y\":[0.6447771191596985],\"type\":\"scatter\"}],                        {\"template\":{\"data\":{\"histogram2dcontour\":[{\"type\":\"histogram2dcontour\",\"colorbar\":{\"outlinewidth\":0,\"ticks\":\"\"},\"colorscale\":[[0.0,\"#0d0887\"],[0.1111111111111111,\"#46039f\"],[0.2222222222222222,\"#7201a8\"],[0.3333333333333333,\"#9c179e\"],[0.4444444444444444,\"#bd3786\"],[0.5555555555555556,\"#d8576b\"],[0.6666666666666666,\"#ed7953\"],[0.7777777777777778,\"#fb9f3a\"],[0.8888888888888888,\"#fdca26\"],[1.0,\"#f0f921\"]]}],\"choropleth\":[{\"type\":\"choropleth\",\"colorbar\":{\"outlinewidth\":0,\"ticks\":\"\"}}],\"histogram2d\":[{\"type\":\"histogram2d\",\"colorbar\":{\"outlinewidth\":0,\"ticks\":\"\"},\"colorscale\":[[0.0,\"#0d0887\"],[0.1111111111111111,\"#46039f\"],[0.2222222222222222,\"#7201a8\"],[0.3333333333333333,\"#9c179e\"],[0.4444444444444444,\"#bd3786\"],[0.5555555555555556,\"#d8576b\"],[0.6666666666666666,\"#ed7953\"],[0.7777777777777778,\"#fb9f3a\"],[0.8888888888888888,\"#fdca26\"],[1.0,\"#f0f921\"]]}],\"heatmap\":[{\"type\":\"heatmap\",\"colorbar\":{\"outlinewidth\":0,\"ticks\":\"\"},\"colorscale\":[[0.0,\"#0d0887\"],[0.1111111111111111,\"#46039f\"],[0.2222222222222222,\"#7201a8\"],[0.3333333333333333,\"#9c179e\"],[0.4444444444444444,\"#bd3786\"],[0.5555555555555556,\"#d8576b\"],[0.6666666666666666,\"#ed7953\"],[0.7777777777777778,\"#fb9f3a\"],[0.8888888888888888,\"#fdca26\"],[1.0,\"#f0f921\"]]}],\"heatmapgl\":[{\"type\":\"heatmapgl\",\"colorbar\":{\"outlinewidth\":0,\"ticks\":\"\"},\"colorscale\":[[0.0,\"#0d0887\"],[0.1111111111111111,\"#46039f\"],[0.2222222222222222,\"#7201a8\"],[0.3333333333333333,\"#9c179e\"],[0.4444444444444444,\"#bd3786\"],[0.5555555555555556,\"#d8576b\"],[0.6666666666666666,\"#ed7953\"],[0.7777777777777778,\"#fb9f3a\"],[0.8888888888888888,\"#fdca26\"],[1.0,\"#f0f921\"]]}],\"contourcarpet\":[{\"type\":\"contourcarpet\",\"colorbar\":{\"outlinewidth\":0,\"ticks\":\"\"}}],\"contour\":[{\"type\":\"contour\",\"colorbar\":{\"outlinewidth\":0,\"ticks\":\"\"},\"colorscale\":[[0.0,\"#0d0887\"],[0.1111111111111111,\"#46039f\"],[0.2222222222222222,\"#7201a8\"],[0.3333333333333333,\"#9c179e\"],[0.4444444444444444,\"#bd3786\"],[0.5555555555555556,\"#d8576b\"],[0.6666666666666666,\"#ed7953\"],[0.7777777777777778,\"#fb9f3a\"],[0.8888888888888888,\"#fdca26\"],[1.0,\"#f0f921\"]]}],\"surface\":[{\"type\":\"surface\",\"colorbar\":{\"outlinewidth\":0,\"ticks\":\"\"},\"colorscale\":[[0.0,\"#0d0887\"],[0.1111111111111111,\"#46039f\"],[0.2222222222222222,\"#7201a8\"],[0.3333333333333333,\"#9c179e\"],[0.4444444444444444,\"#bd3786\"],[0.5555555555555556,\"#d8576b\"],[0.6666666666666666,\"#ed7953\"],[0.7777777777777778,\"#fb9f3a\"],[0.8888888888888888,\"#fdca26\"],[1.0,\"#f0f921\"]]}],\"mesh3d\":[{\"type\":\"mesh3d\",\"colorbar\":{\"outlinewidth\":0,\"ticks\":\"\"}}],\"scatter\":[{\"fillpattern\":{\"fillmode\":\"overlay\",\"size\":10,\"solidity\":0.2},\"type\":\"scatter\"}],\"parcoords\":[{\"type\":\"parcoords\",\"line\":{\"colorbar\":{\"outlinewidth\":0,\"ticks\":\"\"}}}],\"scatterpolargl\":[{\"type\":\"scatterpolargl\",\"marker\":{\"colorbar\":{\"outlinewidth\":0,\"ticks\":\"\"}}}],\"bar\":[{\"error_x\":{\"color\":\"#2a3f5f\"},\"error_y\":{\"color\":\"#2a3f5f\"},\"marker\":{\"line\":{\"color\":\"#E5ECF6\",\"width\":0.5},\"pattern\":{\"fillmode\":\"overlay\",\"size\":10,\"solidity\":0.2}},\"type\":\"bar\"}],\"scattergeo\":[{\"type\":\"scattergeo\",\"marker\":{\"colorbar\":{\"outlinewidth\":0,\"ticks\":\"\"}}}],\"scatterpolar\":[{\"type\":\"scatterpolar\",\"marker\":{\"colorbar\":{\"outlinewidth\":0,\"ticks\":\"\"}}}],\"histogram\":[{\"marker\":{\"pattern\":{\"fillmode\":\"overlay\",\"size\":10,\"solidity\":0.2}},\"type\":\"histogram\"}],\"scattergl\":[{\"type\":\"scattergl\",\"marker\":{\"colorbar\":{\"outlinewidth\":0,\"ticks\":\"\"}}}],\"scatter3d\":[{\"type\":\"scatter3d\",\"line\":{\"colorbar\":{\"outlinewidth\":0,\"ticks\":\"\"}},\"marker\":{\"colorbar\":{\"outlinewidth\":0,\"ticks\":\"\"}}}],\"scattermapbox\":[{\"type\":\"scattermapbox\",\"marker\":{\"colorbar\":{\"outlinewidth\":0,\"ticks\":\"\"}}}],\"scatterternary\":[{\"type\":\"scatterternary\",\"marker\":{\"colorbar\":{\"outlinewidth\":0,\"ticks\":\"\"}}}],\"scattercarpet\":[{\"type\":\"scattercarpet\",\"marker\":{\"colorbar\":{\"outlinewidth\":0,\"ticks\":\"\"}}}],\"carpet\":[{\"aaxis\":{\"endlinecolor\":\"#2a3f5f\",\"gridcolor\":\"white\",\"linecolor\":\"white\",\"minorgridcolor\":\"white\",\"startlinecolor\":\"#2a3f5f\"},\"baxis\":{\"endlinecolor\":\"#2a3f5f\",\"gridcolor\":\"white\",\"linecolor\":\"white\",\"minorgridcolor\":\"white\",\"startlinecolor\":\"#2a3f5f\"},\"type\":\"carpet\"}],\"table\":[{\"cells\":{\"fill\":{\"color\":\"#EBF0F8\"},\"line\":{\"color\":\"white\"}},\"header\":{\"fill\":{\"color\":\"#C8D4E3\"},\"line\":{\"color\":\"white\"}},\"type\":\"table\"}],\"barpolar\":[{\"marker\":{\"line\":{\"color\":\"#E5ECF6\",\"width\":0.5},\"pattern\":{\"fillmode\":\"overlay\",\"size\":10,\"solidity\":0.2}},\"type\":\"barpolar\"}],\"pie\":[{\"automargin\":true,\"type\":\"pie\"}]},\"layout\":{\"autotypenumbers\":\"strict\",\"colorway\":[\"#636efa\",\"#EF553B\",\"#00cc96\",\"#ab63fa\",\"#FFA15A\",\"#19d3f3\",\"#FF6692\",\"#B6E880\",\"#FF97FF\",\"#FECB52\"],\"font\":{\"color\":\"#2a3f5f\"},\"hovermode\":\"closest\",\"hoverlabel\":{\"align\":\"left\"},\"paper_bgcolor\":\"white\",\"plot_bgcolor\":\"#E5ECF6\",\"polar\":{\"bgcolor\":\"#E5ECF6\",\"angularaxis\":{\"gridcolor\":\"white\",\"linecolor\":\"white\",\"ticks\":\"\"},\"radialaxis\":{\"gridcolor\":\"white\",\"linecolor\":\"white\",\"ticks\":\"\"}},\"ternary\":{\"bgcolor\":\"#E5ECF6\",\"aaxis\":{\"gridcolor\":\"white\",\"linecolor\":\"white\",\"ticks\":\"\"},\"baxis\":{\"gridcolor\":\"white\",\"linecolor\":\"white\",\"ticks\":\"\"},\"caxis\":{\"gridcolor\":\"white\",\"linecolor\":\"white\",\"ticks\":\"\"}},\"coloraxis\":{\"colorbar\":{\"outlinewidth\":0,\"ticks\":\"\"}},\"colorscale\":{\"sequential\":[[0.0,\"#0d0887\"],[0.1111111111111111,\"#46039f\"],[0.2222222222222222,\"#7201a8\"],[0.3333333333333333,\"#9c179e\"],[0.4444444444444444,\"#bd3786\"],[0.5555555555555556,\"#d8576b\"],[0.6666666666666666,\"#ed7953\"],[0.7777777777777778,\"#fb9f3a\"],[0.8888888888888888,\"#fdca26\"],[1.0,\"#f0f921\"]],\"sequentialminus\":[[0.0,\"#0d0887\"],[0.1111111111111111,\"#46039f\"],[0.2222222222222222,\"#7201a8\"],[0.3333333333333333,\"#9c179e\"],[0.4444444444444444,\"#bd3786\"],[0.5555555555555556,\"#d8576b\"],[0.6666666666666666,\"#ed7953\"],[0.7777777777777778,\"#fb9f3a\"],[0.8888888888888888,\"#fdca26\"],[1.0,\"#f0f921\"]],\"diverging\":[[0,\"#8e0152\"],[0.1,\"#c51b7d\"],[0.2,\"#de77ae\"],[0.3,\"#f1b6da\"],[0.4,\"#fde0ef\"],[0.5,\"#f7f7f7\"],[0.6,\"#e6f5d0\"],[0.7,\"#b8e186\"],[0.8,\"#7fbc41\"],[0.9,\"#4d9221\"],[1,\"#276419\"]]},\"xaxis\":{\"gridcolor\":\"white\",\"linecolor\":\"white\",\"ticks\":\"\",\"title\":{\"standoff\":15},\"zerolinecolor\":\"white\",\"automargin\":true,\"zerolinewidth\":2},\"yaxis\":{\"gridcolor\":\"white\",\"linecolor\":\"white\",\"ticks\":\"\",\"title\":{\"standoff\":15},\"zerolinecolor\":\"white\",\"automargin\":true,\"zerolinewidth\":2},\"scene\":{\"xaxis\":{\"backgroundcolor\":\"#E5ECF6\",\"gridcolor\":\"white\",\"linecolor\":\"white\",\"showbackground\":true,\"ticks\":\"\",\"zerolinecolor\":\"white\",\"gridwidth\":2},\"yaxis\":{\"backgroundcolor\":\"#E5ECF6\",\"gridcolor\":\"white\",\"linecolor\":\"white\",\"showbackground\":true,\"ticks\":\"\",\"zerolinecolor\":\"white\",\"gridwidth\":2},\"zaxis\":{\"backgroundcolor\":\"#E5ECF6\",\"gridcolor\":\"white\",\"linecolor\":\"white\",\"showbackground\":true,\"ticks\":\"\",\"zerolinecolor\":\"white\",\"gridwidth\":2}},\"shapedefaults\":{\"line\":{\"color\":\"#2a3f5f\"}},\"annotationdefaults\":{\"arrowcolor\":\"#2a3f5f\",\"arrowhead\":0,\"arrowwidth\":1},\"geo\":{\"bgcolor\":\"white\",\"landcolor\":\"#E5ECF6\",\"subunitcolor\":\"white\",\"showland\":true,\"showlakes\":true,\"lakecolor\":\"white\"},\"title\":{\"x\":0.05},\"mapbox\":{\"style\":\"light\"}}},\"title\":{\"x\":0.5},\"xaxis\":{\"title\":{\"text\":\"Budget\"}},\"yaxis\":{\"title\":{\"text\":\"loss\"}},\"width\":800,\"height\":650},                        {\"responsive\": true}                    )                };                            </script>        </div>"
      ],
      "text/plain": [
       "Figure({\n",
       "    'data': [{'hovertext': array([\"{'dense_layers': 1, 'dropout': 0.3, 'lr': 0.001, 'neurons': 128}\"],\n",
       "                                 dtype=object),\n",
       "              'line': {'width': 2},\n",
       "              'marker': {'size': 8},\n",
       "              'mode': 'lines+markers',\n",
       "              'type': 'scatter',\n",
       "              'x': array(['12.666666666666666'], dtype=object),\n",
       "              'y': array([0.64635658])},\n",
       "             {'hovertext': array([\"{'dense_layers': 1, 'dropout': 0.1, 'lr': 0.0005, 'neurons': 1024}\"],\n",
       "                                 dtype=object),\n",
       "              'line': {'width': 2},\n",
       "              'marker': {'size': 8},\n",
       "              'mode': 'lines+markers',\n",
       "              'type': 'scatter',\n",
       "              'x': array(['12.666666666666666'], dtype=object),\n",
       "              'y': array([0.65824765])},\n",
       "             {'hovertext': array([\"{'dense_layers': 1, 'dropout': 0.1, 'lr': 0.0001, 'neurons': 512}\"],\n",
       "                                 dtype=object),\n",
       "              'line': {'width': 2},\n",
       "              'marker': {'size': 8},\n",
       "              'mode': 'lines+markers',\n",
       "              'type': 'scatter',\n",
       "              'x': array(['12.666666666666666'], dtype=object),\n",
       "              'y': array([0.64375985])},\n",
       "             {'hovertext': array([\"{'dense_layers': 1, 'dropout': 0.4, 'lr': 0.0005, 'neurons': 128}\",\n",
       "                                  \"{'dense_layers': 1, 'dropout': 0.4, 'lr': 0.0005, 'neurons': 128}\",\n",
       "                                  \"{'dense_layers': 1, 'dropout': 0.4, 'lr': 0.0005, 'neurons': 128}\"],\n",
       "                                 dtype=object),\n",
       "              'line': {'width': 2},\n",
       "              'marker': {'size': 8},\n",
       "              'mode': 'lines+markers',\n",
       "              'type': 'scatter',\n",
       "              'x': array(['12.666666666666666', '38.0', '114.0'], dtype=object),\n",
       "              'y': array([0.64070559, 0.64914906, 0.65379757])},\n",
       "             {'hovertext': array([\"{'dense_layers': 1, 'dropout': 0.3, 'lr': 0.002, 'neurons': 512}\",\n",
       "                                  \"{'dense_layers': 1, 'dropout': 0.3, 'lr': 0.002, 'neurons': 512}\"],\n",
       "                                 dtype=object),\n",
       "              'line': {'width': 2},\n",
       "              'marker': {'size': 8},\n",
       "              'mode': 'lines+markers',\n",
       "              'type': 'scatter',\n",
       "              'x': array(['12.666666666666666', '38.0'], dtype=object),\n",
       "              'y': array([0.64303815, 0.66836339])},\n",
       "             {'hovertext': array([\"{'dense_layers': 1, 'dropout': 0.1, 'lr': 0.001, 'neurons': 128}\"],\n",
       "                                 dtype=object),\n",
       "              'line': {'width': 2},\n",
       "              'marker': {'size': 8},\n",
       "              'mode': 'lines+markers',\n",
       "              'type': 'scatter',\n",
       "              'x': array(['12.666666666666666'], dtype=object),\n",
       "              'y': array([0.64796877])},\n",
       "             {'hovertext': array([\"{'dense_layers': 1, 'dropout': 0.4, 'lr': 0.001, 'neurons': 128}\",\n",
       "                                  \"{'dense_layers': 1, 'dropout': 0.4, 'lr': 0.001, 'neurons': 128}\"],\n",
       "                                 dtype=object),\n",
       "              'line': {'width': 2},\n",
       "              'marker': {'size': 8},\n",
       "              'mode': 'lines+markers',\n",
       "              'type': 'scatter',\n",
       "              'x': array(['12.666666666666666', '38.0'], dtype=object),\n",
       "              'y': array([0.64259958, 0.65781635])},\n",
       "             {'hovertext': array([\"{'dense_layers': 1, 'dropout': 0.2, 'lr': 0.0005, 'neurons': 256}\"],\n",
       "                                 dtype=object),\n",
       "              'line': {'width': 2},\n",
       "              'marker': {'size': 8},\n",
       "              'mode': 'lines+markers',\n",
       "              'type': 'scatter',\n",
       "              'x': array(['12.666666666666666'], dtype=object),\n",
       "              'y': array([0.64897102])},\n",
       "             {'hovertext': array([\"{'dense_layers': 2, 'dropout': 0.3, 'lr': 0.0005, 'neurons': 1024}\"],\n",
       "                                 dtype=object),\n",
       "              'line': {'width': 2},\n",
       "              'marker': {'size': 8},\n",
       "              'mode': 'lines+markers',\n",
       "              'type': 'scatter',\n",
       "              'x': array(['12.666666666666666'], dtype=object),\n",
       "              'y': array([0.64927924])},\n",
       "             {'hovertext': array([\"{'dense_layers': 1, 'dropout': 0.1, 'lr': 0.0001, 'neurons': 128}\",\n",
       "                                  \"{'dense_layers': 1, 'dropout': 0.1, 'lr': 0.0001, 'neurons': 128}\"],\n",
       "                                 dtype=object),\n",
       "              'line': {'width': 2},\n",
       "              'marker': {'size': 8},\n",
       "              'mode': 'lines+markers',\n",
       "              'type': 'scatter',\n",
       "              'x': array(['38.0', '114.0'], dtype=object),\n",
       "              'y': array([0.64397901, 0.6461128 ])},\n",
       "             {'hovertext': array([\"{'dense_layers': 3, 'dropout': 0.1, 'lr': 0.0001, 'neurons': 128}\"],\n",
       "                                 dtype=object),\n",
       "              'line': {'width': 2},\n",
       "              'marker': {'size': 8},\n",
       "              'mode': 'lines+markers',\n",
       "              'type': 'scatter',\n",
       "              'x': array(['38.0'], dtype=object),\n",
       "              'y': array([0.66566616])},\n",
       "             {'hovertext': array([\"{'dense_layers': 3, 'dropout': 0.2, 'lr': 0.002, 'neurons': 256}\"],\n",
       "                                 dtype=object),\n",
       "              'line': {'width': 2},\n",
       "              'marker': {'size': 8},\n",
       "              'mode': 'lines+markers',\n",
       "              'type': 'scatter',\n",
       "              'x': array(['38.0'], dtype=object),\n",
       "              'y': array([0.66528326])},\n",
       "             {'hovertext': array([\"{'dense_layers': 1, 'dropout': 0.2, 'lr': 0.0001, 'neurons': 512}\"],\n",
       "                                 dtype=object),\n",
       "              'line': {'width': 2},\n",
       "              'marker': {'size': 8},\n",
       "              'mode': 'lines+markers',\n",
       "              'type': 'scatter',\n",
       "              'x': array(['114.0'], dtype=object),\n",
       "              'y': array([0.64653605])},\n",
       "             {'hovertext': array([\"{'dense_layers': 1, 'dropout': 0.2, 'lr': 0.001, 'neurons': 512}\"],\n",
       "                                 dtype=object),\n",
       "              'line': {'width': 2},\n",
       "              'marker': {'size': 8},\n",
       "              'mode': 'lines+markers',\n",
       "              'type': 'scatter',\n",
       "              'x': array(['114.0'], dtype=object),\n",
       "              'y': array([0.70644176])},\n",
       "             {'hovertext': array([\"{'dense_layers': 3, 'dropout': 0.1, 'lr': 0.0005, 'neurons': 512}\"],\n",
       "                                 dtype=object),\n",
       "              'line': {'width': 2},\n",
       "              'marker': {'size': 8},\n",
       "              'mode': 'lines+markers',\n",
       "              'type': 'scatter',\n",
       "              'x': array(['114.0'], dtype=object),\n",
       "              'y': array([0.8039912])},\n",
       "             {'hovertext': array([\"{'dense_layers': 3, 'dropout': 0.4, 'lr': 0.001, 'neurons': 128}\",\n",
       "                                  \"{'dense_layers': 3, 'dropout': 0.4, 'lr': 0.001, 'neurons': 128}\",\n",
       "                                  \"{'dense_layers': 3, 'dropout': 0.4, 'lr': 0.001, 'neurons': 128}\"],\n",
       "                                 dtype=object),\n",
       "              'line': {'width': 2},\n",
       "              'marker': {'size': 8},\n",
       "              'mode': 'lines+markers',\n",
       "              'type': 'scatter',\n",
       "              'x': array(['12.666666666666666', '38.0', '114.0'], dtype=object),\n",
       "              'y': array([0.64424622, 0.65026075, 0.65019751])},\n",
       "             {'hovertext': array([\"{'dense_layers': 3, 'dropout': 0.2, 'lr': 0.002, 'neurons': 1024}\"],\n",
       "                                 dtype=object),\n",
       "              'line': {'width': 2},\n",
       "              'marker': {'size': 8},\n",
       "              'mode': 'lines+markers',\n",
       "              'type': 'scatter',\n",
       "              'x': array(['12.666666666666666'], dtype=object),\n",
       "              'y': array([0.64710414])},\n",
       "             {'hovertext': array([\"{'dense_layers': 3, 'dropout': 0.4, 'lr': 0.001, 'neurons': 128}\"],\n",
       "                                 dtype=object),\n",
       "              'line': {'width': 2},\n",
       "              'marker': {'size': 8},\n",
       "              'mode': 'lines+markers',\n",
       "              'type': 'scatter',\n",
       "              'x': array(['12.666666666666666'], dtype=object),\n",
       "              'y': array([0.64742559])},\n",
       "             {'hovertext': array([\"{'dense_layers': 3, 'dropout': 0.3, 'lr': 0.001, 'neurons': 1024}\"],\n",
       "                                 dtype=object),\n",
       "              'line': {'width': 2},\n",
       "              'marker': {'size': 8},\n",
       "              'mode': 'lines+markers',\n",
       "              'type': 'scatter',\n",
       "              'x': array(['12.666666666666666'], dtype=object),\n",
       "              'y': array([0.64505285])},\n",
       "             {'hovertext': array([\"{'dense_layers': 2, 'dropout': 0.1, 'lr': 0.0001, 'neurons': 1024}\"],\n",
       "                                 dtype=object),\n",
       "              'line': {'width': 2},\n",
       "              'marker': {'size': 8},\n",
       "              'mode': 'lines+markers',\n",
       "              'type': 'scatter',\n",
       "              'x': array(['12.666666666666666'], dtype=object),\n",
       "              'y': array([0.68329406])},\n",
       "             {'hovertext': array([\"{'dense_layers': 2, 'dropout': 0.4, 'lr': 0.001, 'neurons': 512}\",\n",
       "                                  \"{'dense_layers': 2, 'dropout': 0.4, 'lr': 0.001, 'neurons': 512}\"],\n",
       "                                 dtype=object),\n",
       "              'line': {'width': 2},\n",
       "              'marker': {'size': 8},\n",
       "              'mode': 'lines+markers',\n",
       "              'type': 'scatter',\n",
       "              'x': array(['12.666666666666666', '38.0'], dtype=object),\n",
       "              'y': array([0.6441856 , 0.66391188])},\n",
       "             {'hovertext': array([\"{'dense_layers': 1, 'dropout': 0.2, 'lr': 0.002, 'neurons': 1024}\"],\n",
       "                                 dtype=object),\n",
       "              'line': {'width': 2},\n",
       "              'marker': {'size': 8},\n",
       "              'mode': 'lines+markers',\n",
       "              'type': 'scatter',\n",
       "              'x': array(['12.666666666666666'], dtype=object),\n",
       "              'y': array([0.64957464])},\n",
       "             {'hovertext': array([\"{'dense_layers': 1, 'dropout': 0.2, 'lr': 0.0001, 'neurons': 1024}\",\n",
       "                                  \"{'dense_layers': 1, 'dropout': 0.2, 'lr': 0.0001, 'neurons': 1024}\"],\n",
       "                                 dtype=object),\n",
       "              'line': {'width': 2},\n",
       "              'marker': {'size': 8},\n",
       "              'mode': 'lines+markers',\n",
       "              'type': 'scatter',\n",
       "              'x': array(['12.666666666666666', '38.0'], dtype=object),\n",
       "              'y': array([0.64405048, 0.650828  ])},\n",
       "             {'hovertext': array([\"{'dense_layers': 2, 'dropout': 0.5, 'lr': 0.0005, 'neurons': 128}\"],\n",
       "                                 dtype=object),\n",
       "              'line': {'width': 2},\n",
       "              'marker': {'size': 8},\n",
       "              'mode': 'lines+markers',\n",
       "              'type': 'scatter',\n",
       "              'x': array(['12.666666666666666'], dtype=object),\n",
       "              'y': array([0.64477712])}],\n",
       "    'layout': {'height': 650,\n",
       "               'template': '...',\n",
       "               'title': {'x': 0.5},\n",
       "               'width': 800,\n",
       "               'xaxis': {'title': {'text': 'Budget'}},\n",
       "               'yaxis': {'title': {'text': 'loss'}}}\n",
       "})"
      ]
     },
     "execution_count": 4,
     "metadata": {},
     "output_type": "execute_result"
    }
   ],
   "source": [
    "def construct_df(res):\n",
    "    df = pd.DataFrame()\n",
    "    runs = res.get_all_runs()\n",
    "    df['config_id'] = [run.config_id for run in runs]\n",
    "    df['loss'] = [run.loss for run in runs]\n",
    "    df['budget'] = [run.budget for run in runs]\n",
    "    df['config'] = [str(run.info) for run in runs]\n",
    "    return df\n",
    "\n",
    "def plot_results(res_df):\n",
    "    fig = go.Figure()\n",
    "    # Group the data by `config_id`\n",
    "    grouped = res_df.groupby('config_id')\n",
    "    # Loop over each group and add a scatter trace to the figure\n",
    "    group_idx = 0\n",
    "    for _ , group_data in grouped:\n",
    "        fig.add_trace(go.Scatter(\n",
    "            x=group_data['budget'].astype(str),\n",
    "            y=group_data['loss'],\n",
    "            hovertext=group_data['config'],\n",
    "            mode='lines+markers',\n",
    "            line=dict(width=2),\n",
    "            marker=dict(size=8),\n",
    "        ))\n",
    "        group_idx += 1\n",
    "\n",
    "    # Set the x-axis and y-axis labels\n",
    "    fig.update_layout(\n",
    "        xaxis_title='Budget',\n",
    "        yaxis_title='loss',\n",
    "        width=800,\n",
    "        height=650,\n",
    "        title_x=0.5,\n",
    "    )\n",
    "    \n",
    "\n",
    "    # Show the plot\n",
    "    return fig\n",
    "df = construct_df(res)\n",
    "fig = plot_results(df)\n",
    "fig\n"
   ]
  },
  {
   "cell_type": "code",
   "execution_count": 5,
   "metadata": {},
   "outputs": [
    {
     "data": {
      "text/html": [
       "<div>\n",
       "<style scoped>\n",
       "    .dataframe tbody tr th:only-of-type {\n",
       "        vertical-align: middle;\n",
       "    }\n",
       "\n",
       "    .dataframe tbody tr th {\n",
       "        vertical-align: top;\n",
       "    }\n",
       "\n",
       "    .dataframe thead th {\n",
       "        text-align: right;\n",
       "    }\n",
       "</style>\n",
       "<table border=\"1\" class=\"dataframe\">\n",
       "  <thead>\n",
       "    <tr style=\"text-align: right;\">\n",
       "      <th></th>\n",
       "      <th>config_id</th>\n",
       "      <th>loss</th>\n",
       "      <th>budget</th>\n",
       "      <th>config</th>\n",
       "    </tr>\n",
       "  </thead>\n",
       "  <tbody>\n",
       "    <tr>\n",
       "      <th>0</th>\n",
       "      <td>(0, 0, 0)</td>\n",
       "      <td>0.646357</td>\n",
       "      <td>12.666667</td>\n",
       "      <td>{'dense_layers': 1, 'dropout': 0.3, 'lr': 0.00...</td>\n",
       "    </tr>\n",
       "    <tr>\n",
       "      <th>1</th>\n",
       "      <td>(0, 0, 1)</td>\n",
       "      <td>0.658248</td>\n",
       "      <td>12.666667</td>\n",
       "      <td>{'dense_layers': 1, 'dropout': 0.1, 'lr': 0.00...</td>\n",
       "    </tr>\n",
       "    <tr>\n",
       "      <th>2</th>\n",
       "      <td>(0, 0, 2)</td>\n",
       "      <td>0.643760</td>\n",
       "      <td>12.666667</td>\n",
       "      <td>{'dense_layers': 1, 'dropout': 0.1, 'lr': 0.00...</td>\n",
       "    </tr>\n",
       "    <tr>\n",
       "      <th>3</th>\n",
       "      <td>(0, 0, 3)</td>\n",
       "      <td>0.640706</td>\n",
       "      <td>12.666667</td>\n",
       "      <td>{'dense_layers': 1, 'dropout': 0.4, 'lr': 0.00...</td>\n",
       "    </tr>\n",
       "    <tr>\n",
       "      <th>4</th>\n",
       "      <td>(0, 0, 3)</td>\n",
       "      <td>0.649149</td>\n",
       "      <td>38.000000</td>\n",
       "      <td>{'dense_layers': 1, 'dropout': 0.4, 'lr': 0.00...</td>\n",
       "    </tr>\n",
       "    <tr>\n",
       "      <th>5</th>\n",
       "      <td>(0, 0, 3)</td>\n",
       "      <td>0.653798</td>\n",
       "      <td>114.000000</td>\n",
       "      <td>{'dense_layers': 1, 'dropout': 0.4, 'lr': 0.00...</td>\n",
       "    </tr>\n",
       "    <tr>\n",
       "      <th>6</th>\n",
       "      <td>(0, 0, 4)</td>\n",
       "      <td>0.643038</td>\n",
       "      <td>12.666667</td>\n",
       "      <td>{'dense_layers': 1, 'dropout': 0.3, 'lr': 0.00...</td>\n",
       "    </tr>\n",
       "    <tr>\n",
       "      <th>7</th>\n",
       "      <td>(0, 0, 4)</td>\n",
       "      <td>0.668363</td>\n",
       "      <td>38.000000</td>\n",
       "      <td>{'dense_layers': 1, 'dropout': 0.3, 'lr': 0.00...</td>\n",
       "    </tr>\n",
       "    <tr>\n",
       "      <th>8</th>\n",
       "      <td>(0, 0, 5)</td>\n",
       "      <td>0.647969</td>\n",
       "      <td>12.666667</td>\n",
       "      <td>{'dense_layers': 1, 'dropout': 0.1, 'lr': 0.00...</td>\n",
       "    </tr>\n",
       "    <tr>\n",
       "      <th>9</th>\n",
       "      <td>(0, 0, 6)</td>\n",
       "      <td>0.642600</td>\n",
       "      <td>12.666667</td>\n",
       "      <td>{'dense_layers': 1, 'dropout': 0.4, 'lr': 0.00...</td>\n",
       "    </tr>\n",
       "    <tr>\n",
       "      <th>10</th>\n",
       "      <td>(0, 0, 6)</td>\n",
       "      <td>0.657816</td>\n",
       "      <td>38.000000</td>\n",
       "      <td>{'dense_layers': 1, 'dropout': 0.4, 'lr': 0.00...</td>\n",
       "    </tr>\n",
       "    <tr>\n",
       "      <th>11</th>\n",
       "      <td>(0, 0, 7)</td>\n",
       "      <td>0.648971</td>\n",
       "      <td>12.666667</td>\n",
       "      <td>{'dense_layers': 1, 'dropout': 0.2, 'lr': 0.00...</td>\n",
       "    </tr>\n",
       "    <tr>\n",
       "      <th>12</th>\n",
       "      <td>(0, 0, 8)</td>\n",
       "      <td>0.649279</td>\n",
       "      <td>12.666667</td>\n",
       "      <td>{'dense_layers': 2, 'dropout': 0.3, 'lr': 0.00...</td>\n",
       "    </tr>\n",
       "    <tr>\n",
       "      <th>13</th>\n",
       "      <td>(1, 0, 0)</td>\n",
       "      <td>0.643979</td>\n",
       "      <td>38.000000</td>\n",
       "      <td>{'dense_layers': 1, 'dropout': 0.1, 'lr': 0.00...</td>\n",
       "    </tr>\n",
       "    <tr>\n",
       "      <th>14</th>\n",
       "      <td>(1, 0, 0)</td>\n",
       "      <td>0.646113</td>\n",
       "      <td>114.000000</td>\n",
       "      <td>{'dense_layers': 1, 'dropout': 0.1, 'lr': 0.00...</td>\n",
       "    </tr>\n",
       "    <tr>\n",
       "      <th>15</th>\n",
       "      <td>(1, 0, 1)</td>\n",
       "      <td>0.665666</td>\n",
       "      <td>38.000000</td>\n",
       "      <td>{'dense_layers': 3, 'dropout': 0.1, 'lr': 0.00...</td>\n",
       "    </tr>\n",
       "    <tr>\n",
       "      <th>16</th>\n",
       "      <td>(1, 0, 2)</td>\n",
       "      <td>0.665283</td>\n",
       "      <td>38.000000</td>\n",
       "      <td>{'dense_layers': 3, 'dropout': 0.2, 'lr': 0.00...</td>\n",
       "    </tr>\n",
       "    <tr>\n",
       "      <th>17</th>\n",
       "      <td>(2, 0, 0)</td>\n",
       "      <td>0.646536</td>\n",
       "      <td>114.000000</td>\n",
       "      <td>{'dense_layers': 1, 'dropout': 0.2, 'lr': 0.00...</td>\n",
       "    </tr>\n",
       "    <tr>\n",
       "      <th>18</th>\n",
       "      <td>(2, 0, 1)</td>\n",
       "      <td>0.706442</td>\n",
       "      <td>114.000000</td>\n",
       "      <td>{'dense_layers': 1, 'dropout': 0.2, 'lr': 0.00...</td>\n",
       "    </tr>\n",
       "    <tr>\n",
       "      <th>19</th>\n",
       "      <td>(2, 0, 2)</td>\n",
       "      <td>0.803991</td>\n",
       "      <td>114.000000</td>\n",
       "      <td>{'dense_layers': 3, 'dropout': 0.1, 'lr': 0.00...</td>\n",
       "    </tr>\n",
       "    <tr>\n",
       "      <th>20</th>\n",
       "      <td>(3, 0, 0)</td>\n",
       "      <td>0.644246</td>\n",
       "      <td>12.666667</td>\n",
       "      <td>{'dense_layers': 3, 'dropout': 0.4, 'lr': 0.00...</td>\n",
       "    </tr>\n",
       "    <tr>\n",
       "      <th>21</th>\n",
       "      <td>(3, 0, 0)</td>\n",
       "      <td>0.650261</td>\n",
       "      <td>38.000000</td>\n",
       "      <td>{'dense_layers': 3, 'dropout': 0.4, 'lr': 0.00...</td>\n",
       "    </tr>\n",
       "    <tr>\n",
       "      <th>22</th>\n",
       "      <td>(3, 0, 0)</td>\n",
       "      <td>0.650198</td>\n",
       "      <td>114.000000</td>\n",
       "      <td>{'dense_layers': 3, 'dropout': 0.4, 'lr': 0.00...</td>\n",
       "    </tr>\n",
       "    <tr>\n",
       "      <th>23</th>\n",
       "      <td>(3, 0, 1)</td>\n",
       "      <td>0.647104</td>\n",
       "      <td>12.666667</td>\n",
       "      <td>{'dense_layers': 3, 'dropout': 0.2, 'lr': 0.00...</td>\n",
       "    </tr>\n",
       "    <tr>\n",
       "      <th>24</th>\n",
       "      <td>(3, 0, 2)</td>\n",
       "      <td>0.647426</td>\n",
       "      <td>12.666667</td>\n",
       "      <td>{'dense_layers': 3, 'dropout': 0.4, 'lr': 0.00...</td>\n",
       "    </tr>\n",
       "    <tr>\n",
       "      <th>25</th>\n",
       "      <td>(3, 0, 3)</td>\n",
       "      <td>0.645053</td>\n",
       "      <td>12.666667</td>\n",
       "      <td>{'dense_layers': 3, 'dropout': 0.3, 'lr': 0.00...</td>\n",
       "    </tr>\n",
       "    <tr>\n",
       "      <th>26</th>\n",
       "      <td>(3, 0, 4)</td>\n",
       "      <td>0.683294</td>\n",
       "      <td>12.666667</td>\n",
       "      <td>{'dense_layers': 2, 'dropout': 0.1, 'lr': 0.00...</td>\n",
       "    </tr>\n",
       "    <tr>\n",
       "      <th>27</th>\n",
       "      <td>(3, 0, 5)</td>\n",
       "      <td>0.644186</td>\n",
       "      <td>12.666667</td>\n",
       "      <td>{'dense_layers': 2, 'dropout': 0.4, 'lr': 0.00...</td>\n",
       "    </tr>\n",
       "    <tr>\n",
       "      <th>28</th>\n",
       "      <td>(3, 0, 5)</td>\n",
       "      <td>0.663912</td>\n",
       "      <td>38.000000</td>\n",
       "      <td>{'dense_layers': 2, 'dropout': 0.4, 'lr': 0.00...</td>\n",
       "    </tr>\n",
       "    <tr>\n",
       "      <th>29</th>\n",
       "      <td>(3, 0, 6)</td>\n",
       "      <td>0.649575</td>\n",
       "      <td>12.666667</td>\n",
       "      <td>{'dense_layers': 1, 'dropout': 0.2, 'lr': 0.00...</td>\n",
       "    </tr>\n",
       "    <tr>\n",
       "      <th>30</th>\n",
       "      <td>(3, 0, 7)</td>\n",
       "      <td>0.644050</td>\n",
       "      <td>12.666667</td>\n",
       "      <td>{'dense_layers': 1, 'dropout': 0.2, 'lr': 0.00...</td>\n",
       "    </tr>\n",
       "    <tr>\n",
       "      <th>31</th>\n",
       "      <td>(3, 0, 7)</td>\n",
       "      <td>0.650828</td>\n",
       "      <td>38.000000</td>\n",
       "      <td>{'dense_layers': 1, 'dropout': 0.2, 'lr': 0.00...</td>\n",
       "    </tr>\n",
       "    <tr>\n",
       "      <th>32</th>\n",
       "      <td>(3, 0, 8)</td>\n",
       "      <td>0.644777</td>\n",
       "      <td>12.666667</td>\n",
       "      <td>{'dense_layers': 2, 'dropout': 0.5, 'lr': 0.00...</td>\n",
       "    </tr>\n",
       "  </tbody>\n",
       "</table>\n",
       "</div>"
      ],
      "text/plain": [
       "    config_id      loss      budget   \n",
       "0   (0, 0, 0)  0.646357   12.666667  \\\n",
       "1   (0, 0, 1)  0.658248   12.666667   \n",
       "2   (0, 0, 2)  0.643760   12.666667   \n",
       "3   (0, 0, 3)  0.640706   12.666667   \n",
       "4   (0, 0, 3)  0.649149   38.000000   \n",
       "5   (0, 0, 3)  0.653798  114.000000   \n",
       "6   (0, 0, 4)  0.643038   12.666667   \n",
       "7   (0, 0, 4)  0.668363   38.000000   \n",
       "8   (0, 0, 5)  0.647969   12.666667   \n",
       "9   (0, 0, 6)  0.642600   12.666667   \n",
       "10  (0, 0, 6)  0.657816   38.000000   \n",
       "11  (0, 0, 7)  0.648971   12.666667   \n",
       "12  (0, 0, 8)  0.649279   12.666667   \n",
       "13  (1, 0, 0)  0.643979   38.000000   \n",
       "14  (1, 0, 0)  0.646113  114.000000   \n",
       "15  (1, 0, 1)  0.665666   38.000000   \n",
       "16  (1, 0, 2)  0.665283   38.000000   \n",
       "17  (2, 0, 0)  0.646536  114.000000   \n",
       "18  (2, 0, 1)  0.706442  114.000000   \n",
       "19  (2, 0, 2)  0.803991  114.000000   \n",
       "20  (3, 0, 0)  0.644246   12.666667   \n",
       "21  (3, 0, 0)  0.650261   38.000000   \n",
       "22  (3, 0, 0)  0.650198  114.000000   \n",
       "23  (3, 0, 1)  0.647104   12.666667   \n",
       "24  (3, 0, 2)  0.647426   12.666667   \n",
       "25  (3, 0, 3)  0.645053   12.666667   \n",
       "26  (3, 0, 4)  0.683294   12.666667   \n",
       "27  (3, 0, 5)  0.644186   12.666667   \n",
       "28  (3, 0, 5)  0.663912   38.000000   \n",
       "29  (3, 0, 6)  0.649575   12.666667   \n",
       "30  (3, 0, 7)  0.644050   12.666667   \n",
       "31  (3, 0, 7)  0.650828   38.000000   \n",
       "32  (3, 0, 8)  0.644777   12.666667   \n",
       "\n",
       "                                               config  \n",
       "0   {'dense_layers': 1, 'dropout': 0.3, 'lr': 0.00...  \n",
       "1   {'dense_layers': 1, 'dropout': 0.1, 'lr': 0.00...  \n",
       "2   {'dense_layers': 1, 'dropout': 0.1, 'lr': 0.00...  \n",
       "3   {'dense_layers': 1, 'dropout': 0.4, 'lr': 0.00...  \n",
       "4   {'dense_layers': 1, 'dropout': 0.4, 'lr': 0.00...  \n",
       "5   {'dense_layers': 1, 'dropout': 0.4, 'lr': 0.00...  \n",
       "6   {'dense_layers': 1, 'dropout': 0.3, 'lr': 0.00...  \n",
       "7   {'dense_layers': 1, 'dropout': 0.3, 'lr': 0.00...  \n",
       "8   {'dense_layers': 1, 'dropout': 0.1, 'lr': 0.00...  \n",
       "9   {'dense_layers': 1, 'dropout': 0.4, 'lr': 0.00...  \n",
       "10  {'dense_layers': 1, 'dropout': 0.4, 'lr': 0.00...  \n",
       "11  {'dense_layers': 1, 'dropout': 0.2, 'lr': 0.00...  \n",
       "12  {'dense_layers': 2, 'dropout': 0.3, 'lr': 0.00...  \n",
       "13  {'dense_layers': 1, 'dropout': 0.1, 'lr': 0.00...  \n",
       "14  {'dense_layers': 1, 'dropout': 0.1, 'lr': 0.00...  \n",
       "15  {'dense_layers': 3, 'dropout': 0.1, 'lr': 0.00...  \n",
       "16  {'dense_layers': 3, 'dropout': 0.2, 'lr': 0.00...  \n",
       "17  {'dense_layers': 1, 'dropout': 0.2, 'lr': 0.00...  \n",
       "18  {'dense_layers': 1, 'dropout': 0.2, 'lr': 0.00...  \n",
       "19  {'dense_layers': 3, 'dropout': 0.1, 'lr': 0.00...  \n",
       "20  {'dense_layers': 3, 'dropout': 0.4, 'lr': 0.00...  \n",
       "21  {'dense_layers': 3, 'dropout': 0.4, 'lr': 0.00...  \n",
       "22  {'dense_layers': 3, 'dropout': 0.4, 'lr': 0.00...  \n",
       "23  {'dense_layers': 3, 'dropout': 0.2, 'lr': 0.00...  \n",
       "24  {'dense_layers': 3, 'dropout': 0.4, 'lr': 0.00...  \n",
       "25  {'dense_layers': 3, 'dropout': 0.3, 'lr': 0.00...  \n",
       "26  {'dense_layers': 2, 'dropout': 0.1, 'lr': 0.00...  \n",
       "27  {'dense_layers': 2, 'dropout': 0.4, 'lr': 0.00...  \n",
       "28  {'dense_layers': 2, 'dropout': 0.4, 'lr': 0.00...  \n",
       "29  {'dense_layers': 1, 'dropout': 0.2, 'lr': 0.00...  \n",
       "30  {'dense_layers': 1, 'dropout': 0.2, 'lr': 0.00...  \n",
       "31  {'dense_layers': 1, 'dropout': 0.2, 'lr': 0.00...  \n",
       "32  {'dense_layers': 2, 'dropout': 0.5, 'lr': 0.00...  "
      ]
     },
     "execution_count": 5,
     "metadata": {},
     "output_type": "execute_result"
    }
   ],
   "source": [
    "df"
   ]
  },
  {
   "cell_type": "code",
   "execution_count": 8,
   "metadata": {},
   "outputs": [
    {
     "data": {
      "text/html": [
       "<div>\n",
       "<style scoped>\n",
       "    .dataframe tbody tr th:only-of-type {\n",
       "        vertical-align: middle;\n",
       "    }\n",
       "\n",
       "    .dataframe tbody tr th {\n",
       "        vertical-align: top;\n",
       "    }\n",
       "\n",
       "    .dataframe thead th {\n",
       "        text-align: right;\n",
       "    }\n",
       "</style>\n",
       "<table border=\"1\" class=\"dataframe\">\n",
       "  <thead>\n",
       "    <tr style=\"text-align: right;\">\n",
       "      <th></th>\n",
       "      <th>config_id</th>\n",
       "      <th>loss</th>\n",
       "      <th>budget</th>\n",
       "      <th>config</th>\n",
       "    </tr>\n",
       "  </thead>\n",
       "  <tbody>\n",
       "    <tr>\n",
       "      <th>5</th>\n",
       "      <td>(0, 0, 3)</td>\n",
       "      <td>0.653798</td>\n",
       "      <td>114.0</td>\n",
       "      <td>{'dense_layers': 1, 'dropout': 0.4, 'lr': 0.00...</td>\n",
       "    </tr>\n",
       "    <tr>\n",
       "      <th>14</th>\n",
       "      <td>(1, 0, 0)</td>\n",
       "      <td>0.646113</td>\n",
       "      <td>114.0</td>\n",
       "      <td>{'dense_layers': 1, 'dropout': 0.1, 'lr': 0.00...</td>\n",
       "    </tr>\n",
       "    <tr>\n",
       "      <th>17</th>\n",
       "      <td>(2, 0, 0)</td>\n",
       "      <td>0.646536</td>\n",
       "      <td>114.0</td>\n",
       "      <td>{'dense_layers': 1, 'dropout': 0.2, 'lr': 0.00...</td>\n",
       "    </tr>\n",
       "    <tr>\n",
       "      <th>18</th>\n",
       "      <td>(2, 0, 1)</td>\n",
       "      <td>0.706442</td>\n",
       "      <td>114.0</td>\n",
       "      <td>{'dense_layers': 1, 'dropout': 0.2, 'lr': 0.00...</td>\n",
       "    </tr>\n",
       "    <tr>\n",
       "      <th>19</th>\n",
       "      <td>(2, 0, 2)</td>\n",
       "      <td>0.803991</td>\n",
       "      <td>114.0</td>\n",
       "      <td>{'dense_layers': 3, 'dropout': 0.1, 'lr': 0.00...</td>\n",
       "    </tr>\n",
       "    <tr>\n",
       "      <th>22</th>\n",
       "      <td>(3, 0, 0)</td>\n",
       "      <td>0.650198</td>\n",
       "      <td>114.0</td>\n",
       "      <td>{'dense_layers': 3, 'dropout': 0.4, 'lr': 0.00...</td>\n",
       "    </tr>\n",
       "  </tbody>\n",
       "</table>\n",
       "</div>"
      ],
      "text/plain": [
       "    config_id      loss  budget   \n",
       "5   (0, 0, 3)  0.653798   114.0  \\\n",
       "14  (1, 0, 0)  0.646113   114.0   \n",
       "17  (2, 0, 0)  0.646536   114.0   \n",
       "18  (2, 0, 1)  0.706442   114.0   \n",
       "19  (2, 0, 2)  0.803991   114.0   \n",
       "22  (3, 0, 0)  0.650198   114.0   \n",
       "\n",
       "                                               config  \n",
       "5   {'dense_layers': 1, 'dropout': 0.4, 'lr': 0.00...  \n",
       "14  {'dense_layers': 1, 'dropout': 0.1, 'lr': 0.00...  \n",
       "17  {'dense_layers': 1, 'dropout': 0.2, 'lr': 0.00...  \n",
       "18  {'dense_layers': 1, 'dropout': 0.2, 'lr': 0.00...  \n",
       "19  {'dense_layers': 3, 'dropout': 0.1, 'lr': 0.00...  \n",
       "22  {'dense_layers': 3, 'dropout': 0.4, 'lr': 0.00...  "
      ]
     },
     "execution_count": 8,
     "metadata": {},
     "output_type": "execute_result"
    },
    {
     "ename": "",
     "evalue": "",
     "output_type": "error",
     "traceback": [
      "\u001b[1;31mThe Kernel crashed while executing code in the the current cell or a previous cell. Please review the code in the cell(s) to identify a possible cause of the failure. Click <a href='https://aka.ms/vscodeJupyterKernelCrash'>here</a> for more info. View Jupyter <a href='command:jupyter.viewOutput'>log</a> for further details."
     ]
    }
   ],
   "source": [
    "df.query('budget==114')"
   ]
  },
  {
   "cell_type": "code",
   "execution_count": null,
   "metadata": {},
   "outputs": [
    {
     "data": {
      "text/plain": [
       "{'config': {'dense_layers': 3,\n",
       "  'dropout': 0.2,\n",
       "  'embed': 25,\n",
       "  'lr': 5e-06,\n",
       "  'neurons': 256},\n",
       " 'config_info': {'model_based_pick': True}}"
      ]
     },
     "execution_count": 7,
     "metadata": {},
     "output_type": "execute_result"
    }
   ],
   "source": []
  }
 ],
 "metadata": {
  "kernelspec": {
   "display_name": "base",
   "language": "python",
   "name": "python3"
  },
  "language_info": {
   "codemirror_mode": {
    "name": "ipython",
    "version": 3
   },
   "file_extension": ".py",
   "mimetype": "text/x-python",
   "name": "python",
   "nbconvert_exporter": "python",
   "pygments_lexer": "ipython3",
   "version": "3.9.16"
  },
  "orig_nbformat": 4
 },
 "nbformat": 4,
 "nbformat_minor": 2
}
