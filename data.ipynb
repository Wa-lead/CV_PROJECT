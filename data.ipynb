{
 "cells": [
  {
   "cell_type": "code",
   "execution_count": 3,
   "metadata": {},
   "outputs": [
    {
     "data": {
      "text/html": [
       "<div>\n",
       "<style scoped>\n",
       "    .dataframe tbody tr th:only-of-type {\n",
       "        vertical-align: middle;\n",
       "    }\n",
       "\n",
       "    .dataframe tbody tr th {\n",
       "        vertical-align: top;\n",
       "    }\n",
       "\n",
       "    .dataframe thead th {\n",
       "        text-align: right;\n",
       "    }\n",
       "</style>\n",
       "<table border=\"1\" class=\"dataframe\">\n",
       "  <thead>\n",
       "    <tr style=\"text-align: right;\">\n",
       "      <th></th>\n",
       "      <th>smiles</th>\n",
       "      <th>label</th>\n",
       "    </tr>\n",
       "  </thead>\n",
       "  <tbody>\n",
       "    <tr>\n",
       "      <th>0</th>\n",
       "      <td>CCc1ccc(CN2CCN(Cc3ccc(SC)cc3)CC2)cc1</td>\n",
       "      <td>1.0</td>\n",
       "    </tr>\n",
       "    <tr>\n",
       "      <th>1</th>\n",
       "      <td>NC(Cc1ccc(C(F)(F)F)cc1)c1csc(NC(=O)NCCc2ccccc2)n1</td>\n",
       "      <td>1.0</td>\n",
       "    </tr>\n",
       "    <tr>\n",
       "      <th>2</th>\n",
       "      <td>CC(=O)NCCNC(=O)c1cccc(NS(=O)(=O)c2ccc3c(c2)OCC...</td>\n",
       "      <td>0.0</td>\n",
       "    </tr>\n",
       "    <tr>\n",
       "      <th>3</th>\n",
       "      <td>COC(=O)c1ccccc1S(=O)(=O)N1CCC(C(=O)N(C)CCOc2cc...</td>\n",
       "      <td>0.0</td>\n",
       "    </tr>\n",
       "    <tr>\n",
       "      <th>4</th>\n",
       "      <td>O=C(CNC(=O)c1ccc(Cl)cc1Cl)OCN1C(=O)c2ccccc2C1=O</td>\n",
       "      <td>0.0</td>\n",
       "    </tr>\n",
       "  </tbody>\n",
       "</table>\n",
       "</div>"
      ],
      "text/plain": [
       "                                              smiles  label\n",
       "0               CCc1ccc(CN2CCN(Cc3ccc(SC)cc3)CC2)cc1    1.0\n",
       "1  NC(Cc1ccc(C(F)(F)F)cc1)c1csc(NC(=O)NCCc2ccccc2)n1    1.0\n",
       "2  CC(=O)NCCNC(=O)c1cccc(NS(=O)(=O)c2ccc3c(c2)OCC...    0.0\n",
       "3  COC(=O)c1ccccc1S(=O)(=O)N1CCC(C(=O)N(C)CCOc2cc...    0.0\n",
       "4    O=C(CNC(=O)c1ccc(Cl)cc1Cl)OCN1C(=O)c2ccccc2C1=O    0.0"
      ]
     },
     "execution_count": 3,
     "metadata": {},
     "output_type": "execute_result"
    }
   ],
   "source": [
    "import pandas as pd\n",
    "from rdkit import Chem\n",
    "from rdkit.Chem import AllChem\n",
    "\n",
    "pd.options.plotting.backend = \"plotly\"\n",
    "# Read data\n",
    "df = pd.read_csv('data/train_aid686978_0.7.csv')\n",
    "df.head()"
   ]
  },
  {
   "cell_type": "code",
   "execution_count": 10,
   "metadata": {},
   "outputs": [
    {
     "data": {
      "application/vnd.plotly.v1+json": {
       "config": {
        "plotlyServerURL": "https://plot.ly"
       },
       "data": [
        {
         "alignmentgroup": "True",
         "hovertemplate": "variable=label<br>index=%{x}<br>value=%{y}<extra></extra>",
         "legendgroup": "label",
         "marker": {
          "color": "#636efa",
          "pattern": {
           "shape": ""
          }
         },
         "name": "label",
         "offsetgroup": "label",
         "orientation": "v",
         "showlegend": true,
         "textposition": "auto",
         "type": "bar",
         "x": [
          1,
          0
         ],
         "xaxis": "x",
         "y": [
          30563,
          30563
         ],
         "yaxis": "y"
        }
       ],
       "layout": {
        "barmode": "relative",
        "legend": {
         "title": {
          "text": "variable"
         },
         "tracegroupgap": 0
        },
        "margin": {
         "t": 60
        },
        "template": {
         "data": {
          "bar": [
           {
            "error_x": {
             "color": "#2a3f5f"
            },
            "error_y": {
             "color": "#2a3f5f"
            },
            "marker": {
             "line": {
              "color": "#E5ECF6",
              "width": 0.5
             },
             "pattern": {
              "fillmode": "overlay",
              "size": 10,
              "solidity": 0.2
             }
            },
            "type": "bar"
           }
          ],
          "barpolar": [
           {
            "marker": {
             "line": {
              "color": "#E5ECF6",
              "width": 0.5
             },
             "pattern": {
              "fillmode": "overlay",
              "size": 10,
              "solidity": 0.2
             }
            },
            "type": "barpolar"
           }
          ],
          "carpet": [
           {
            "aaxis": {
             "endlinecolor": "#2a3f5f",
             "gridcolor": "white",
             "linecolor": "white",
             "minorgridcolor": "white",
             "startlinecolor": "#2a3f5f"
            },
            "baxis": {
             "endlinecolor": "#2a3f5f",
             "gridcolor": "white",
             "linecolor": "white",
             "minorgridcolor": "white",
             "startlinecolor": "#2a3f5f"
            },
            "type": "carpet"
           }
          ],
          "choropleth": [
           {
            "colorbar": {
             "outlinewidth": 0,
             "ticks": ""
            },
            "type": "choropleth"
           }
          ],
          "contour": [
           {
            "colorbar": {
             "outlinewidth": 0,
             "ticks": ""
            },
            "colorscale": [
             [
              0,
              "#0d0887"
             ],
             [
              0.1111111111111111,
              "#46039f"
             ],
             [
              0.2222222222222222,
              "#7201a8"
             ],
             [
              0.3333333333333333,
              "#9c179e"
             ],
             [
              0.4444444444444444,
              "#bd3786"
             ],
             [
              0.5555555555555556,
              "#d8576b"
             ],
             [
              0.6666666666666666,
              "#ed7953"
             ],
             [
              0.7777777777777778,
              "#fb9f3a"
             ],
             [
              0.8888888888888888,
              "#fdca26"
             ],
             [
              1,
              "#f0f921"
             ]
            ],
            "type": "contour"
           }
          ],
          "contourcarpet": [
           {
            "colorbar": {
             "outlinewidth": 0,
             "ticks": ""
            },
            "type": "contourcarpet"
           }
          ],
          "heatmap": [
           {
            "colorbar": {
             "outlinewidth": 0,
             "ticks": ""
            },
            "colorscale": [
             [
              0,
              "#0d0887"
             ],
             [
              0.1111111111111111,
              "#46039f"
             ],
             [
              0.2222222222222222,
              "#7201a8"
             ],
             [
              0.3333333333333333,
              "#9c179e"
             ],
             [
              0.4444444444444444,
              "#bd3786"
             ],
             [
              0.5555555555555556,
              "#d8576b"
             ],
             [
              0.6666666666666666,
              "#ed7953"
             ],
             [
              0.7777777777777778,
              "#fb9f3a"
             ],
             [
              0.8888888888888888,
              "#fdca26"
             ],
             [
              1,
              "#f0f921"
             ]
            ],
            "type": "heatmap"
           }
          ],
          "heatmapgl": [
           {
            "colorbar": {
             "outlinewidth": 0,
             "ticks": ""
            },
            "colorscale": [
             [
              0,
              "#0d0887"
             ],
             [
              0.1111111111111111,
              "#46039f"
             ],
             [
              0.2222222222222222,
              "#7201a8"
             ],
             [
              0.3333333333333333,
              "#9c179e"
             ],
             [
              0.4444444444444444,
              "#bd3786"
             ],
             [
              0.5555555555555556,
              "#d8576b"
             ],
             [
              0.6666666666666666,
              "#ed7953"
             ],
             [
              0.7777777777777778,
              "#fb9f3a"
             ],
             [
              0.8888888888888888,
              "#fdca26"
             ],
             [
              1,
              "#f0f921"
             ]
            ],
            "type": "heatmapgl"
           }
          ],
          "histogram": [
           {
            "marker": {
             "pattern": {
              "fillmode": "overlay",
              "size": 10,
              "solidity": 0.2
             }
            },
            "type": "histogram"
           }
          ],
          "histogram2d": [
           {
            "colorbar": {
             "outlinewidth": 0,
             "ticks": ""
            },
            "colorscale": [
             [
              0,
              "#0d0887"
             ],
             [
              0.1111111111111111,
              "#46039f"
             ],
             [
              0.2222222222222222,
              "#7201a8"
             ],
             [
              0.3333333333333333,
              "#9c179e"
             ],
             [
              0.4444444444444444,
              "#bd3786"
             ],
             [
              0.5555555555555556,
              "#d8576b"
             ],
             [
              0.6666666666666666,
              "#ed7953"
             ],
             [
              0.7777777777777778,
              "#fb9f3a"
             ],
             [
              0.8888888888888888,
              "#fdca26"
             ],
             [
              1,
              "#f0f921"
             ]
            ],
            "type": "histogram2d"
           }
          ],
          "histogram2dcontour": [
           {
            "colorbar": {
             "outlinewidth": 0,
             "ticks": ""
            },
            "colorscale": [
             [
              0,
              "#0d0887"
             ],
             [
              0.1111111111111111,
              "#46039f"
             ],
             [
              0.2222222222222222,
              "#7201a8"
             ],
             [
              0.3333333333333333,
              "#9c179e"
             ],
             [
              0.4444444444444444,
              "#bd3786"
             ],
             [
              0.5555555555555556,
              "#d8576b"
             ],
             [
              0.6666666666666666,
              "#ed7953"
             ],
             [
              0.7777777777777778,
              "#fb9f3a"
             ],
             [
              0.8888888888888888,
              "#fdca26"
             ],
             [
              1,
              "#f0f921"
             ]
            ],
            "type": "histogram2dcontour"
           }
          ],
          "mesh3d": [
           {
            "colorbar": {
             "outlinewidth": 0,
             "ticks": ""
            },
            "type": "mesh3d"
           }
          ],
          "parcoords": [
           {
            "line": {
             "colorbar": {
              "outlinewidth": 0,
              "ticks": ""
             }
            },
            "type": "parcoords"
           }
          ],
          "pie": [
           {
            "automargin": true,
            "type": "pie"
           }
          ],
          "scatter": [
           {
            "fillpattern": {
             "fillmode": "overlay",
             "size": 10,
             "solidity": 0.2
            },
            "type": "scatter"
           }
          ],
          "scatter3d": [
           {
            "line": {
             "colorbar": {
              "outlinewidth": 0,
              "ticks": ""
             }
            },
            "marker": {
             "colorbar": {
              "outlinewidth": 0,
              "ticks": ""
             }
            },
            "type": "scatter3d"
           }
          ],
          "scattercarpet": [
           {
            "marker": {
             "colorbar": {
              "outlinewidth": 0,
              "ticks": ""
             }
            },
            "type": "scattercarpet"
           }
          ],
          "scattergeo": [
           {
            "marker": {
             "colorbar": {
              "outlinewidth": 0,
              "ticks": ""
             }
            },
            "type": "scattergeo"
           }
          ],
          "scattergl": [
           {
            "marker": {
             "colorbar": {
              "outlinewidth": 0,
              "ticks": ""
             }
            },
            "type": "scattergl"
           }
          ],
          "scattermapbox": [
           {
            "marker": {
             "colorbar": {
              "outlinewidth": 0,
              "ticks": ""
             }
            },
            "type": "scattermapbox"
           }
          ],
          "scatterpolar": [
           {
            "marker": {
             "colorbar": {
              "outlinewidth": 0,
              "ticks": ""
             }
            },
            "type": "scatterpolar"
           }
          ],
          "scatterpolargl": [
           {
            "marker": {
             "colorbar": {
              "outlinewidth": 0,
              "ticks": ""
             }
            },
            "type": "scatterpolargl"
           }
          ],
          "scatterternary": [
           {
            "marker": {
             "colorbar": {
              "outlinewidth": 0,
              "ticks": ""
             }
            },
            "type": "scatterternary"
           }
          ],
          "surface": [
           {
            "colorbar": {
             "outlinewidth": 0,
             "ticks": ""
            },
            "colorscale": [
             [
              0,
              "#0d0887"
             ],
             [
              0.1111111111111111,
              "#46039f"
             ],
             [
              0.2222222222222222,
              "#7201a8"
             ],
             [
              0.3333333333333333,
              "#9c179e"
             ],
             [
              0.4444444444444444,
              "#bd3786"
             ],
             [
              0.5555555555555556,
              "#d8576b"
             ],
             [
              0.6666666666666666,
              "#ed7953"
             ],
             [
              0.7777777777777778,
              "#fb9f3a"
             ],
             [
              0.8888888888888888,
              "#fdca26"
             ],
             [
              1,
              "#f0f921"
             ]
            ],
            "type": "surface"
           }
          ],
          "table": [
           {
            "cells": {
             "fill": {
              "color": "#EBF0F8"
             },
             "line": {
              "color": "white"
             }
            },
            "header": {
             "fill": {
              "color": "#C8D4E3"
             },
             "line": {
              "color": "white"
             }
            },
            "type": "table"
           }
          ]
         },
         "layout": {
          "annotationdefaults": {
           "arrowcolor": "#2a3f5f",
           "arrowhead": 0,
           "arrowwidth": 1
          },
          "autotypenumbers": "strict",
          "coloraxis": {
           "colorbar": {
            "outlinewidth": 0,
            "ticks": ""
           }
          },
          "colorscale": {
           "diverging": [
            [
             0,
             "#8e0152"
            ],
            [
             0.1,
             "#c51b7d"
            ],
            [
             0.2,
             "#de77ae"
            ],
            [
             0.3,
             "#f1b6da"
            ],
            [
             0.4,
             "#fde0ef"
            ],
            [
             0.5,
             "#f7f7f7"
            ],
            [
             0.6,
             "#e6f5d0"
            ],
            [
             0.7,
             "#b8e186"
            ],
            [
             0.8,
             "#7fbc41"
            ],
            [
             0.9,
             "#4d9221"
            ],
            [
             1,
             "#276419"
            ]
           ],
           "sequential": [
            [
             0,
             "#0d0887"
            ],
            [
             0.1111111111111111,
             "#46039f"
            ],
            [
             0.2222222222222222,
             "#7201a8"
            ],
            [
             0.3333333333333333,
             "#9c179e"
            ],
            [
             0.4444444444444444,
             "#bd3786"
            ],
            [
             0.5555555555555556,
             "#d8576b"
            ],
            [
             0.6666666666666666,
             "#ed7953"
            ],
            [
             0.7777777777777778,
             "#fb9f3a"
            ],
            [
             0.8888888888888888,
             "#fdca26"
            ],
            [
             1,
             "#f0f921"
            ]
           ],
           "sequentialminus": [
            [
             0,
             "#0d0887"
            ],
            [
             0.1111111111111111,
             "#46039f"
            ],
            [
             0.2222222222222222,
             "#7201a8"
            ],
            [
             0.3333333333333333,
             "#9c179e"
            ],
            [
             0.4444444444444444,
             "#bd3786"
            ],
            [
             0.5555555555555556,
             "#d8576b"
            ],
            [
             0.6666666666666666,
             "#ed7953"
            ],
            [
             0.7777777777777778,
             "#fb9f3a"
            ],
            [
             0.8888888888888888,
             "#fdca26"
            ],
            [
             1,
             "#f0f921"
            ]
           ]
          },
          "colorway": [
           "#636efa",
           "#EF553B",
           "#00cc96",
           "#ab63fa",
           "#FFA15A",
           "#19d3f3",
           "#FF6692",
           "#B6E880",
           "#FF97FF",
           "#FECB52"
          ],
          "font": {
           "color": "#2a3f5f"
          },
          "geo": {
           "bgcolor": "white",
           "lakecolor": "white",
           "landcolor": "#E5ECF6",
           "showlakes": true,
           "showland": true,
           "subunitcolor": "white"
          },
          "hoverlabel": {
           "align": "left"
          },
          "hovermode": "closest",
          "mapbox": {
           "style": "light"
          },
          "paper_bgcolor": "white",
          "plot_bgcolor": "#E5ECF6",
          "polar": {
           "angularaxis": {
            "gridcolor": "white",
            "linecolor": "white",
            "ticks": ""
           },
           "bgcolor": "#E5ECF6",
           "radialaxis": {
            "gridcolor": "white",
            "linecolor": "white",
            "ticks": ""
           }
          },
          "scene": {
           "xaxis": {
            "backgroundcolor": "#E5ECF6",
            "gridcolor": "white",
            "gridwidth": 2,
            "linecolor": "white",
            "showbackground": true,
            "ticks": "",
            "zerolinecolor": "white"
           },
           "yaxis": {
            "backgroundcolor": "#E5ECF6",
            "gridcolor": "white",
            "gridwidth": 2,
            "linecolor": "white",
            "showbackground": true,
            "ticks": "",
            "zerolinecolor": "white"
           },
           "zaxis": {
            "backgroundcolor": "#E5ECF6",
            "gridcolor": "white",
            "gridwidth": 2,
            "linecolor": "white",
            "showbackground": true,
            "ticks": "",
            "zerolinecolor": "white"
           }
          },
          "shapedefaults": {
           "line": {
            "color": "#2a3f5f"
           }
          },
          "ternary": {
           "aaxis": {
            "gridcolor": "white",
            "linecolor": "white",
            "ticks": ""
           },
           "baxis": {
            "gridcolor": "white",
            "linecolor": "white",
            "ticks": ""
           },
           "bgcolor": "#E5ECF6",
           "caxis": {
            "gridcolor": "white",
            "linecolor": "white",
            "ticks": ""
           }
          },
          "title": {
           "x": 0.05
          },
          "xaxis": {
           "automargin": true,
           "gridcolor": "white",
           "linecolor": "white",
           "ticks": "",
           "title": {
            "standoff": 15
           },
           "zerolinecolor": "white",
           "zerolinewidth": 2
          },
          "yaxis": {
           "automargin": true,
           "gridcolor": "white",
           "linecolor": "white",
           "ticks": "",
           "title": {
            "standoff": 15
           },
           "zerolinecolor": "white",
           "zerolinewidth": 2
          }
         }
        },
        "xaxis": {
         "anchor": "y",
         "domain": [
          0,
          1
         ],
         "title": {
          "text": "index"
         }
        },
        "yaxis": {
         "anchor": "x",
         "domain": [
          0,
          1
         ],
         "title": {
          "text": "value"
         }
        }
       }
      }
     },
     "metadata": {},
     "output_type": "display_data"
    }
   ],
   "source": [
    "# plot label distribution, red: active, blue: inactive \n",
    "df['label'].value_counts().plot(kind='bar')\n"
   ]
  },
  {
   "cell_type": "code",
   "execution_count": 22,
   "metadata": {},
   "outputs": [
    {
     "data": {
      "image/png": "[encoded data removed]",
      "text/plain": [
       "<IPython.core.display.Image object>"
      ]
     },
     "execution_count": 22,
     "metadata": {},
     "output_type": "execute_result"
    }
   ],
   "source": [
    "# draw 10 molecules, with their smiles representation\n",
    "import numpy as np\n",
    "mols = [Chem.MolFromSmiles(smi) for smi in df['smiles'].values[:10]]\n",
    "img = Chem.Draw.MolsToGridImage(mols, molsPerRow=5, subImgSize=(200, 200))\n",
    "img"
   ]
  },
  {
   "cell_type": "code",
   "execution_count": 21,
   "metadata": {},
   "outputs": [
    {
     "data": {
      "text/plain": [
       "[array(137),\n",
       " array(80),\n",
       " array(78),\n",
       " array(71),\n",
       " array(13),\n",
       " array(10),\n",
       " array(26),\n",
       " array(10),\n",
       " array(0),\n",
       " array(0),\n",
       " array(0),\n",
       " array(13),\n",
       " array(73),\n",
       " array(72),\n",
       " array(68),\n",
       " array(82),\n",
       " array(0),\n",
       " array(0),\n",
       " array(3),\n",
       " array(232),\n",
       " array(0),\n",
       " array(0),\n",
       " array(1),\n",
       " array(144),\n",
       " array(8),\n",
       " array(2),\n",
       " array(0),\n",
       " array(0),\n",
       " array(0),\n",
       " array(178),\n",
       " array(47),\n",
       " array(221),\n",
       " array(54),\n",
       " array(0),\n",
       " array(0),\n",
       " array(0),\n",
       " array(6),\n",
       " array(98),\n",
       " array(75),\n",
       " array(71),\n",
       " array(68),\n",
       " array(0),\n",
       " array(255),\n",
       " array(0),\n",
       " array(255),\n",
       " array(0),\n",
       " array(255),\n",
       " array(160),\n",
       " array(189),\n",
       " array(167),\n",
       " array(147),\n",
       " array(0),\n",
       " array(0),\n",
       " array(32),\n",
       " array(0),\n",
       " array(73),\n",
       " array(68),\n",
       " array(65),\n",
       " array(84),\n",
       " array(120),\n",
       " array(156),\n",
       " array(236),\n",
       " array(221),\n",
       " array(119),\n",
       " array(88),\n",
       " array(84),\n",
       " array(87),\n",
       " array(211),\n",
       " array(0),\n",
       " array(240),\n",
       " array(217),\n",
       " array(66),\n",
       " array(47),\n",
       " array(2),\n",
       " array(34),\n",
       " array(130),\n",
       " array(138),\n",
       " array(138),\n",
       " array(29),\n",
       " array(81),\n",
       " array(81),\n",
       " array(48),\n",
       " array(216),\n",
       " array(80),\n",
       " array(68),\n",
       " array(177),\n",
       " array(69),\n",
       " array(52),\n",
       " array(209),\n",
       " array(136),\n",
       " array(241),\n",
       " array(53),\n",
       " array(146),\n",
       " array(216),\n",
       " array(130),\n",
       " array(98),\n",
       " array(193),\n",
       " array(22),\n",
       " array(69),\n",
       " array(69),\n",
       " array(197),\n",
       " array(88),\n",
       " array(177),\n",
       " array(68),\n",
       " array(209),\n",
       " array(24),\n",
       " array(9),\n",
       " array(177),\n",
       " array(98),\n",
       " array(73),\n",
       " array(65),\n",
       " array(99),\n",
       " array(143),\n",
       " array(13),\n",
       " array(123),\n",
       " array(47),\n",
       " array(75),\n",
       " array(49),\n",
       " array(128),\n",
       " array(138),\n",
       " array(2),\n",
       " array(22),\n",
       " array(64),\n",
       " array(65),\n",
       " array(154),\n",
       " array(180),\n",
       " array(165),\n",
       " array(108),\n",
       " array(153),\n",
       " array(239),\n",
       " array(143),\n",
       " array(131),\n",
       " array(27),\n",
       " array(63),\n",
       " array(11),\n",
       " array(108),\n",
       " array(131),\n",
       " array(101),\n",
       " array(113),\n",
       " array(126),\n",
       " array(79),\n",
       " array(158),\n",
       " array(247),\n",
       " array(241),\n",
       " array(197),\n",
       " array(189),\n",
       " array(247),\n",
       " array(158),\n",
       " array(69),\n",
       " array(184),\n",
       " array(59),\n",
       " array(247),\n",
       " array(156),\n",
       " array(57),\n",
       " array(51),\n",
       " array(28),\n",
       " array(68),\n",
       " array(4),\n",
       " array(66),\n",
       " array(8),\n",
       " array(33),\n",
       " array(132),\n",
       " array(16),\n",
       " array(66),\n",
       " array(72),\n",
       " array(205),\n",
       " array(198),\n",
       " array(213),\n",
       " array(244),\n",
       " array(0),\n",
       " array(8),\n",
       " array(33),\n",
       " array(132),\n",
       " array(16),\n",
       " array(66),\n",
       " array(8),\n",
       " array(33),\n",
       " array(149),\n",
       " array(163),\n",
       " array(192),\n",
       " array(157),\n",
       " array(16),\n",
       " array(66),\n",
       " array(8),\n",
       " array(33),\n",
       " array(132),\n",
       " array(16),\n",
       " array(45),\n",
       " array(64),\n",
       " array(129),\n",
       " array(59),\n",
       " array(33),\n",
       " array(132),\n",
       " array(16),\n",
       " array(66),\n",
       " array(8),\n",
       " array(33),\n",
       " array(90),\n",
       " array(128),\n",
       " array(2),\n",
       " array(119),\n",
       " array(66),\n",
       " array(8),\n",
       " array(33),\n",
       " array(132),\n",
       " array(16),\n",
       " array(66),\n",
       " array(180),\n",
       " array(0),\n",
       " array(5),\n",
       " array(238),\n",
       " array(132),\n",
       " array(16),\n",
       " array(66),\n",
       " array(8),\n",
       " array(33),\n",
       " array(132),\n",
       " array(104),\n",
       " array(1),\n",
       " array(10),\n",
       " array(220),\n",
       " array(9),\n",
       " array(33),\n",
       " array(132),\n",
       " array(16),\n",
       " array(66),\n",
       " array(8),\n",
       " array(209),\n",
       " array(2),\n",
       " array(20),\n",
       " array(184),\n",
       " array(19),\n",
       " array(66),\n",
       " array(8),\n",
       " array(33),\n",
       " array(132),\n",
       " array(16),\n",
       " array(162),\n",
       " array(5),\n",
       " array(40),\n",
       " array(112),\n",
       " array(39),\n",
       " array(132),\n",
       " array(16),\n",
       " array(66),\n",
       " array(8),\n",
       " array(33),\n",
       " array(68),\n",
       " array(11),\n",
       " array(80),\n",
       " array(224),\n",
       " array(78),\n",
       " array(8),\n",
       " array(33),\n",
       " array(132),\n",
       " array(16),\n",
       " array(66),\n",
       " array(136),\n",
       " array(22),\n",
       " array(160),\n",
       " array(192),\n",
       " array(157),\n",
       " array(16),\n",
       " array(66),\n",
       " array(8),\n",
       " array(33),\n",
       " array(132),\n",
       " array(16),\n",
       " array(45),\n",
       " array(64),\n",
       " array(129),\n",
       " array(59),\n",
       " array(33),\n",
       " array(132),\n",
       " array(16),\n",
       " array(66),\n",
       " array(8),\n",
       " array(33),\n",
       " array(90),\n",
       " array(128),\n",
       " array(2),\n",
       " array(119),\n",
       " array(66),\n",
       " array(8),\n",
       " array(33),\n",
       " array(132),\n",
       " array(16),\n",
       " array(66),\n",
       " array(180),\n",
       " array(0),\n",
       " array(5),\n",
       " array(238),\n",
       " array(132),\n",
       " array(16),\n",
       " array(66),\n",
       " array(8),\n",
       " array(33),\n",
       " array(132),\n",
       " array(104),\n",
       " array(1),\n",
       " array(10),\n",
       " array(220),\n",
       " array(9),\n",
       " array(33),\n",
       " array(132),\n",
       " array(16),\n",
       " array(66),\n",
       " array(8),\n",
       " array(209),\n",
       " array(2),\n",
       " array(20),\n",
       " array(184),\n",
       " array(19),\n",
       " array(66),\n",
       " array(8),\n",
       " array(33),\n",
       " array(132),\n",
       " array(16),\n",
       " array(162),\n",
       " array(5),\n",
       " array(40),\n",
       " array(112),\n",
       " array(39),\n",
       " array(132),\n",
       " array(16),\n",
       " array(66),\n",
       " array(8),\n",
       " array(33),\n",
       " array(68),\n",
       " array(11),\n",
       " array(80),\n",
       " array(224),\n",
       " array(78),\n",
       " array(8),\n",
       " array(33),\n",
       " array(132),\n",
       " array(16),\n",
       " array(66),\n",
       " array(136),\n",
       " array(22),\n",
       " array(160),\n",
       " array(192),\n",
       " array(157),\n",
       " array(16),\n",
       " array(66),\n",
       " array(8),\n",
       " array(33),\n",
       " array(132),\n",
       " array(16),\n",
       " array(45),\n",
       " array(64),\n",
       " array(129),\n",
       " array(59),\n",
       " array(33),\n",
       " array(132),\n",
       " array(16),\n",
       " array(66),\n",
       " array(8),\n",
       " array(33),\n",
       " array(90),\n",
       " array(128),\n",
       " array(2),\n",
       " array(119),\n",
       " array(66),\n",
       " array(8),\n",
       " array(33),\n",
       " array(132),\n",
       " array(16),\n",
       " array(66),\n",
       " array(180),\n",
       " array(0),\n",
       " array(5),\n",
       " array(238),\n",
       " array(132),\n",
       " array(16),\n",
       " array(66),\n",
       " array(8),\n",
       " array(33),\n",
       " array(132),\n",
       " array(104),\n",
       " array(1),\n",
       " array(10),\n",
       " array(220),\n",
       " array(9),\n",
       " array(33),\n",
       " array(132),\n",
       " array(16),\n",
       " array(66),\n",
       " array(8),\n",
       " array(209),\n",
       " array(2),\n",
       " array(20),\n",
       " array(184),\n",
       " array(19),\n",
       " array(66),\n",
       " array(8),\n",
       " array(33),\n",
       " array(132),\n",
       " array(16),\n",
       " array(162),\n",
       " array(5),\n",
       " array(40),\n",
       " array(112),\n",
       " array(39),\n",
       " array(132),\n",
       " array(16),\n",
       " array(66),\n",
       " array(8),\n",
       " array(33),\n",
       " array(68),\n",
       " array(11),\n",
       " array(80),\n",
       " array(224),\n",
       " array(78),\n",
       " array(8),\n",
       " array(33),\n",
       " array(132),\n",
       " array(16),\n",
       " array(66),\n",
       " array(136),\n",
       " array(22),\n",
       " array(160),\n",
       " array(192),\n",
       " array(157),\n",
       " array(16),\n",
       " array(66),\n",
       " array(8),\n",
       " array(33),\n",
       " array(132),\n",
       " array(16),\n",
       " array(45),\n",
       " array(64),\n",
       " array(129),\n",
       " array(59),\n",
       " array(33),\n",
       " array(132),\n",
       " array(16),\n",
       " array(66),\n",
       " array(8),\n",
       " array(33),\n",
       " array(90),\n",
       " array(128),\n",
       " array(2),\n",
       " array(119),\n",
       " array(66),\n",
       " array(8),\n",
       " array(33),\n",
       " array(132),\n",
       " array(16),\n",
       " array(66),\n",
       " array(180),\n",
       " array(0),\n",
       " array(5),\n",
       " array(238),\n",
       " array(132),\n",
       " array(16),\n",
       " array(66),\n",
       " array(8),\n",
       " array(33),\n",
       " array(132),\n",
       " array(104),\n",
       " array(1),\n",
       " array(10),\n",
       " array(220),\n",
       " array(9),\n",
       " array(33),\n",
       " array(132),\n",
       " array(16),\n",
       " array(66),\n",
       " array(8),\n",
       " array(209),\n",
       " array(2),\n",
       " array(20),\n",
       " array(184),\n",
       " array(19),\n",
       " array(66),\n",
       " array(8),\n",
       " array(33),\n",
       " array(132),\n",
       " array(16),\n",
       " array(162),\n",
       " array(5),\n",
       " array(40),\n",
       " array(112),\n",
       " array(39),\n",
       " array(132),\n",
       " array(16),\n",
       " array(66),\n",
       " array(8),\n",
       " array(33),\n",
       " array(68),\n",
       " array(11),\n",
       " array(80),\n",
       " array(224),\n",
       " array(78),\n",
       " array(8),\n",
       " array(33),\n",
       " array(132),\n",
       " array(16),\n",
       " array(66),\n",
       " array(136),\n",
       " array(22),\n",
       " array(160),\n",
       " array(192),\n",
       " array(157),\n",
       " array(16),\n",
       " array(66),\n",
       " array(8),\n",
       " array(33),\n",
       " array(132),\n",
       " array(16),\n",
       " array(45),\n",
       " array(64),\n",
       " array(129),\n",
       " array(59),\n",
       " array(33),\n",
       " array(132),\n",
       " array(16),\n",
       " array(66),\n",
       " array(8),\n",
       " array(33),\n",
       " array(90),\n",
       " array(128),\n",
       " array(2),\n",
       " array(119),\n",
       " array(66),\n",
       " array(8),\n",
       " array(33),\n",
       " array(132),\n",
       " array(16),\n",
       " array(66),\n",
       " array(180),\n",
       " array(0),\n",
       " array(5),\n",
       " array(238),\n",
       " array(132),\n",
       " array(16),\n",
       " array(66),\n",
       " array(8),\n",
       " array(33),\n",
       " array(132),\n",
       " array(104),\n",
       " array(1),\n",
       " array(10),\n",
       " array(220),\n",
       " array(9),\n",
       " array(33),\n",
       " array(132),\n",
       " array(16),\n",
       " array(66),\n",
       " array(8),\n",
       " array(209),\n",
       " array(2),\n",
       " array(20),\n",
       " array(184),\n",
       " array(19),\n",
       " array(66),\n",
       " array(8),\n",
       " array(33),\n",
       " array(132),\n",
       " array(16),\n",
       " array(162),\n",
       " array(5),\n",
       " array(40),\n",
       " array(112),\n",
       " array(39),\n",
       " array(132),\n",
       " array(16),\n",
       " array(66),\n",
       " array(8),\n",
       " array(33),\n",
       " array(68),\n",
       " array(11),\n",
       " array(80),\n",
       " array(224),\n",
       " array(78),\n",
       " array(8),\n",
       " array(33),\n",
       " array(132),\n",
       " array(16),\n",
       " array(66),\n",
       " array(136),\n",
       " array(22),\n",
       " array(160),\n",
       " array(192),\n",
       " array(157),\n",
       " array(16),\n",
       " array(66),\n",
       " array(8),\n",
       " array(33),\n",
       " array(132),\n",
       " array(16),\n",
       " array(45),\n",
       " array(64),\n",
       " array(129),\n",
       " array(59),\n",
       " array(33),\n",
       " array(132),\n",
       " array(16),\n",
       " array(66),\n",
       " array(8),\n",
       " array(33),\n",
       " array(90),\n",
       " array(128),\n",
       " array(2),\n",
       " array(119),\n",
       " array(66),\n",
       " array(8),\n",
       " array(33),\n",
       " array(132),\n",
       " array(16),\n",
       " array(66),\n",
       " array(180),\n",
       " array(0),\n",
       " array(5),\n",
       " array(238),\n",
       " array(132),\n",
       " array(16),\n",
       " array(66),\n",
       " array(8),\n",
       " array(33),\n",
       " array(132),\n",
       " array(104),\n",
       " array(1),\n",
       " array(10),\n",
       " array(220),\n",
       " array(9),\n",
       " array(33),\n",
       " array(132),\n",
       " array(16),\n",
       " array(66),\n",
       " array(8),\n",
       " array(209),\n",
       " array(2),\n",
       " array(20),\n",
       " array(184),\n",
       " array(19),\n",
       " array(66),\n",
       " array(8),\n",
       " array(33),\n",
       " array(132),\n",
       " array(16),\n",
       " array(162),\n",
       " array(5),\n",
       " array(40),\n",
       " array(112),\n",
       " array(39),\n",
       " array(132),\n",
       " array(16),\n",
       " array(66),\n",
       " array(8),\n",
       " array(33),\n",
       " array(68),\n",
       " array(11),\n",
       " array(80),\n",
       " array(224),\n",
       " array(78),\n",
       " array(8),\n",
       " array(33),\n",
       " array(132),\n",
       " array(16),\n",
       " array(66),\n",
       " array(136),\n",
       " array(22),\n",
       " array(160),\n",
       " array(192),\n",
       " array(157),\n",
       " array(16),\n",
       " array(66),\n",
       " array(8),\n",
       " array(33),\n",
       " array(132),\n",
       " array(16),\n",
       " array(45),\n",
       " array(64),\n",
       " array(129),\n",
       " array(59),\n",
       " array(33),\n",
       " array(132),\n",
       " array(16),\n",
       " array(66),\n",
       " array(8),\n",
       " array(33),\n",
       " array(90),\n",
       " array(128),\n",
       " array(2),\n",
       " array(119),\n",
       " array(66),\n",
       " array(8),\n",
       " array(33),\n",
       " array(132),\n",
       " array(16),\n",
       " array(66),\n",
       " array(180),\n",
       " array(0),\n",
       " array(5),\n",
       " array(238),\n",
       " array(132),\n",
       " array(16),\n",
       " array(66),\n",
       " array(8),\n",
       " array(33),\n",
       " array(132),\n",
       " array(104),\n",
       " array(1),\n",
       " array(190),\n",
       " array(166),\n",
       " array(7),\n",
       " array(64),\n",
       " array(8),\n",
       " array(33),\n",
       " array(132),\n",
       " array(16),\n",
       " array(237),\n",
       " array(23),\n",
       " array(19),\n",
       " array(3),\n",
       " array(167),\n",
       " array(78),\n",
       " array(65),\n",
       " array(131),\n",
       " array(6),\n",
       " array(224),\n",
       " array(237),\n",
       " array(13),\n",
       " array(92),\n",
       " array(154),\n",
       " array(22),\n",
       " array(36),\n",
       " array(164),\n",
       " array(74),\n",
       " array(208),\n",
       " array(175),\n",
       " array(22),\n",
       " array(33),\n",
       " array(132),\n",
       " array(16),\n",
       " array(66),\n",
       " array(84),\n",
       " array(243),\n",
       " array(250),\n",
       " array(53),\n",
       " array(252),\n",
       " array(250),\n",
       " array(43),\n",
       " array(248),\n",
       " array(251),\n",
       " array(131),\n",
       " array(141),\n",
       " array(13),\n",
       " array(236),\n",
       " array(216),\n",
       " array(161),\n",
       " array(233),\n",
       " array(209),\n",
       " array(16),\n",
       " array(82),\n",
       " array(107),\n",
       " array(81),\n",
       " array(224),\n",
       " array(78),\n",
       " array(8),\n",
       " array(33),\n",
       " array(132),\n",
       " array(16),\n",
       " array(213),\n",
       " array(36),\n",
       " array(36),\n",
       " array(64),\n",
       " array(215),\n",
       " array(174),\n",
       " array(192),\n",
       " array(229),\n",
       " array(66),\n",
       " array(191),\n",
       " array(126),\n",
       " array(16),\n",
       " array(21),\n",
       " array(165),\n",
       " array(233),\n",
       " array(209),\n",
       " array(16),\n",
       " array(82),\n",
       " array(107),\n",
       " array(81),\n",
       " array(224),\n",
       " array(78),\n",
       " array(8),\n",
       " array(33),\n",
       " array(132),\n",
       " array(16),\n",
       " array(213),\n",
       " array(52),\n",
       " array(110),\n",
       " array(12),\n",
       " array(137),\n",
       " array(137),\n",
       " array(0),\n",
       " array(0),\n",
       " array(137),\n",
       " array(137),\n",
       " array(208),\n",
       " array(184),\n",
       " array(177),\n",
       " array(166),\n",
       " array(71),\n",
       " array(67),\n",
       " array(72),\n",
       " array(173),\n",
       " array(197),\n",
       " array(65),\n",
       " array(68),\n",
       " array(77),\n",
       " array(143),\n",
       " array(129),\n",
       " array(16),\n",
       " array(66),\n",
       " array(136),\n",
       " array(218),\n",
       " array(108),\n",
       " array(221),\n",
       " array(186),\n",
       " array(245),\n",
       " array(183),\n",
       " array(223),\n",
       " array(126),\n",
       " array(171),\n",
       " array(87),\n",
       " array(175),\n",
       " array(30),\n",
       " array(251),\n",
       " array(191),\n",
       " array(82),\n",
       " array(169),\n",
       " array(52),\n",
       " array(47),\n",
       " array(47),\n",
       " array(143),\n",
       " array(253),\n",
       " array(89),\n",
       " array(34),\n",
       " array(145),\n",
       " array(228),\n",
       " array(231),\n",
       " array(231),\n",
       " array(179),\n",
       " array(63),\n",
       " array(151),\n",
       " array(150),\n",
       " array(150),\n",
       " array(22),\n",
       " array(22),\n",
       " array(22),\n",
       " array(46),\n",
       " array(91),\n",
       " array(182),\n",
       " array(204),\n",
       " array(207),\n",
       " array(207),\n",
       " array(79),\n",
       " array(51),\n",
       " array(3),\n",
       " array(37),\n",
       " array(181),\n",
       " array(204),\n",
       " array(254),\n",
       " array(253),\n",
       " array(144),\n",
       " array(156),\n",
       " array(12),\n",
       " array(18),\n",
       " array(9),\n",
       " array(204),\n",
       " array(153),\n",
       " array(3),\n",
       " array(38),\n",
       " array(38),\n",
       " array(154),\n",
       " array(30),\n",
       " array(13),\n",
       " array(33),\n",
       " array(181),\n",
       " array(19),\n",
       " array(5),\n",
       " array(238),\n",
       " array(132),\n",
       " array(16),\n",
       " array(82),\n",
       " array(123),\n",
       " array(252),\n",
       " array(243),\n",
       " array(207),\n",
       " array(63),\n",
       " array(195),\n",
       " array(134),\n",
       " array(13),\n",
       " array(19),\n",
       " array(137),\n",
       " array(68),\n",
       " array(242),\n",
       " array(188),\n",
       " array(152),\n",
       " array(203),\n",
       " array(229),\n",
       " array(26),\n",
       " array(25),\n",
       " array(25),\n",
       " array(61),\n",
       " array(121),\n",
       " array(242),\n",
       " array(164),\n",
       " array(110),\n",
       " array(221),\n",
       " array(186),\n",
       " array(85),\n",
       " array(61),\n",
       " array(48),\n",
       " array(82),\n",
       " array(203),\n",
       " array(69),\n",
       " array(69),\n",
       " array(129),\n",
       " array(191),\n",
       " array(63),\n",
       " array(52),\n",
       " array(110),\n",
       " array(12),\n",
       " array(15),\n",
       " array(31),\n",
       " array(66),\n",
       " array(235),\n",
       " array(214),\n",
       " array(176),\n",
       " array(115),\n",
       " array(167),\n",
       " array(166),\n",
       " array(7),\n",
       " array(68),\n",
       " array(72),\n",
       " array(237),\n",
       " array(68),\n",
       " array(85),\n",
       " array(101),\n",
       " array(8),\n",
       " array(33),\n",
       " array(164),\n",
       " array(150),\n",
       " array(144),\n",
       " array(74),\n",
       " array(165),\n",
       " array(129),\n",
       " array(129),\n",
       " array(129),\n",
       " array(34),\n",
       " array(145),\n",
       " array(200),\n",
       " array(195),\n",
       " array(195),\n",
       " array(163),\n",
       " array(110),\n",
       " array(221),\n",
       " array(186),\n",
       " array(47),\n",
       " array(95),\n",
       " array(190),\n",
       " array(44),\n",
       " array(41),\n",
       " array(41),\n",
       " array(17),\n",
       " array(139),\n",
       " array(197),\n",
       " array(124),\n",
       " array(62),\n",
       " array(31),\n",
       " array(0),\n",
       " array(132),\n",
       " array(66),\n",
       " array(161),\n",
       " array(68),\n",
       " array(34),\n",
       " array(225),\n",
       " array(241),\n",
       " array(120),\n",
       " array(0),\n",
       " array(80),\n",
       " array(80),\n",
       " array(80),\n",
       " array(48),\n",
       " array(109),\n",
       " array(218),\n",
       " array(180),\n",
       " array(147),\n",
       " array(39),\n",
       " array(79),\n",
       " array(94),\n",
       " array(188),\n",
       " array(120),\n",
       " array(49),\n",
       " array(32),\n",
       " array(32),\n",
       " ...]"
      ]
     },
     "execution_count": 21,
     "metadata": {},
     "output_type": "execute_result"
    }
   ],
   "source": [
    "images"
   ]
  }
 ],
 "metadata": {
  "kernelspec": {
   "display_name": "base",
   "language": "python",
   "name": "python3"
  },
  "language_info": {
   "codemirror_mode": {
    "name": "ipython",
    "version": 3
   },
   "file_extension": ".py",
   "mimetype": "text/x-python",
   "name": "python",
   "nbconvert_exporter": "python",
   "pygments_lexer": "ipython3",
   "version": "3.9.12"
  },
  "orig_nbformat": 4
 },
 "nbformat": 4,
 "nbformat_minor": 2
}
